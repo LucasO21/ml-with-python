{
 "cells": [
  {
   "cell_type": "markdown",
   "id": "3630b491",
   "metadata": {},
   "source": [
    "### Notebook Settings"
   ]
  },
  {
   "cell_type": "code",
   "execution_count": 219,
   "id": "477f13e2",
   "metadata": {},
   "outputs": [
    {
     "data": {
      "text/html": [
       "<style>.container { width:70% !important; }</style>"
      ],
      "text/plain": [
       "<IPython.core.display.HTML object>"
      ]
     },
     "metadata": {},
     "output_type": "display_data"
    }
   ],
   "source": [
    "# Increase width of cells\n",
    "from IPython.display import display, HTML\n",
    "display(HTML(\"<style>.container { width:70% !important; }</style>\"))\n",
    "\n",
    "\n",
    "# set working directory\n",
    "import os\n",
    "curr_dir = os.getcwd()\n",
    "os.chdir(curr_dir)"
   ]
  },
  {
   "cell_type": "markdown",
   "id": "0367d822",
   "metadata": {},
   "source": [
    "### Package Imports\n"
   ]
  },
  {
   "cell_type": "code",
   "execution_count": 282,
   "id": "7332e632",
   "metadata": {},
   "outputs": [],
   "source": [
    "# core\n",
    "import pandas as pd\n",
    "import numpy as np\n",
    "import seaborn as sns\n",
    "import matplotlib.pyplot as plt\n",
    "pd.set_option('display.max_columns', 100)\n",
    "\n",
    "# feature selection\n",
    "\n",
    "# data preprocessing\n",
    "from sklearn.model_selection import train_test_split\n",
    "\n",
    "# modeling"
   ]
  },
  {
   "cell_type": "markdown",
   "id": "bbf870c9",
   "metadata": {},
   "source": [
    "### Load Data"
   ]
  },
  {
   "cell_type": "code",
   "execution_count": 221,
   "id": "ce2f5386",
   "metadata": {},
   "outputs": [
    {
     "data": {
      "text/plain": [
       "(2197, 82)"
      ]
     },
     "execution_count": 221,
     "metadata": {},
     "output_type": "execute_result"
    }
   ],
   "source": [
    "# load data\n",
    "df = pd.read_pickle('../data/aimes_train_data.pkl')\n",
    "df.shape"
   ]
  },
  {
   "cell_type": "code",
   "execution_count": 222,
   "id": "6cb99fe0",
   "metadata": {
    "scrolled": true
   },
   "outputs": [
    {
     "data": {
      "text/html": [
       "<div>\n",
       "<style scoped>\n",
       "    .dataframe tbody tr th:only-of-type {\n",
       "        vertical-align: middle;\n",
       "    }\n",
       "\n",
       "    .dataframe tbody tr th {\n",
       "        vertical-align: top;\n",
       "    }\n",
       "\n",
       "    .dataframe thead th {\n",
       "        text-align: right;\n",
       "    }\n",
       "</style>\n",
       "<table border=\"1\" class=\"dataframe\">\n",
       "  <thead>\n",
       "    <tr style=\"text-align: right;\">\n",
       "      <th></th>\n",
       "      <th>order</th>\n",
       "      <th>pid</th>\n",
       "      <th>ms_subclass</th>\n",
       "      <th>ms_zoning</th>\n",
       "      <th>lot_frontage</th>\n",
       "      <th>lot_area</th>\n",
       "      <th>street</th>\n",
       "      <th>alley</th>\n",
       "      <th>lot_shape</th>\n",
       "      <th>land_contour</th>\n",
       "      <th>...</th>\n",
       "      <th>pool_area</th>\n",
       "      <th>pool_qc</th>\n",
       "      <th>fence</th>\n",
       "      <th>misc_feature</th>\n",
       "      <th>misc_val</th>\n",
       "      <th>mo_sold</th>\n",
       "      <th>yr_sold</th>\n",
       "      <th>sale_type</th>\n",
       "      <th>sale_condition</th>\n",
       "      <th>saleprice</th>\n",
       "    </tr>\n",
       "  </thead>\n",
       "  <tbody>\n",
       "    <tr>\n",
       "      <th>0</th>\n",
       "      <td>534</td>\n",
       "      <td>531363010</td>\n",
       "      <td>20</td>\n",
       "      <td>RL</td>\n",
       "      <td>80.0</td>\n",
       "      <td>9605</td>\n",
       "      <td>Pave</td>\n",
       "      <td>NaN</td>\n",
       "      <td>Reg</td>\n",
       "      <td>Lvl</td>\n",
       "      <td>...</td>\n",
       "      <td>0</td>\n",
       "      <td>NaN</td>\n",
       "      <td>NaN</td>\n",
       "      <td>NaN</td>\n",
       "      <td>0</td>\n",
       "      <td>4</td>\n",
       "      <td>2009</td>\n",
       "      <td>WD</td>\n",
       "      <td>Normal</td>\n",
       "      <td>159000</td>\n",
       "    </tr>\n",
       "    <tr>\n",
       "      <th>1</th>\n",
       "      <td>803</td>\n",
       "      <td>906203120</td>\n",
       "      <td>20</td>\n",
       "      <td>RL</td>\n",
       "      <td>90.0</td>\n",
       "      <td>14684</td>\n",
       "      <td>Pave</td>\n",
       "      <td>NaN</td>\n",
       "      <td>IR1</td>\n",
       "      <td>Lvl</td>\n",
       "      <td>...</td>\n",
       "      <td>0</td>\n",
       "      <td>NaN</td>\n",
       "      <td>NaN</td>\n",
       "      <td>NaN</td>\n",
       "      <td>0</td>\n",
       "      <td>6</td>\n",
       "      <td>2009</td>\n",
       "      <td>WD</td>\n",
       "      <td>Normal</td>\n",
       "      <td>271900</td>\n",
       "    </tr>\n",
       "    <tr>\n",
       "      <th>2</th>\n",
       "      <td>956</td>\n",
       "      <td>916176030</td>\n",
       "      <td>20</td>\n",
       "      <td>RL</td>\n",
       "      <td>NaN</td>\n",
       "      <td>14375</td>\n",
       "      <td>Pave</td>\n",
       "      <td>NaN</td>\n",
       "      <td>IR1</td>\n",
       "      <td>Lvl</td>\n",
       "      <td>...</td>\n",
       "      <td>0</td>\n",
       "      <td>NaN</td>\n",
       "      <td>NaN</td>\n",
       "      <td>NaN</td>\n",
       "      <td>0</td>\n",
       "      <td>1</td>\n",
       "      <td>2009</td>\n",
       "      <td>COD</td>\n",
       "      <td>Abnorml</td>\n",
       "      <td>137500</td>\n",
       "    </tr>\n",
       "    <tr>\n",
       "      <th>3</th>\n",
       "      <td>460</td>\n",
       "      <td>528180130</td>\n",
       "      <td>120</td>\n",
       "      <td>RL</td>\n",
       "      <td>48.0</td>\n",
       "      <td>6472</td>\n",
       "      <td>Pave</td>\n",
       "      <td>NaN</td>\n",
       "      <td>Reg</td>\n",
       "      <td>Lvl</td>\n",
       "      <td>...</td>\n",
       "      <td>0</td>\n",
       "      <td>NaN</td>\n",
       "      <td>NaN</td>\n",
       "      <td>NaN</td>\n",
       "      <td>0</td>\n",
       "      <td>4</td>\n",
       "      <td>2009</td>\n",
       "      <td>WD</td>\n",
       "      <td>Normal</td>\n",
       "      <td>248500</td>\n",
       "    </tr>\n",
       "    <tr>\n",
       "      <th>4</th>\n",
       "      <td>487</td>\n",
       "      <td>528290030</td>\n",
       "      <td>80</td>\n",
       "      <td>RL</td>\n",
       "      <td>61.0</td>\n",
       "      <td>9734</td>\n",
       "      <td>Pave</td>\n",
       "      <td>NaN</td>\n",
       "      <td>IR1</td>\n",
       "      <td>Lvl</td>\n",
       "      <td>...</td>\n",
       "      <td>0</td>\n",
       "      <td>NaN</td>\n",
       "      <td>NaN</td>\n",
       "      <td>NaN</td>\n",
       "      <td>0</td>\n",
       "      <td>5</td>\n",
       "      <td>2009</td>\n",
       "      <td>WD</td>\n",
       "      <td>Normal</td>\n",
       "      <td>167000</td>\n",
       "    </tr>\n",
       "  </tbody>\n",
       "</table>\n",
       "<p>5 rows × 82 columns</p>\n",
       "</div>"
      ],
      "text/plain": [
       "   order        pid  ms_subclass ms_zoning  lot_frontage  lot_area street  \\\n",
       "0    534  531363010           20        RL          80.0      9605   Pave   \n",
       "1    803  906203120           20        RL          90.0     14684   Pave   \n",
       "2    956  916176030           20        RL           NaN     14375   Pave   \n",
       "3    460  528180130          120        RL          48.0      6472   Pave   \n",
       "4    487  528290030           80        RL          61.0      9734   Pave   \n",
       "\n",
       "  alley lot_shape land_contour  ... pool_area pool_qc fence misc_feature  \\\n",
       "0   NaN       Reg          Lvl  ...         0     NaN   NaN          NaN   \n",
       "1   NaN       IR1          Lvl  ...         0     NaN   NaN          NaN   \n",
       "2   NaN       IR1          Lvl  ...         0     NaN   NaN          NaN   \n",
       "3   NaN       Reg          Lvl  ...         0     NaN   NaN          NaN   \n",
       "4   NaN       IR1          Lvl  ...         0     NaN   NaN          NaN   \n",
       "\n",
       "  misc_val mo_sold yr_sold sale_type  sale_condition  saleprice  \n",
       "0        0       4    2009       WD           Normal     159000  \n",
       "1        0       6    2009       WD           Normal     271900  \n",
       "2        0       1    2009       COD         Abnorml     137500  \n",
       "3        0       4    2009       WD           Normal     248500  \n",
       "4        0       5    2009       WD           Normal     167000  \n",
       "\n",
       "[5 rows x 82 columns]"
      ]
     },
     "execution_count": 222,
     "metadata": {},
     "output_type": "execute_result"
    }
   ],
   "source": [
    "# head\n",
    "df.head()"
   ]
  },
  {
   "cell_type": "markdown",
   "id": "16c3b3e5",
   "metadata": {},
   "source": [
    "__Observation:__ At first glance, we can see that *order* and *pid* are not really useful for predicting house prices so we can go ahead and drop those features."
   ]
  },
  {
   "cell_type": "markdown",
   "id": "07f5373d",
   "metadata": {},
   "source": [
    "## Data Inspection"
   ]
  },
  {
   "cell_type": "code",
   "execution_count": 223,
   "id": "e47f3801",
   "metadata": {},
   "outputs": [
    {
     "data": {
      "text/plain": [
       "lot_frontage      0.164770\n",
       "alley             0.934911\n",
       "mas_vnr_type      0.010014\n",
       "mas_vnr_area      0.010014\n",
       "bsmt_qual         0.030496\n",
       "bsmt_cond         0.030496\n",
       "bsmt_exposure     0.031406\n",
       "bsmtfin_type_1    0.030496\n",
       "bsmtfin_sf_1      0.000455\n",
       "bsmtfin_type_2    0.030951\n",
       "bsmtfin_sf_2      0.000455\n",
       "bsmt_unf_sf       0.000455\n",
       "total_bsmt_sf     0.000455\n",
       "electrical        0.000455\n",
       "bsmt_full_bath    0.000455\n",
       "bsmt_half_bath    0.000455\n",
       "fireplace_qu      0.485207\n",
       "garage_type       0.054620\n",
       "garage_yr_blt     0.055530\n",
       "garage_finish     0.055530\n",
       "garage_cars       0.000455\n",
       "garage_area       0.000455\n",
       "garage_qual       0.055530\n",
       "garage_cond       0.055530\n",
       "pool_qc           0.994538\n",
       "fence             0.809285\n",
       "misc_feature      0.963587\n",
       "dtype: float64"
      ]
     },
     "execution_count": 223,
     "metadata": {},
     "output_type": "execute_result"
    }
   ],
   "source": [
    "# check for null values\n",
    "nulls = []\n",
    "for feature in df.columns:\n",
    "    if df[feature].isnull().sum() > 0:\n",
    "        nulls.append(feature)\n",
    "\n",
    "features_with_nulls_df = df[nulls].isnull().sum() / len(df)\n",
    "features_with_nulls_df"
   ]
  },
  {
   "cell_type": "code",
   "execution_count": 14,
   "id": "5dffb668",
   "metadata": {},
   "outputs": [
    {
     "data": {
      "text/plain": [
       "['alley', 'fireplace_qu', 'pool_qc', 'fence', 'misc_feature', 'order', 'pid']"
      ]
     },
     "execution_count": 14,
     "metadata": {},
     "output_type": "execute_result"
    }
   ],
   "source": [
    "# get list of features to drop\n",
    "# 1: features with null proportion of null values >= 0.2\n",
    "# 2: order and pid can also be dropped\n",
    "\n",
    "features_to_drop_names = features_with_nulls_df[features_with_nulls_df >= 0.2].index.tolist()\n",
    "features_to_drop_names.extend(['order', 'pid'])\n",
    "features_to_drop_names"
   ]
  },
  {
   "cell_type": "code",
   "execution_count": 224,
   "id": "04c0e87c",
   "metadata": {},
   "outputs": [
    {
     "data": {
      "text/plain": [
       "(2197, 75)"
      ]
     },
     "execution_count": 224,
     "metadata": {},
     "output_type": "execute_result"
    }
   ],
   "source": [
    "# drop unwanted features\n",
    "df.drop(features_to_drop_names, axis=1, inplace=True)\n",
    "df.shape"
   ]
  },
  {
   "cell_type": "markdown",
   "id": "7ef2f3c4",
   "metadata": {},
   "source": [
    "## Train Test Split"
   ]
  },
  {
   "cell_type": "code",
   "execution_count": 225,
   "id": "7afc2045",
   "metadata": {},
   "outputs": [],
   "source": [
    "# get x and y features\n",
    "X = df.drop('saleprice', axis=1)\n",
    "y = df['saleprice']"
   ]
  },
  {
   "cell_type": "code",
   "execution_count": 226,
   "id": "e5f8ca54",
   "metadata": {},
   "outputs": [
    {
     "data": {
      "text/plain": [
       "((1537, 74), (660, 74))"
      ]
     },
     "execution_count": 226,
     "metadata": {},
     "output_type": "execute_result"
    }
   ],
   "source": [
    "# train test split\n",
    "X_train, X_test, y_train, y_test = train_test_split(X, y, test_size=0.3, random_state=100)\n",
    "X_train.shape, X_test.shape"
   ]
  },
  {
   "cell_type": "code",
   "execution_count": 227,
   "id": "bd21e9db",
   "metadata": {},
   "outputs": [],
   "source": [
    "# make copy of X_train and X_test\n",
    "X_train_copy = X_train.copy()\n",
    "X_test_copy = X_test.copy()"
   ]
  },
  {
   "cell_type": "code",
   "execution_count": 228,
   "id": "3219b7d1",
   "metadata": {},
   "outputs": [
    {
     "name": "stdout",
     "output_type": "stream",
     "text": [
      "<class 'pandas.core.frame.DataFrame'>\n",
      "Int64Index: 660 entries, 1663 to 1131\n",
      "Data columns (total 74 columns):\n",
      " #   Column           Non-Null Count  Dtype  \n",
      "---  ------           --------------  -----  \n",
      " 0   ms_subclass      660 non-null    int64  \n",
      " 1   ms_zoning        660 non-null    object \n",
      " 2   lot_frontage     540 non-null    float64\n",
      " 3   lot_area         660 non-null    int64  \n",
      " 4   street           660 non-null    object \n",
      " 5   lot_shape        660 non-null    object \n",
      " 6   land_contour     660 non-null    object \n",
      " 7   utilities        660 non-null    object \n",
      " 8   lot_config       660 non-null    object \n",
      " 9   land_slope       660 non-null    object \n",
      " 10  neighborhood     660 non-null    object \n",
      " 11  condition_1      660 non-null    object \n",
      " 12  condition_2      660 non-null    object \n",
      " 13  bldg_type        660 non-null    object \n",
      " 14  house_style      660 non-null    object \n",
      " 15  overall_qual     660 non-null    int64  \n",
      " 16  overall_cond     660 non-null    int64  \n",
      " 17  year_built       660 non-null    int64  \n",
      " 18  year_remod/add   660 non-null    int64  \n",
      " 19  roof_style       660 non-null    object \n",
      " 20  roof_matl        660 non-null    object \n",
      " 21  exterior_1st     660 non-null    object \n",
      " 22  exterior_2nd     660 non-null    object \n",
      " 23  mas_vnr_type     654 non-null    object \n",
      " 24  mas_vnr_area     654 non-null    float64\n",
      " 25  exter_qual       660 non-null    object \n",
      " 26  exter_cond       660 non-null    object \n",
      " 27  foundation       660 non-null    object \n",
      " 28  bsmt_qual        639 non-null    object \n",
      " 29  bsmt_cond        639 non-null    object \n",
      " 30  bsmt_exposure    639 non-null    object \n",
      " 31  bsmtfin_type_1   639 non-null    object \n",
      " 32  bsmtfin_sf_1     660 non-null    float64\n",
      " 33  bsmtfin_type_2   639 non-null    object \n",
      " 34  bsmtfin_sf_2     660 non-null    float64\n",
      " 35  bsmt_unf_sf      660 non-null    float64\n",
      " 36  total_bsmt_sf    660 non-null    float64\n",
      " 37  heating          660 non-null    object \n",
      " 38  heating_qc       660 non-null    object \n",
      " 39  central_air      660 non-null    object \n",
      " 40  electrical       660 non-null    object \n",
      " 41  1st_flr_sf       660 non-null    int64  \n",
      " 42  2nd_flr_sf       660 non-null    int64  \n",
      " 43  low_qual_fin_sf  660 non-null    int64  \n",
      " 44  gr_liv_area      660 non-null    int64  \n",
      " 45  bsmt_full_bath   660 non-null    float64\n",
      " 46  bsmt_half_bath   660 non-null    float64\n",
      " 47  full_bath        660 non-null    int64  \n",
      " 48  half_bath        660 non-null    int64  \n",
      " 49  bedroom_abvgr    660 non-null    int64  \n",
      " 50  kitchen_abvgr    660 non-null    int64  \n",
      " 51  kitchen_qual     660 non-null    object \n",
      " 52  totrms_abvgrd    660 non-null    int64  \n",
      " 53  functional       660 non-null    object \n",
      " 54  fireplaces       660 non-null    int64  \n",
      " 55  garage_type      622 non-null    object \n",
      " 56  garage_yr_blt    621 non-null    float64\n",
      " 57  garage_finish    621 non-null    object \n",
      " 58  garage_cars      660 non-null    float64\n",
      " 59  garage_area      660 non-null    float64\n",
      " 60  garage_qual      621 non-null    object \n",
      " 61  garage_cond      621 non-null    object \n",
      " 62  paved_drive      660 non-null    object \n",
      " 63  wood_deck_sf     660 non-null    int64  \n",
      " 64  open_porch_sf    660 non-null    int64  \n",
      " 65  enclosed_porch   660 non-null    int64  \n",
      " 66  3ssn_porch       660 non-null    int64  \n",
      " 67  screen_porch     660 non-null    int64  \n",
      " 68  pool_area        660 non-null    int64  \n",
      " 69  misc_val         660 non-null    int64  \n",
      " 70  mo_sold          660 non-null    int64  \n",
      " 71  yr_sold          660 non-null    int64  \n",
      " 72  sale_type        660 non-null    object \n",
      " 73  sale_condition   660 non-null    object \n",
      "dtypes: float64(11), int64(25), object(38)\n",
      "memory usage: 386.7+ KB\n"
     ]
    }
   ],
   "source": [
    "X_test.info()"
   ]
  },
  {
   "cell_type": "markdown",
   "id": "625d3125",
   "metadata": {},
   "source": [
    "## Data Cleaning"
   ]
  },
  {
   "cell_type": "markdown",
   "id": "8e36a378",
   "metadata": {},
   "source": [
    "### Missing Value Imputation"
   ]
  },
  {
   "cell_type": "code",
   "execution_count": 229,
   "id": "901a30a4",
   "metadata": {},
   "outputs": [],
   "source": [
    "# import \n",
    "from feature_engine.imputation import MeanMedianImputer, CategoricalImputer\n",
    "from sklearn.pipeline import Pipeline"
   ]
  },
  {
   "cell_type": "code",
   "execution_count": 230,
   "id": "c509079b",
   "metadata": {},
   "outputs": [],
   "source": [
    "# separate feature names\n",
    "num_feature_names = X_train.select_dtypes(exclude='object').columns.tolist()\n",
    "cat_feature_names = X_train.select_dtypes(include='object').columns.tolist()"
   ]
  },
  {
   "cell_type": "code",
   "execution_count": 231,
   "id": "bbfc2692",
   "metadata": {
    "scrolled": true
   },
   "outputs": [],
   "source": [
    "# create imputers\n",
    "num_imputer = MeanMedianImputer(imputation_method='median', variables=num_feature_names)\n",
    "cat_imputer = CategoricalImputer(imputation_method='frequent', variables=cat_feature_names)"
   ]
  },
  {
   "cell_type": "code",
   "execution_count": 232,
   "id": "963bb40a",
   "metadata": {},
   "outputs": [],
   "source": [
    "# imputer pipeline\n",
    "imputer_pipe = Pipeline([\n",
    "    ('num_imputer', num_imputer),\n",
    "    ('cat_imputer', cat_imputer)\n",
    "])"
   ]
  },
  {
   "cell_type": "code",
   "execution_count": 233,
   "id": "82aceb3b",
   "metadata": {},
   "outputs": [
    {
     "data": {
      "text/plain": [
       "((1537, 74), (660, 74))"
      ]
     },
     "execution_count": 233,
     "metadata": {},
     "output_type": "execute_result"
    }
   ],
   "source": [
    "# fit imputer pipeline to train data\n",
    "imputer_pipe.fit(X_train)\n",
    "\n",
    "# transform test data\n",
    "X_train = imputer_pipe.transform(X_train)\n",
    "X_test = imputer_pipe.transform(X_test)\n",
    "\n",
    "X_train.shape, X_test.shape"
   ]
  },
  {
   "cell_type": "markdown",
   "id": "d52cc050",
   "metadata": {},
   "source": [
    "## Feature Selection"
   ]
  },
  {
   "cell_type": "markdown",
   "id": "74bfa1a4",
   "metadata": {},
   "source": [
    "### Feature Selection Data Prep"
   ]
  },
  {
   "cell_type": "markdown",
   "id": "1ec27725",
   "metadata": {},
   "source": [
    "#### Categorical Feature Encoding"
   ]
  },
  {
   "cell_type": "code",
   "execution_count": 239,
   "id": "0bfd1152",
   "metadata": {},
   "outputs": [],
   "source": [
    "# imports\n",
    "from feature_engine.encoding import OrdinalEncoder, RareLabelEncoder"
   ]
  },
  {
   "cell_type": "code",
   "execution_count": 301,
   "id": "a7fdd1a9",
   "metadata": {},
   "outputs": [],
   "source": [
    "# encode categorical featues\n",
    "cat_encode_pipe = Pipeline([\n",
    "    ('rare_label_enc', RareLabelEncoder(tol=0.05, n_categories=4, variables=cat_feature_names)),\n",
    "    ('ordinal_enc', OrdinalEncoder(encoding_method='arbitrary'))\n",
    "])"
   ]
  },
  {
   "cell_type": "code",
   "execution_count": 302,
   "id": "ddedf47a",
   "metadata": {
    "scrolled": true
   },
   "outputs": [
    {
     "name": "stderr",
     "output_type": "stream",
     "text": [
      "C:\\Users\\lokwudishu\\Anaconda3\\envs\\hubspot\\lib\\site-packages\\feature_engine\\encoding\\rare_label.py:161: UserWarning: The number of unique categories for variable street is less than that indicated in n_categories. Thus, all categories will be considered frequent\n",
      "  warnings.warn(\n",
      "C:\\Users\\lokwudishu\\Anaconda3\\envs\\hubspot\\lib\\site-packages\\feature_engine\\encoding\\rare_label.py:161: UserWarning: The number of unique categories for variable lot_shape is less than that indicated in n_categories. Thus, all categories will be considered frequent\n",
      "  warnings.warn(\n",
      "C:\\Users\\lokwudishu\\Anaconda3\\envs\\hubspot\\lib\\site-packages\\feature_engine\\encoding\\rare_label.py:161: UserWarning: The number of unique categories for variable land_contour is less than that indicated in n_categories. Thus, all categories will be considered frequent\n",
      "  warnings.warn(\n",
      "C:\\Users\\lokwudishu\\Anaconda3\\envs\\hubspot\\lib\\site-packages\\feature_engine\\encoding\\rare_label.py:161: UserWarning: The number of unique categories for variable utilities is less than that indicated in n_categories. Thus, all categories will be considered frequent\n",
      "  warnings.warn(\n",
      "C:\\Users\\lokwudishu\\Anaconda3\\envs\\hubspot\\lib\\site-packages\\feature_engine\\encoding\\rare_label.py:161: UserWarning: The number of unique categories for variable land_slope is less than that indicated in n_categories. Thus, all categories will be considered frequent\n",
      "  warnings.warn(\n",
      "C:\\Users\\lokwudishu\\Anaconda3\\envs\\hubspot\\lib\\site-packages\\feature_engine\\encoding\\rare_label.py:161: UserWarning: The number of unique categories for variable exter_qual is less than that indicated in n_categories. Thus, all categories will be considered frequent\n",
      "  warnings.warn(\n",
      "C:\\Users\\lokwudishu\\Anaconda3\\envs\\hubspot\\lib\\site-packages\\feature_engine\\encoding\\rare_label.py:161: UserWarning: The number of unique categories for variable bsmt_exposure is less than that indicated in n_categories. Thus, all categories will be considered frequent\n",
      "  warnings.warn(\n",
      "C:\\Users\\lokwudishu\\Anaconda3\\envs\\hubspot\\lib\\site-packages\\feature_engine\\encoding\\rare_label.py:161: UserWarning: The number of unique categories for variable central_air is less than that indicated in n_categories. Thus, all categories will be considered frequent\n",
      "  warnings.warn(\n",
      "C:\\Users\\lokwudishu\\Anaconda3\\envs\\hubspot\\lib\\site-packages\\feature_engine\\encoding\\rare_label.py:161: UserWarning: The number of unique categories for variable garage_finish is less than that indicated in n_categories. Thus, all categories will be considered frequent\n",
      "  warnings.warn(\n",
      "C:\\Users\\lokwudishu\\Anaconda3\\envs\\hubspot\\lib\\site-packages\\feature_engine\\encoding\\rare_label.py:161: UserWarning: The number of unique categories for variable paved_drive is less than that indicated in n_categories. Thus, all categories will be considered frequent\n",
      "  warnings.warn(\n"
     ]
    },
    {
     "data": {
      "text/plain": [
       "((1537, 74), (660, 74))"
      ]
     },
     "execution_count": 302,
     "metadata": {},
     "output_type": "execute_result"
    }
   ],
   "source": [
    "# fit categorical encoder to train data\n",
    "cat_encode_pipe.fit(X_train)\n",
    "\n",
    "# transform train and test data\n",
    "X_train_enc = cat_encode_pipe.transform(X_train)\n",
    "X_test_enc = cat_encode_pipe.transform(X_test)\n",
    "\n",
    "X_train_enc.shape, X_test_enc.shape"
   ]
  },
  {
   "cell_type": "markdown",
   "id": "c5c19e7b",
   "metadata": {},
   "source": [
    "#### Remove Constants & Qusi-Contants"
   ]
  },
  {
   "cell_type": "code",
   "execution_count": 303,
   "id": "9e3f9ddf",
   "metadata": {},
   "outputs": [],
   "source": [
    "# imports\n",
    "from feature_engine.selection import DropConstantFeatures"
   ]
  },
  {
   "cell_type": "code",
   "execution_count": 304,
   "id": "bc76f06e",
   "metadata": {},
   "outputs": [
    {
     "data": {
      "text/plain": [
       "DropConstantFeatures(tol=0.99)"
      ]
     },
     "execution_count": 304,
     "metadata": {},
     "output_type": "execute_result"
    }
   ],
   "source": [
    "# create selector\n",
    "constants_selector = DropConstantFeatures(tol=0.99, variables=None, missing_values='raise')\n",
    "\n",
    "# fit selector\n",
    "constants_selector.fit(X_train_enc)"
   ]
  },
  {
   "cell_type": "code",
   "execution_count": 305,
   "id": "ad3fa017",
   "metadata": {},
   "outputs": [
    {
     "data": {
      "text/plain": [
       "['street', 'utilities', 'condition_2', 'pool_area']"
      ]
     },
     "execution_count": 305,
     "metadata": {},
     "output_type": "execute_result"
    }
   ],
   "source": [
    "# view constants\n",
    "constants_selector.features_to_drop_"
   ]
  },
  {
   "cell_type": "code",
   "execution_count": 306,
   "id": "90e1e950",
   "metadata": {},
   "outputs": [
    {
     "data": {
      "text/plain": [
       "((1537, 70), (660, 70))"
      ]
     },
     "execution_count": 306,
     "metadata": {},
     "output_type": "execute_result"
    }
   ],
   "source": [
    "# transform train and test data\n",
    "X_train_qc = constants_selector.transform(X_train_enc)\n",
    "X_test_qc = constants_selector.transform(X_test_enc)\n",
    "\n",
    "X_train_qc.shape, X_test_qc.shape"
   ]
  },
  {
   "cell_type": "markdown",
   "id": "8773c162",
   "metadata": {},
   "source": [
    "#### Remove Duplicated Features"
   ]
  },
  {
   "cell_type": "code",
   "execution_count": 307,
   "id": "db1dc4cd",
   "metadata": {},
   "outputs": [],
   "source": [
    "# imports\n",
    "from feature_engine.selection import DropDuplicateFeatures"
   ]
  },
  {
   "cell_type": "code",
   "execution_count": 308,
   "id": "05e5d9f8",
   "metadata": {},
   "outputs": [
    {
     "data": {
      "text/plain": [
       "[]"
      ]
     },
     "execution_count": 308,
     "metadata": {},
     "output_type": "execute_result"
    }
   ],
   "source": [
    "# create duplicate features selector\n",
    "dup_features = DropConstantFeatures(variables=None, missing_values='raise')\n",
    "\n",
    "# fit duplicate features selector to train data\n",
    "dup_features.fit(X_train_qc)\n",
    "\n",
    "# view duplicated features\n",
    "dup_features.features_to_drop_"
   ]
  },
  {
   "cell_type": "markdown",
   "id": "19d43760",
   "metadata": {},
   "source": [
    "__Observation:__ There are no duplicated features to drop."
   ]
  },
  {
   "cell_type": "markdown",
   "id": "b1b845a7",
   "metadata": {},
   "source": [
    "#### Drop Correlated Numeric Features\n"
   ]
  },
  {
   "cell_type": "code",
   "execution_count": 309,
   "id": "57a0763f",
   "metadata": {},
   "outputs": [],
   "source": [
    "# import\n",
    "from feature_engine.selection import SmartCorrelatedSelection\n",
    "from sklearn.ensemble import RandomForestRegressor"
   ]
  },
  {
   "cell_type": "code",
   "execution_count": 310,
   "id": "b493cf3b",
   "metadata": {},
   "outputs": [
    {
     "data": {
      "text/plain": [
       "SmartCorrelatedSelection(cv=5,\n",
       "                         estimator=RandomForestRegressor(max_depth=4,\n",
       "                                                         n_estimators=200,\n",
       "                                                         random_state=42),\n",
       "                         missing_values='raise',\n",
       "                         scoring='neg_mean_absolute_error',\n",
       "                         selection_method='model_performance',\n",
       "                         variables=['ms_subclass', 'ms_zoning', 'lot_frontage',\n",
       "                                    'lot_area', 'lot_shape', 'land_contour',\n",
       "                                    'lot_config', 'land_slope', 'neighborhood',\n",
       "                                    'condition_1', 'bldg_type', 'house_style',\n",
       "                                    'overall_qual', 'overall_cond',\n",
       "                                    'year_built', 'year_remod/add',\n",
       "                                    'roof_style', 'roof_matl', 'exterior_1st',\n",
       "                                    'exterior_2nd', 'mas_vnr_type',\n",
       "                                    'mas_vnr_area', 'exter_qual', 'exter_cond',\n",
       "                                    'foundation', 'bsmt_qual', 'bsmt_cond',\n",
       "                                    'bsmt_exposure', 'bsmtfin_type_1',\n",
       "                                    'bsmtfin_sf_1', ...])"
      ]
     },
     "execution_count": 310,
     "metadata": {},
     "output_type": "execute_result"
    }
   ],
   "source": [
    "# random forest model\n",
    "rf = RandomForestRegressor(n_estimators=200, random_state=42, max_depth=4)\n",
    "\n",
    "# correlation selector\n",
    "corr_selector = SmartCorrelatedSelection(\n",
    "    variables=X_train_qc.select_dtypes(exclude='object').columns.tolist(),\n",
    "    method='pearson',\n",
    "    threshold=0.8,\n",
    "    missing_values='raise',\n",
    "    selection_method='model_performance',\n",
    "    estimator=rf,\n",
    "    scoring='neg_mean_absolute_error',\n",
    "    cv=5\n",
    "\n",
    ")\n",
    "\n",
    "# fit\n",
    "corr_selector.fit(X_train_qc, y_train)"
   ]
  },
  {
   "cell_type": "code",
   "execution_count": 311,
   "id": "ff983a45",
   "metadata": {},
   "outputs": [
    {
     "data": {
      "text/plain": [
       "[{'2nd_flr_sf', 'house_style'},\n",
       " {'exterior_1st', 'exterior_2nd'},\n",
       " {'1st_flr_sf', 'total_bsmt_sf'},\n",
       " {'gr_liv_area', 'totrms_abvgrd'},\n",
       " {'garage_area', 'garage_cars'}]"
      ]
     },
     "execution_count": 311,
     "metadata": {},
     "output_type": "execute_result"
    }
   ],
   "source": [
    "# view correlated feature sets\n",
    "corr_selector.correlated_feature_sets_"
   ]
  },
  {
   "cell_type": "code",
   "execution_count": 312,
   "id": "b473d896",
   "metadata": {},
   "outputs": [
    {
     "data": {
      "text/plain": [
       "['house_style', 'exterior_2nd', '1st_flr_sf', 'totrms_abvgrd', 'garage_area']"
      ]
     },
     "execution_count": 312,
     "metadata": {},
     "output_type": "execute_result"
    }
   ],
   "source": [
    "# view dropped correlated features\n",
    "corr_selector.features_to_drop_"
   ]
  },
  {
   "cell_type": "code",
   "execution_count": 313,
   "id": "2fee672b",
   "metadata": {},
   "outputs": [
    {
     "data": {
      "text/plain": [
       "((1537, 65), (660, 65))"
      ]
     },
     "execution_count": 313,
     "metadata": {},
     "output_type": "execute_result"
    }
   ],
   "source": [
    "# fit correlation selector to train and test sets\n",
    "X_train_corr = corr_selector.transform(X_train_qc)\n",
    "X_test_corr = corr_selector.transform(X_test_qc)\n",
    "\n",
    "X_train_corr.shape, X_test_corr.shape"
   ]
  },
  {
   "cell_type": "markdown",
   "id": "490319de",
   "metadata": {},
   "source": [
    "### Feature Selection Embedded Methods"
   ]
  },
  {
   "cell_type": "markdown",
   "id": "9d62e44c",
   "metadata": {},
   "source": [
    "#### Tree Importance"
   ]
  },
  {
   "cell_type": "code",
   "execution_count": 314,
   "id": "90513d6b",
   "metadata": {},
   "outputs": [],
   "source": [
    "# import\n",
    "from sklearn.feature_selection import SelectFromModel, SelectKBest"
   ]
  },
  {
   "cell_type": "code",
   "execution_count": 315,
   "id": "bf553df5",
   "metadata": {},
   "outputs": [
    {
     "data": {
      "text/plain": [
       "Index(['overall_qual', 'year_built', 'total_bsmt_sf', 'gr_liv_area',\n",
       "       'screen_porch'],\n",
       "      dtype='object')"
      ]
     },
     "execution_count": 315,
     "metadata": {},
     "output_type": "execute_result"
    }
   ],
   "source": [
    "# create selector\n",
    "ti_selector = SelectFromModel(RandomForestRegressor(n_estimators=100, max_depth=4, random_state=42))\n",
    "\n",
    "# fit selector\n",
    "ti_selector.fit(X_train_corr, y_train)\n",
    "\n",
    "# view selected features\n",
    "ti_selected_features = X_train_corr.columns[(ti_selector.get_support())]\n",
    "ti_selected_features"
   ]
  },
  {
   "cell_type": "code",
   "execution_count": 316,
   "id": "aa21a1d9",
   "metadata": {},
   "outputs": [
    {
     "data": {
      "text/plain": [
       "((1537, 5), (660, 5))"
      ]
     },
     "execution_count": 316,
     "metadata": {},
     "output_type": "execute_result"
    }
   ],
   "source": [
    "# transform train and test data\n",
    "X_train_ti = X_train_corr[ti_selected_features.tolist()]\n",
    "X_test_ti = X_test_corr[ti_selected_features.tolist()]\n",
    "\n",
    "X_train_ti.shape, X_test_ti.shape"
   ]
  },
  {
   "cell_type": "markdown",
   "id": "1d31668b",
   "metadata": {},
   "source": [
    "#### Recursive Feature Selection"
   ]
  },
  {
   "cell_type": "code",
   "execution_count": 317,
   "id": "de614154",
   "metadata": {},
   "outputs": [],
   "source": [
    "from sklearn.feature_selection import RFE"
   ]
  },
  {
   "cell_type": "code",
   "execution_count": 318,
   "id": "33afb28c",
   "metadata": {},
   "outputs": [
    {
     "data": {
      "text/plain": [
       "Index(['ms_zoning', 'lot_frontage', 'lot_area', 'land_slope', 'neighborhood',\n",
       "       'overall_qual', 'year_built', 'year_remod/add', 'roof_matl',\n",
       "       'exterior_1st', 'mas_vnr_area', 'exter_qual', 'bsmt_qual',\n",
       "       'bsmt_exposure', 'bsmtfin_sf_1', 'bsmt_unf_sf', 'total_bsmt_sf',\n",
       "       'central_air', '2nd_flr_sf', 'gr_liv_area', 'bsmt_full_bath',\n",
       "       'full_bath', 'bedroom_abvgr', 'kitchen_qual', 'fireplaces',\n",
       "       'garage_type', 'garage_finish', 'garage_cars', 'wood_deck_sf',\n",
       "       'open_porch_sf', 'screen_porch', 'mo_sold'],\n",
       "      dtype='object')"
      ]
     },
     "execution_count": 318,
     "metadata": {},
     "output_type": "execute_result"
    }
   ],
   "source": [
    "# create selector\n",
    "rs_selector = RFE(RandomForestRegressor(n_estimators=100, max_depth=4, random_state=42))\n",
    "\n",
    "# fit selector\n",
    "rs_selector.fit(X_train_corr, y_train)\n",
    "\n",
    "# view selected features\n",
    "rs_selected_features = X_train_corr.columns[(rs_selector.get_support())]\n",
    "rs_selected_features"
   ]
  },
  {
   "cell_type": "code",
   "execution_count": 320,
   "id": "d1590ba3",
   "metadata": {},
   "outputs": [
    {
     "data": {
      "text/plain": [
       "((1537, 32), (660, 32))"
      ]
     },
     "execution_count": 320,
     "metadata": {},
     "output_type": "execute_result"
    }
   ],
   "source": [
    "# get train and test sets\n",
    "X_train_rs = X_train_corr[rs_selected_features.tolist()]\n",
    "X_test_rs = X_test_corr[rs_selected_features.tolist()]\n",
    "\n",
    "X_train_rs.shape, X_test_rs.shape"
   ]
  },
  {
   "cell_type": "markdown",
   "id": "a9cde358",
   "metadata": {},
   "source": [
    "#### Lasso Feature Selection"
   ]
  },
  {
   "cell_type": "code",
   "execution_count": 321,
   "id": "25249216",
   "metadata": {},
   "outputs": [],
   "source": [
    "# imports\n",
    "from sklearn.linear_model import Lasso, LinearRegression\n",
    "from sklearn.preprocessing import StandardScaler"
   ]
  },
  {
   "cell_type": "code",
   "execution_count": 322,
   "id": "e82fe56b",
   "metadata": {},
   "outputs": [
    {
     "data": {
      "text/plain": [
       "StandardScaler()"
      ]
     },
     "execution_count": 322,
     "metadata": {},
     "output_type": "execute_result"
    }
   ],
   "source": [
    "# standard scaler\n",
    "sc = StandardScaler()\n",
    "sc.fit(X_train_corr)"
   ]
  },
  {
   "cell_type": "code",
   "execution_count": 323,
   "id": "da5d009e",
   "metadata": {
    "scrolled": true
   },
   "outputs": [
    {
     "data": {
      "text/plain": [
       "Index(['ms_subclass', 'ms_zoning', 'lot_frontage', 'lot_area', 'lot_shape',\n",
       "       'land_contour', 'lot_config', 'land_slope', 'neighborhood',\n",
       "       'condition_1', 'bldg_type', 'overall_qual', 'overall_cond',\n",
       "       'year_built', 'year_remod/add', 'roof_style', 'roof_matl',\n",
       "       'exterior_1st', 'mas_vnr_type', 'mas_vnr_area', 'exter_qual',\n",
       "       'exter_cond', 'foundation', 'bsmt_qual', 'bsmt_exposure',\n",
       "       'bsmtfin_type_1', 'bsmtfin_sf_1', 'bsmtfin_type_2', 'bsmtfin_sf_2',\n",
       "       'total_bsmt_sf', 'heating_qc', 'central_air', '2nd_flr_sf',\n",
       "       'low_qual_fin_sf', 'gr_liv_area', 'bsmt_full_bath', 'bsmt_half_bath',\n",
       "       'full_bath', 'half_bath', 'bedroom_abvgr', 'kitchen_abvgr',\n",
       "       'kitchen_qual', 'functional', 'fireplaces', 'garage_type',\n",
       "       'garage_yr_blt', 'garage_finish', 'garage_cars', 'garage_qual',\n",
       "       'garage_cond', 'paved_drive', 'wood_deck_sf', 'open_porch_sf',\n",
       "       'enclosed_porch', '3ssn_porch', 'screen_porch', 'misc_val', 'mo_sold',\n",
       "       'yr_sold', 'sale_type', 'sale_condition'],\n",
       "      dtype='object')"
      ]
     },
     "execution_count": 323,
     "metadata": {},
     "output_type": "execute_result"
    }
   ],
   "source": [
    "# get selector\n",
    "lasso_selector = SelectFromModel(Lasso(alpha=100))\n",
    "\n",
    "# fit selector\n",
    "lasso_selector.fit(sc.transform(X_train_corr), y_train)\n",
    "\n",
    "# view selected features\n",
    "lasso_selected_features = X_train_corr.columns[(lasso_selector.get_support())]\n",
    "lasso_selected_features"
   ]
  },
  {
   "cell_type": "code",
   "execution_count": 324,
   "id": "99b8f363",
   "metadata": {},
   "outputs": [
    {
     "data": {
      "text/plain": [
       "61"
      ]
     },
     "execution_count": 324,
     "metadata": {},
     "output_type": "execute_result"
    }
   ],
   "source": [
    "# count of selected features\n",
    "len(lasso_selected_features)"
   ]
  },
  {
   "cell_type": "code",
   "execution_count": 325,
   "id": "62a28122",
   "metadata": {},
   "outputs": [
    {
     "data": {
      "text/plain": [
       "((1537, 61), (660, 61))"
      ]
     },
     "execution_count": 325,
     "metadata": {},
     "output_type": "execute_result"
    }
   ],
   "source": [
    "# get train and test sets\n",
    "X_train_lasso = X_train_corr[lasso_selected_features.tolist()]\n",
    "X_test_lasso = X_test_corr[lasso_selected_features.tolist()]\n",
    "\n",
    "X_train_lasso.shape, X_test_lasso.shape"
   ]
  },
  {
   "cell_type": "markdown",
   "id": "93a7113e",
   "metadata": {},
   "source": [
    "### Compare Model Performance"
   ]
  },
  {
   "cell_type": "code",
   "execution_count": 326,
   "id": "e1a4337d",
   "metadata": {},
   "outputs": [],
   "source": [
    "# import\n",
    "from sklearn.model_selection import cross_val_score"
   ]
  },
  {
   "cell_type": "code",
   "execution_count": 327,
   "id": "5f879f5f",
   "metadata": {},
   "outputs": [],
   "source": [
    "# function to build random forest model and compare performance in train and test data\n",
    "\n",
    "def get_random_forest_comparison(x_train, y_train, x_test, y_test, method):\n",
    "    rf = RandomForestRegressor(n_estimators=200, random_state=42, max_depth=4)\n",
    "    train_score = cross_val_score(rf, x_train, y_train, cv=5,  scoring='neg_mean_squared_error')\n",
    "    train_score = np.sqrt(abs(train_score.mean()))\n",
    "        \n",
    "    test_score = cross_val_score(rf, x_test, y_test, cv=5, scoring='neg_mean_squared_error')\n",
    "    test_score = np.sqrt(abs(test_score.mean()))\n",
    "    \n",
    "    print('Feature Selection Method: ', method)\n",
    "    print('------------------------------------------------')\n",
    "    print('Train Set RMSE: ', train_score)\n",
    "    print('Test Set: RMSE', test_score) "
   ]
  },
  {
   "cell_type": "code",
   "execution_count": 328,
   "id": "a8ec92db",
   "metadata": {
    "scrolled": true
   },
   "outputs": [
    {
     "name": "stdout",
     "output_type": "stream",
     "text": [
      "Feature Selection Method:  Correlated Feature Selection\n",
      "------------------------------------------------\n",
      "Train Set RMSE:  31877.45755874098\n",
      "Test Set: RMSE 33385.724257097805\n"
     ]
    }
   ],
   "source": [
    "# correlated features selection\n",
    "get_random_forest_comparison(X_train_corr, y_train, X_test_corr, y_test, method='Correlated Feature Selection')"
   ]
  },
  {
   "cell_type": "code",
   "execution_count": 329,
   "id": "65e73f16",
   "metadata": {},
   "outputs": [
    {
     "name": "stdout",
     "output_type": "stream",
     "text": [
      "Feature Selection Method:  Tree Importance\n",
      "------------------------------------------------\n",
      "Train Set RMSE:  31832.601335170697\n",
      "Test Set: RMSE 33387.93711807962\n"
     ]
    }
   ],
   "source": [
    "# tree importance\n",
    "get_random_forest_comparison(X_train_ti, y_train, X_test_ti.fillna(0), y_test, method='Tree Importance')"
   ]
  },
  {
   "cell_type": "code",
   "execution_count": 201,
   "id": "68bd55b6",
   "metadata": {},
   "outputs": [
    {
     "name": "stdout",
     "output_type": "stream",
     "text": [
      "Feature Selection Method:  Recursive Feature Selection\n",
      "------------------------------------------------\n",
      "Train Set RMSE:  31795.67586603215\n",
      "Test Set: RMSE 33313.12216390058\n"
     ]
    }
   ],
   "source": [
    "# recursive feature selection\n",
    "get_random_forest_comparison(X_train_rs, y_train, X_test_rs.fillna(0), y_test, method='Recursive Feature Selection')"
   ]
  },
  {
   "cell_type": "code",
   "execution_count": 330,
   "id": "c4b261e5",
   "metadata": {},
   "outputs": [
    {
     "name": "stdout",
     "output_type": "stream",
     "text": [
      "Feature Selection Method:  Lasso Feature Selection\n",
      "------------------------------------------------\n",
      "Train Set RMSE:  31858.423447196503\n",
      "Test Set: RMSE 33221.59665143214\n"
     ]
    }
   ],
   "source": [
    "# lasso\n",
    "get_random_forest_comparison(X_train_lasso, y_train, X_test_lasso.fillna(0), y_test, method='Lasso Feature Selection')"
   ]
  },
  {
   "cell_type": "markdown",
   "id": "f0c99e19",
   "metadata": {},
   "source": [
    "## Save Training & Test Feature Lists\n"
   ]
  },
  {
   "cell_type": "code",
   "execution_count": 337,
   "id": "4dbbea9f",
   "metadata": {},
   "outputs": [
    {
     "data": {
      "text/plain": [
       "Index(['ms_zoning', 'lot_frontage', 'lot_area', 'land_slope', 'neighborhood',\n",
       "       'overall_qual', 'year_built', 'year_remod/add', 'roof_matl',\n",
       "       'exterior_1st', 'mas_vnr_area', 'exter_qual', 'bsmt_qual',\n",
       "       'bsmt_exposure', 'bsmtfin_sf_1', 'bsmt_unf_sf', 'total_bsmt_sf',\n",
       "       'central_air', '2nd_flr_sf', 'gr_liv_area', 'bsmt_full_bath',\n",
       "       'full_bath', 'bedroom_abvgr', 'kitchen_qual', 'fireplaces',\n",
       "       'garage_type', 'garage_finish', 'garage_cars', 'wood_deck_sf',\n",
       "       'open_porch_sf', 'screen_porch', 'mo_sold'],\n",
       "      dtype='object')"
      ]
     },
     "execution_count": 337,
     "metadata": {},
     "output_type": "execute_result"
    }
   ],
   "source": [
    "# save recursive feature elimination dataset\n",
    "X_train_rs.columns"
   ]
  },
  {
   "cell_type": "code",
   "execution_count": null,
   "id": "93184a96",
   "metadata": {},
   "outputs": [],
   "source": []
  }
 ],
 "metadata": {
  "kernelspec": {
   "display_name": "Python 3 (ipykernel)",
   "language": "python",
   "name": "python3"
  },
  "language_info": {
   "codemirror_mode": {
    "name": "ipython",
    "version": 3
   },
   "file_extension": ".py",
   "mimetype": "text/x-python",
   "name": "python",
   "nbconvert_exporter": "python",
   "pygments_lexer": "ipython3",
   "version": "3.9.12"
  },
  "toc": {
   "base_numbering": 1,
   "nav_menu": {},
   "number_sections": true,
   "sideBar": true,
   "skip_h1_title": false,
   "title_cell": "Table of Contents",
   "title_sidebar": "Contents",
   "toc_cell": false,
   "toc_position": {},
   "toc_section_display": true,
   "toc_window_display": true
  }
 },
 "nbformat": 4,
 "nbformat_minor": 5
}
