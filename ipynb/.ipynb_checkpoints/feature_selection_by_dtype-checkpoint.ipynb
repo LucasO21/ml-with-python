{
 "cells": [
  {
   "cell_type": "markdown",
   "id": "976000e8",
   "metadata": {},
   "source": [
    "## Categorical Features"
   ]
  },
  {
   "cell_type": "code",
   "execution_count": 1,
   "id": "d4df2669",
   "metadata": {},
   "outputs": [],
   "source": [
    "# imports\n",
    "import pandas as pd\n",
    "import numpy as np"
   ]
  },
  {
   "cell_type": "code",
   "execution_count": 2,
   "id": "20401ede",
   "metadata": {},
   "outputs": [
    {
     "data": {
      "text/plain": [
       "(2197, 82)"
      ]
     },
     "execution_count": 2,
     "metadata": {},
     "output_type": "execute_result"
    }
   ],
   "source": [
    "# load dataset\n",
    "df = pd.read_pickle('../data/aimes_train_data.pkl')\n",
    "df.shape"
   ]
  },
  {
   "cell_type": "code",
   "execution_count": 3,
   "id": "d0fce5a3",
   "metadata": {},
   "outputs": [],
   "source": [
    "# get categorical features and target\n",
    "feature_list = df.select_dtypes(include='object').columns.tolist()\n",
    "feature_list.append('saleprice')"
   ]
  },
  {
   "cell_type": "code",
   "execution_count": 4,
   "id": "219ef234",
   "metadata": {},
   "outputs": [
    {
     "data": {
      "text/plain": [
       "(2197, 44)"
      ]
     },
     "execution_count": 4,
     "metadata": {},
     "output_type": "execute_result"
    }
   ],
   "source": [
    "cat_df = df[feature_list]\n",
    "cat_df.shape"
   ]
  },
  {
   "cell_type": "code",
   "execution_count": 5,
   "id": "0d63980a",
   "metadata": {},
   "outputs": [
    {
     "data": {
      "text/plain": [
       "alley             0.934911\n",
       "mas_vnr_type      0.010014\n",
       "bsmt_qual         0.030496\n",
       "bsmt_cond         0.030496\n",
       "bsmt_exposure     0.031406\n",
       "bsmtfin_type_1    0.030496\n",
       "bsmtfin_type_2    0.030951\n",
       "electrical        0.000455\n",
       "fireplace_qu      0.485207\n",
       "garage_type       0.054620\n",
       "garage_finish     0.055530\n",
       "garage_qual       0.055530\n",
       "garage_cond       0.055530\n",
       "pool_qc           0.994538\n",
       "fence             0.809285\n",
       "misc_feature      0.963587\n",
       "dtype: float64"
      ]
     },
     "execution_count": 5,
     "metadata": {},
     "output_type": "execute_result"
    }
   ],
   "source": [
    "# check for nulls\n",
    "cat_nulls = []\n",
    "for feature in cat_df.columns:\n",
    "    if cat_df[feature].isnull().sum() > 0:\n",
    "        cat_nulls.append(feature)\n",
    "\n",
    "cat_features_with_nulls = cat_df[cat_nulls].isnull().sum() / len(cat_df)\n",
    "cat_features_with_nulls"
   ]
  },
  {
   "cell_type": "code",
   "execution_count": 6,
   "id": "3f771025",
   "metadata": {},
   "outputs": [
    {
     "data": {
      "text/plain": [
       "(2197, 28)"
      ]
     },
     "execution_count": 6,
     "metadata": {},
     "output_type": "execute_result"
    }
   ],
   "source": [
    "# drop categorical features with nulls\n",
    "cat_df = cat_df.drop(cat_nulls, axis=1)\n",
    "cat_df.shape"
   ]
  },
  {
   "cell_type": "code",
   "execution_count": 7,
   "id": "f5e30628",
   "metadata": {},
   "outputs": [
    {
     "data": {
      "text/plain": [
       "(2197, 27)"
      ]
     },
     "execution_count": 7,
     "metadata": {},
     "output_type": "execute_result"
    }
   ],
   "source": [
    "# drop one of exterior\n",
    "cat_df = cat_df.drop('exterior_2nd', axis=1)\n",
    "cat_df.shape"
   ]
  },
  {
   "cell_type": "code",
   "execution_count": 8,
   "id": "1dbe310e",
   "metadata": {
    "scrolled": false
   },
   "outputs": [
    {
     "name": "stdout",
     "output_type": "stream",
     "text": [
      "ms_zoning : 7\n",
      "street : 2\n",
      "lot_shape : 4\n",
      "land_contour : 4\n",
      "utilities : 3\n",
      "lot_config : 5\n",
      "land_slope : 3\n",
      "neighborhood : 28\n",
      "condition_1 : 9\n",
      "condition_2 : 8\n",
      "bldg_type : 5\n",
      "house_style : 8\n",
      "roof_style : 6\n",
      "roof_matl : 8\n",
      "exterior_1st : 16\n",
      "exter_qual : 4\n",
      "exter_cond : 5\n",
      "foundation : 6\n",
      "heating : 6\n",
      "heating_qc : 5\n",
      "central_air : 2\n",
      "kitchen_qual : 5\n",
      "functional : 8\n",
      "paved_drive : 3\n",
      "sale_type : 10\n",
      "sale_condition : 6\n",
      "saleprice : 874\n"
     ]
    }
   ],
   "source": [
    "# view leves of features\n",
    "for feature in cat_df.columns:\n",
    "    print(feature, ':', cat_df[feature].nunique())"
   ]
  },
  {
   "cell_type": "markdown",
   "id": "5734e6db",
   "metadata": {},
   "source": [
    "### Train Test Split"
   ]
  },
  {
   "cell_type": "code",
   "execution_count": 9,
   "id": "1df9c161",
   "metadata": {},
   "outputs": [
    {
     "data": {
      "text/plain": [
       "((1537, 26), (660, 26))"
      ]
     },
     "execution_count": 9,
     "metadata": {},
     "output_type": "execute_result"
    }
   ],
   "source": [
    "# train test split\n",
    "from sklearn.model_selection import train_test_split\n",
    "\n",
    "X = cat_df.drop('saleprice', axis=1)\n",
    "y = cat_df['saleprice']\n",
    "\n",
    "X_train, X_test, y_train, y_test = train_test_split(X, y, test_size=0.3, random_state=42)\n",
    "\n",
    "X_train.shape, X_test.shape"
   ]
  },
  {
   "cell_type": "markdown",
   "id": "c803b229",
   "metadata": {},
   "source": [
    "### Tree Importance Feature Selection"
   ]
  },
  {
   "cell_type": "code",
   "execution_count": 13,
   "id": "7aa4f494",
   "metadata": {},
   "outputs": [],
   "source": [
    "# imports\n",
    "from sklearn.pipeline import Pipeline\n",
    "from feature_engine.encoding import RareLabelEncoder, OrdinalEncoder"
   ]
  },
  {
   "cell_type": "code",
   "execution_count": 14,
   "id": "51ab4057",
   "metadata": {},
   "outputs": [],
   "source": [
    "# encode categorical featues\n",
    "cat_ti_pipe = Pipeline([\n",
    "    ('rare_label_enc', RareLabelEncoder(tol=0.05, n_categories=0)),\n",
    "    ('ordinal_enc', OrdinalEncoder(encoding_method='arbitrary'))\n",
    "])"
   ]
  },
  {
   "cell_type": "code",
   "execution_count": 16,
   "id": "3b6b3fed",
   "metadata": {},
   "outputs": [
    {
     "data": {
      "text/plain": [
       "((1537, 26), (660, 26))"
      ]
     },
     "execution_count": 16,
     "metadata": {},
     "output_type": "execute_result"
    }
   ],
   "source": [
    "# fit and transform train and test data\n",
    "cat_ti_pipe.fit(X_train)\n",
    "\n",
    "X_train_oe_enc = cat_ti_pipe.transform(X_train)\n",
    "X_test_oe_enc = cat_ti_pipe.transform(X_test)\n",
    "\n",
    "X_train_oe_enc.shape, X_test_oe_enc.shape"
   ]
  },
  {
   "cell_type": "code",
   "execution_count": 17,
   "id": "c0f55a4f",
   "metadata": {},
   "outputs": [
    {
     "data": {
      "text/plain": [
       "SelectFromModel(estimator=RandomForestRegressor(n_estimators=10,\n",
       "                                                random_state=42),\n",
       "                threshold='0.5*mean')"
      ]
     },
     "execution_count": 17,
     "metadata": {},
     "output_type": "execute_result"
    }
   ],
   "source": [
    "# rf regressor\n",
    "from sklearn.ensemble import RandomForestRegressor\n",
    "from sklearn.feature_selection import SelectFromModel, SelectKBest\n",
    "\n",
    "ti_selector = SelectFromModel(RandomForestRegressor(n_estimators=10, random_state=42), threshold='0.5*mean')\n",
    "ti_selector.fit(X_train_oe_enc, y_train)"
   ]
  },
  {
   "cell_type": "code",
   "execution_count": 19,
   "id": "b7226399",
   "metadata": {},
   "outputs": [
    {
     "data": {
      "text/plain": [
       "11"
      ]
     },
     "execution_count": 19,
     "metadata": {},
     "output_type": "execute_result"
    }
   ],
   "source": [
    "# count of selected features\n",
    "ti_selected_features = X_train_oe_enc.columns[(ti_selector.get_support())]\n",
    "len(ti_selected_features)"
   ]
  },
  {
   "cell_type": "code",
   "execution_count": 20,
   "id": "3df88ad2",
   "metadata": {},
   "outputs": [
    {
     "data": {
      "text/plain": [
       "Index(['ms_zoning', 'lot_shape', 'lot_config', 'neighborhood', 'bldg_type',\n",
       "       'house_style', 'roof_style', 'exterior_1st', 'exter_qual',\n",
       "       'central_air', 'kitchen_qual'],\n",
       "      dtype='object')"
      ]
     },
     "execution_count": 20,
     "metadata": {},
     "output_type": "execute_result"
    }
   ],
   "source": [
    "# view selected features\n",
    "ti_selected_features"
   ]
  },
  {
   "cell_type": "code",
   "execution_count": 21,
   "id": "99d0b661",
   "metadata": {
    "scrolled": true
   },
   "outputs": [
    {
     "data": {
      "image/png": "[encoded data removed]",
      "text/plain": [
       "<Figure size 432x288 with 1 Axes>"
      ]
     },
     "metadata": {
      "needs_background": "light"
     },
     "output_type": "display_data"
    }
   ],
   "source": [
    "# plot importances\n",
    "ax = pd.Series(ti_selector.estimator_.feature_importances_.ravel()).hist(bins=25)\n",
    "ax.set_xlabel('feature importance');\n",
    "ax.set_ylabel('No. of features');\n",
    "ax.set_title('Histogram of Feature Importance');"
   ]
  },
  {
   "cell_type": "code",
   "execution_count": 22,
   "id": "735cb50a",
   "metadata": {
    "scrolled": true
   },
   "outputs": [
    {
     "data": {
      "text/plain": [
       "((1537, 11), (660, 11))"
      ]
     },
     "execution_count": 22,
     "metadata": {},
     "output_type": "execute_result"
    }
   ],
   "source": [
    "# get train and test set for selected features\n",
    "X_train_ti = X_train_oe_enc[ti_selected_features.tolist()]\n",
    "X_test_ti = X_test_oe_enc[ti_selected_features.tolist()]\n",
    "\n",
    "X_train_ti.shape, X_test_ti.shape"
   ]
  },
  {
   "cell_type": "markdown",
   "id": "b3dc2dc5",
   "metadata": {},
   "source": [
    "### Recursive Feature Selection"
   ]
  },
  {
   "cell_type": "code",
   "execution_count": 23,
   "id": "cb97e6e5",
   "metadata": {},
   "outputs": [],
   "source": [
    "# imports \n",
    "from sklearn.feature_selection import RFE\n",
    "from sklearn.metrics import mean_absolute_error, mean_squared_error"
   ]
  },
  {
   "cell_type": "code",
   "execution_count": 24,
   "id": "796cfc03",
   "metadata": {},
   "outputs": [
    {
     "data": {
      "text/plain": [
       "RFE(estimator=RandomForestRegressor(n_estimators=10, random_state=42),\n",
       "    n_features_to_select=11)"
      ]
     },
     "execution_count": 24,
     "metadata": {},
     "output_type": "execute_result"
    }
   ],
   "source": [
    "# create and fit recursive feature selector\n",
    "rs_selector = RFE(RandomForestRegressor(n_estimators=10, random_state=42), n_features_to_select=11)\n",
    "rs_selector.fit(X_train_oe_enc, y_train)"
   ]
  },
  {
   "cell_type": "code",
   "execution_count": 25,
   "id": "39c4bb1c",
   "metadata": {},
   "outputs": [
    {
     "data": {
      "text/plain": [
       "11"
      ]
     },
     "execution_count": 25,
     "metadata": {},
     "output_type": "execute_result"
    }
   ],
   "source": [
    "# count of selected features\n",
    "rs_selected_features = X_train_oe_enc.columns[(rs_selector.get_support())]\n",
    "len(rs_selected_features)"
   ]
  },
  {
   "cell_type": "code",
   "execution_count": 26,
   "id": "8839b796",
   "metadata": {
    "scrolled": true
   },
   "outputs": [
    {
     "data": {
      "text/plain": [
       "Index(['ms_zoning', 'lot_shape', 'lot_config', 'neighborhood', 'bldg_type',\n",
       "       'house_style', 'roof_style', 'exterior_1st', 'exter_qual', 'heating_qc',\n",
       "       'kitchen_qual'],\n",
       "      dtype='object')"
      ]
     },
     "execution_count": 26,
     "metadata": {},
     "output_type": "execute_result"
    }
   ],
   "source": [
    "rs_selected_features"
   ]
  },
  {
   "cell_type": "code",
   "execution_count": 27,
   "id": "2c5b8621",
   "metadata": {},
   "outputs": [
    {
     "data": {
      "text/plain": [
       "((1537, 11), (660, 11))"
      ]
     },
     "execution_count": 27,
     "metadata": {},
     "output_type": "execute_result"
    }
   ],
   "source": [
    "# get train and test set for selected features\n",
    "X_train_rs = X_train_oe_enc[rs_selected_features.tolist()]\n",
    "X_test_rs = X_test_oe_enc[rs_selected_features.tolist()]\n",
    "\n",
    "X_train_rs.shape, X_test_rs.shape"
   ]
  },
  {
   "cell_type": "markdown",
   "id": "396263c2",
   "metadata": {},
   "source": [
    "### Comparing Model Performance"
   ]
  },
  {
   "cell_type": "code",
   "execution_count": 28,
   "id": "7a766098",
   "metadata": {},
   "outputs": [],
   "source": [
    "# import\n",
    "from sklearn.model_selection import cross_val_score"
   ]
  },
  {
   "cell_type": "code",
   "execution_count": 56,
   "id": "289c8b69",
   "metadata": {},
   "outputs": [],
   "source": [
    "# function to build random forest model and compare performance in train and test data\n",
    "def get_random_forest_comparison(x_train, y_train, x_test, y_test, method):\n",
    "    rf = RandomForestRegressor(n_estimators=200, random_state=42, max_depth=4)\n",
    "    train_score = cross_val_score(rf, x_train, y_train, cv=5,  scoring='neg_mean_squared_error')\n",
    "    train_score = np.sqrt(abs(train_score.mean()))\n",
    "        \n",
    "    test_score = cross_val_score(rf, x_test, y_test, cv=5, scoring='neg_mean_squared_error')\n",
    "    test_score = np.sqrt(abs(test_score.mean()))\n",
    "    \n",
    "    print('Feature Selection Method: ', method)\n",
    "    print('------------------------------------------------')\n",
    "    print('Train Set: ', train_score)\n",
    "    print('Test Set:', test_score) "
   ]
  },
  {
   "cell_type": "code",
   "execution_count": 55,
   "id": "91e07e67",
   "metadata": {},
   "outputs": [
    {
     "name": "stdout",
     "output_type": "stream",
     "text": [
      "Feature Selection Method:  Tree Importance\n",
      "-----------------------------------\n",
      "Train Set:  48659.329019615536\n",
      "Test Set: 52232.98156316733\n"
     ]
    }
   ],
   "source": [
    "# model evaluation using tree importance\n",
    "get_random_forest_comparison(X_train_ti, y_train, X_test_ti, y_test, method='Tree Importance')"
   ]
  },
  {
   "cell_type": "code",
   "execution_count": 57,
   "id": "bf613ab0",
   "metadata": {},
   "outputs": [
    {
     "name": "stdout",
     "output_type": "stream",
     "text": [
      "Feature Selection Method:  Recursive Selection\n",
      "------------------------------------------------\n",
      "Train Set:  48930.14271404432\n",
      "Test Set: 52330.27745369956\n"
     ]
    }
   ],
   "source": [
    "# model evaluation using recursive feature selection\n",
    "get_random_forest_comparison(X_train_rs, y_train, X_test_rs, y_test, method='Recursive Selection')"
   ]
  },
  {
   "cell_type": "code",
   "execution_count": 59,
   "id": "4b3d8ad9",
   "metadata": {
    "scrolled": true
   },
   "outputs": [
    {
     "name": "stdout",
     "output_type": "stream",
     "text": [
      "Feature Selection Method:  No Feature Selection\n",
      "------------------------------------------------\n",
      "Train Set:  48535.220383070286\n",
      "Test Set: 52450.11597241219\n"
     ]
    }
   ],
   "source": [
    "# model evaluation with no feature selection\n",
    "get_random_forest_comparison(X_train_oe_enc, y_train, X_test_oe_enc, y_test, method='No Feature Selection')"
   ]
  },
  {
   "cell_type": "markdown",
   "id": "663c4939",
   "metadata": {},
   "source": [
    "## Numeric Features"
   ]
  },
  {
   "cell_type": "code",
   "execution_count": 66,
   "id": "7da80497",
   "metadata": {},
   "outputs": [
    {
     "data": {
      "text/plain": [
       "(2197, 37)"
      ]
     },
     "execution_count": 66,
     "metadata": {},
     "output_type": "execute_result"
    }
   ],
   "source": [
    "num_df = df.select_dtypes(exclude='object').drop(['order', 'pid'], axis=1)\n",
    "num_df.shape"
   ]
  },
  {
   "cell_type": "code",
   "execution_count": 71,
   "id": "cad6f6de",
   "metadata": {},
   "outputs": [
    {
     "data": {
      "text/plain": [
       "lot_frontage      0.164770\n",
       "mas_vnr_area      0.010014\n",
       "bsmtfin_sf_1      0.000455\n",
       "bsmtfin_sf_2      0.000455\n",
       "bsmt_unf_sf       0.000455\n",
       "total_bsmt_sf     0.000455\n",
       "bsmt_full_bath    0.000455\n",
       "bsmt_half_bath    0.000455\n",
       "garage_yr_blt     0.055530\n",
       "garage_cars       0.000455\n",
       "garage_area       0.000455\n",
       "dtype: float64"
      ]
     },
     "execution_count": 71,
     "metadata": {},
     "output_type": "execute_result"
    }
   ],
   "source": [
    "# check for nulls\n",
    "num_nulls = []\n",
    "for feature in num_df.columns:\n",
    "    if num_df[feature].isnull().sum() > 0:\n",
    "        num_nulls.append(feature)\n",
    "\n",
    "num_features_with_nulls = num_df[num_nulls].isnull().sum() / len(num_df)\n",
    "num_features_with_nulls"
   ]
  },
  {
   "cell_type": "code",
   "execution_count": 68,
   "id": "78b6536a",
   "metadata": {
    "scrolled": true
   },
   "outputs": [
    {
     "name": "stdout",
     "output_type": "stream",
     "text": [
      "<class 'pandas.core.frame.DataFrame'>\n",
      "RangeIndex: 2197 entries, 0 to 2196\n",
      "Data columns (total 37 columns):\n",
      " #   Column           Non-Null Count  Dtype  \n",
      "---  ------           --------------  -----  \n",
      " 0   ms_subclass      2197 non-null   int64  \n",
      " 1   lot_frontage     1835 non-null   float64\n",
      " 2   lot_area         2197 non-null   int64  \n",
      " 3   overall_qual     2197 non-null   int64  \n",
      " 4   overall_cond     2197 non-null   int64  \n",
      " 5   year_built       2197 non-null   int64  \n",
      " 6   year_remod/add   2197 non-null   int64  \n",
      " 7   mas_vnr_area     2175 non-null   float64\n",
      " 8   bsmtfin_sf_1     2196 non-null   float64\n",
      " 9   bsmtfin_sf_2     2196 non-null   float64\n",
      " 10  bsmt_unf_sf      2196 non-null   float64\n",
      " 11  total_bsmt_sf    2196 non-null   float64\n",
      " 12  1st_flr_sf       2197 non-null   int64  \n",
      " 13  2nd_flr_sf       2197 non-null   int64  \n",
      " 14  low_qual_fin_sf  2197 non-null   int64  \n",
      " 15  gr_liv_area      2197 non-null   int64  \n",
      " 16  bsmt_full_bath   2196 non-null   float64\n",
      " 17  bsmt_half_bath   2196 non-null   float64\n",
      " 18  full_bath        2197 non-null   int64  \n",
      " 19  half_bath        2197 non-null   int64  \n",
      " 20  bedroom_abvgr    2197 non-null   int64  \n",
      " 21  kitchen_abvgr    2197 non-null   int64  \n",
      " 22  totrms_abvgrd    2197 non-null   int64  \n",
      " 23  fireplaces       2197 non-null   int64  \n",
      " 24  garage_yr_blt    2075 non-null   float64\n",
      " 25  garage_cars      2196 non-null   float64\n",
      " 26  garage_area      2196 non-null   float64\n",
      " 27  wood_deck_sf     2197 non-null   int64  \n",
      " 28  open_porch_sf    2197 non-null   int64  \n",
      " 29  enclosed_porch   2197 non-null   int64  \n",
      " 30  3ssn_porch       2197 non-null   int64  \n",
      " 31  screen_porch     2197 non-null   int64  \n",
      " 32  pool_area        2197 non-null   int64  \n",
      " 33  misc_val         2197 non-null   int64  \n",
      " 34  mo_sold          2197 non-null   int64  \n",
      " 35  yr_sold          2197 non-null   int64  \n",
      " 36  saleprice        2197 non-null   int64  \n",
      "dtypes: float64(11), int64(26)\n",
      "memory usage: 635.2 KB\n"
     ]
    }
   ],
   "source": [
    "# impute missing values"
   ]
  },
  {
   "cell_type": "markdown",
   "id": "d47b6140",
   "metadata": {},
   "source": [
    "### Train Test Split"
   ]
  },
  {
   "cell_type": "code",
   "execution_count": 72,
   "id": "8b3c14f5",
   "metadata": {},
   "outputs": [
    {
     "data": {
      "text/plain": [
       "((1537, 36), (660, 36))"
      ]
     },
     "execution_count": 72,
     "metadata": {},
     "output_type": "execute_result"
    }
   ],
   "source": [
    "# train test split\n",
    "X_num = num_df.drop('saleprice', axis=1)\n",
    "y_num = num_df['saleprice']\n",
    "\n",
    "X_train_num, X_test_num, y_train_num, y_test_num = train_test_split(X_num, y_num, test_size=0.3, random_state=42)\n",
    "\n",
    "X_train_num.shape, X_test_num.shape"
   ]
  },
  {
   "cell_type": "markdown",
   "id": "c0b950eb",
   "metadata": {},
   "source": [
    "### Missing Value Imputation"
   ]
  },
  {
   "cell_type": "code",
   "execution_count": 81,
   "id": "b6bb65d9",
   "metadata": {},
   "outputs": [],
   "source": [
    "# import \n",
    "from sklearn.impute import SimpleImputer as si\n",
    "\n",
    "# create median imputer\n",
    "si = SimpleImputer(strategy='median')\n",
    "\n",
    "# fit on train set\n",
    "si.fit(X_train_num)\n",
    "\n",
    "# transform train and test set\n",
    "X_train_num = pd.DataFrame(si.transform(X_train_num), columns=X_train_num.columns)\n",
    "X_test_num = pd.DataFrame(si.transform(X_test_num), columns=X_test_num.columns)"
   ]
  },
  {
   "cell_type": "markdown",
   "id": "f3738f28",
   "metadata": {},
   "source": [
    "\n",
    "### Drop Constants"
   ]
  },
  {
   "cell_type": "code",
   "execution_count": 86,
   "id": "27ced5e0",
   "metadata": {},
   "outputs": [
    {
     "data": {
      "text/plain": [
       "['pool_area']"
      ]
     },
     "execution_count": 86,
     "metadata": {},
     "output_type": "execute_result"
    }
   ],
   "source": [
    "# imports\n",
    "from feature_engine.selection import DropConstantFeatures\n",
    "\n",
    "# selector\n",
    "constants_sel = DropConstantFeatures(tol=0.99, variables=None, missing_values='raise')\n",
    "\n",
    "# fit\n",
    "constants_sel.fit(X_train_num)\n",
    "\n",
    "# list of features to drop\n",
    "constants = constants_sel.features_to_drop_\n",
    "constants"
   ]
  },
  {
   "cell_type": "code",
   "execution_count": 87,
   "id": "75bbf6f9",
   "metadata": {},
   "outputs": [
    {
     "data": {
      "text/plain": [
       "((1537, 35), (660, 35))"
      ]
     },
     "execution_count": 87,
     "metadata": {},
     "output_type": "execute_result"
    }
   ],
   "source": [
    "# drop constants from train and test set\n",
    "X_train_num = constants_sel.transform(X_train_num)\n",
    "X_test_num = constants_sel.transform(X_test_num)\n",
    "\n",
    "X_train_num.shape, X_test_num.shape"
   ]
  },
  {
   "cell_type": "markdown",
   "id": "d9d94d81",
   "metadata": {},
   "source": [
    "### Drop Correlated Features"
   ]
  },
  {
   "cell_type": "code",
   "execution_count": 94,
   "id": "d93fed76",
   "metadata": {},
   "outputs": [
    {
     "data": {
      "text/plain": [
       "SmartCorrelatedSelection(cv=5,\n",
       "                         estimator=RandomForestRegressor(max_depth=4,\n",
       "                                                         n_estimators=200,\n",
       "                                                         random_state=42),\n",
       "                         missing_values='raise',\n",
       "                         scoring='neg_mean_absolute_error',\n",
       "                         selection_method='model_performance')"
      ]
     },
     "execution_count": 94,
     "metadata": {},
     "output_type": "execute_result"
    }
   ],
   "source": [
    "# import\n",
    "from feature_engine.selection import SmartCorrelatedSelection\n",
    "\n",
    "# random forest model\n",
    "rf\n",
    "\n",
    "# correlation selector\n",
    "corr_sel = SmartCorrelatedSelection(\n",
    "    variables=None,\n",
    "    method='pearson',\n",
    "    threshold=0.8,\n",
    "    missing_values='raise',\n",
    "    selection_method='model_performance',\n",
    "    estimator=rf,\n",
    "    scoring='neg_mean_absolute_error',\n",
    "    cv=5\n",
    "\n",
    ")\n",
    "\n",
    "# fit\n",
    "corr_sel.fit(X_train_num, y_train_num)"
   ]
  },
  {
   "cell_type": "code",
   "execution_count": 95,
   "id": "c3af073f",
   "metadata": {},
   "outputs": [
    {
     "data": {
      "text/plain": [
       "[{'1st_flr_sf', 'total_bsmt_sf'},\n",
       " {'gr_liv_area', 'totrms_abvgrd'},\n",
       " {'garage_area', 'garage_cars'}]"
      ]
     },
     "execution_count": 95,
     "metadata": {},
     "output_type": "execute_result"
    }
   ],
   "source": [
    "# get groups of correlated features\n",
    "corr_sel.correlated_feature_sets_"
   ]
  },
  {
   "cell_type": "code",
   "execution_count": 96,
   "id": "716ecde9",
   "metadata": {},
   "outputs": [
    {
     "data": {
      "text/plain": [
       "((1537, 32), (660, 32))"
      ]
     },
     "execution_count": 96,
     "metadata": {},
     "output_type": "execute_result"
    }
   ],
   "source": [
    "X_train_num = corr_sel.transform(X_train_num)\n",
    "X_test_num = corr_sel.transform(X_test_num)\n",
    "\n",
    "X_train_num.shape, X_test_num.shape"
   ]
  },
  {
   "cell_type": "markdown",
   "id": "1cbc53e1",
   "metadata": {},
   "source": [
    "### Tree Importance Feature Selection"
   ]
  },
  {
   "cell_type": "code",
   "execution_count": 98,
   "id": "c6e8eca2",
   "metadata": {},
   "outputs": [
    {
     "data": {
      "text/plain": [
       "Index(['lot_area', 'overall_qual', 'total_bsmt_sf', 'gr_liv_area'], dtype='object')"
      ]
     },
     "execution_count": 98,
     "metadata": {},
     "output_type": "execute_result"
    }
   ],
   "source": [
    "# create selector\n",
    "ti_selector_num = SelectFromModel(RandomForestRegressor(n_estimators=100, random_state=42))\n",
    "\n",
    "# fit selector\n",
    "ti_selector_num.fit(X_train_num, y_train_num)\n",
    "\n",
    "# view selected features\n",
    "ti_selected_features_num = X_train_num.columns[(ti_selector_num.get_support())]\n",
    "ti_selected_features_num"
   ]
  },
  {
   "cell_type": "code",
   "execution_count": 99,
   "id": "1d51b21a",
   "metadata": {},
   "outputs": [
    {
     "data": {
      "text/plain": [
       "((1537, 4), (660, 4))"
      ]
     },
     "execution_count": 99,
     "metadata": {},
     "output_type": "execute_result"
    }
   ],
   "source": [
    "# get train and test sets\n",
    "X_train_ti_num = X_train_num[ti_selected_features_num.tolist()]\n",
    "X_test_ti_num = X_test_num[ti_selected_features_num.tolist()]\n",
    "\n",
    "X_train_ti_num.shape, X_test_ti_num.shape"
   ]
  },
  {
   "cell_type": "markdown",
   "id": "33d6b698",
   "metadata": {},
   "source": [
    "### Recursive Feature Selection"
   ]
  },
  {
   "cell_type": "code",
   "execution_count": 100,
   "id": "d934f0f7",
   "metadata": {},
   "outputs": [
    {
     "data": {
      "text/plain": [
       "Index(['lot_frontage', 'lot_area', 'overall_qual', 'year_built',\n",
       "       'year_remod/add', 'mas_vnr_area', 'bsmtfin_sf_1', 'bsmt_unf_sf',\n",
       "       'total_bsmt_sf', '2nd_flr_sf', 'gr_liv_area', 'full_bath',\n",
       "       'garage_yr_blt', 'garage_cars', 'wood_deck_sf', 'open_porch_sf'],\n",
       "      dtype='object')"
      ]
     },
     "execution_count": 100,
     "metadata": {},
     "output_type": "execute_result"
    }
   ],
   "source": [
    "# create selector\n",
    "rs_selector_num = RFE(RandomForestRegressor(n_estimators=100, random_state=42))\n",
    "\n",
    "# fit selector\n",
    "rs_selector_num.fit(X_train_num, y_train_num)\n",
    "\n",
    "# view selected features\n",
    "rs_selected_features_num = X_train_num.columns[(rs_selector_num.get_support())]\n",
    "rs_selected_features_num"
   ]
  },
  {
   "cell_type": "code",
   "execution_count": 101,
   "id": "70dcca4b",
   "metadata": {},
   "outputs": [
    {
     "data": {
      "text/plain": [
       "((1537, 16), (660, 16))"
      ]
     },
     "execution_count": 101,
     "metadata": {},
     "output_type": "execute_result"
    }
   ],
   "source": [
    "# get train and test sets\n",
    "X_train_rs_num = X_train_num[rs_selected_features_num.tolist()]\n",
    "X_test_rs_num = X_test_num[rs_selected_features_num.tolist()]\n",
    "\n",
    "X_train_rs_num.shape, X_test_rs_num.shape"
   ]
  },
  {
   "cell_type": "markdown",
   "id": "b5c2c4d0",
   "metadata": {},
   "source": [
    "### Lasso Feature Selection\n"
   ]
  },
  {
   "cell_type": "code",
   "execution_count": 103,
   "id": "5e19f1c3",
   "metadata": {},
   "outputs": [],
   "source": [
    "# imports\n",
    "from sklearn.linear_model import Lasso, LinearRegression\n",
    "from sklearn.preprocessing import StandardScaler"
   ]
  },
  {
   "cell_type": "code",
   "execution_count": 104,
   "id": "ea14f379",
   "metadata": {},
   "outputs": [
    {
     "data": {
      "text/plain": [
       "StandardScaler()"
      ]
     },
     "execution_count": 104,
     "metadata": {},
     "output_type": "execute_result"
    }
   ],
   "source": [
    "# standard scaler\n",
    "sc = StandardScaler()\n",
    "sc.fit(X_train_num)"
   ]
  },
  {
   "cell_type": "code",
   "execution_count": 105,
   "id": "ab5806b3",
   "metadata": {},
   "outputs": [
    {
     "data": {
      "text/plain": [
       "SelectFromModel(estimator=Lasso(alpha=100))"
      ]
     },
     "execution_count": 105,
     "metadata": {},
     "output_type": "execute_result"
    }
   ],
   "source": [
    "# get selector\n",
    "lasso_sel = SelectFromModel(Lasso(alpha=100))\n",
    "\n",
    "# fit selector\n",
    "lasso_sel.fit(sc.transform(X_train_num), y_train_num)"
   ]
  },
  {
   "cell_type": "code",
   "execution_count": 106,
   "id": "58058cce",
   "metadata": {},
   "outputs": [
    {
     "data": {
      "text/plain": [
       "Index(['ms_subclass', 'lot_frontage', 'lot_area', 'overall_qual',\n",
       "       'overall_cond', 'year_built', 'year_remod/add', 'mas_vnr_area',\n",
       "       'bsmtfin_sf_1', 'bsmtfin_sf_2', 'total_bsmt_sf', '2nd_flr_sf',\n",
       "       'low_qual_fin_sf', 'gr_liv_area', 'bsmt_full_bath', 'bsmt_half_bath',\n",
       "       'full_bath', 'half_bath', 'bedroom_abvgr', 'kitchen_abvgr',\n",
       "       'fireplaces', 'garage_yr_blt', 'garage_cars', 'wood_deck_sf',\n",
       "       'open_porch_sf', 'enclosed_porch', '3ssn_porch', 'screen_porch',\n",
       "       'misc_val', 'yr_sold'],\n",
       "      dtype='object')"
      ]
     },
     "execution_count": 106,
     "metadata": {},
     "output_type": "execute_result"
    }
   ],
   "source": [
    "# view selected features\n",
    "lasso_selected_features_num = X_train_num.columns[(lasso_sel.get_support())]\n",
    "lasso_selected_features_num"
   ]
  },
  {
   "cell_type": "code",
   "execution_count": 107,
   "id": "21f03fa9",
   "metadata": {},
   "outputs": [
    {
     "data": {
      "text/plain": [
       "30"
      ]
     },
     "execution_count": 107,
     "metadata": {},
     "output_type": "execute_result"
    }
   ],
   "source": [
    "len(lasso_selected_features_num)"
   ]
  },
  {
   "cell_type": "code",
   "execution_count": 109,
   "id": "aa13573d",
   "metadata": {},
   "outputs": [
    {
     "data": {
      "text/plain": [
       "((1537, 30), (660, 30))"
      ]
     },
     "execution_count": 109,
     "metadata": {},
     "output_type": "execute_result"
    }
   ],
   "source": [
    "# get train and test sets\n",
    "X_train_lasso_num = X_train_num[lasso_selected_features_num.tolist()]\n",
    "X_test_lasso_num = X_test_num[lasso_selected_features_num.tolist()]\n",
    "\n",
    "X_train_lasso_num.shape, X_test_lasso_num.shape"
   ]
  },
  {
   "cell_type": "markdown",
   "id": "9d3ce527",
   "metadata": {},
   "source": [
    "### Compare Model Performance"
   ]
  },
  {
   "cell_type": "code",
   "execution_count": 110,
   "id": "151f5836",
   "metadata": {},
   "outputs": [
    {
     "name": "stdout",
     "output_type": "stream",
     "text": [
      "Feature Selection Method:  Tree Importance\n",
      "------------------------------------------------\n",
      "Train Set:  34946.493380880864\n",
      "Test Set: 43547.87570686713\n"
     ]
    }
   ],
   "source": [
    "# tree importance\n",
    "get_random_forest_comparison(X_train_ti_num, y_train_num, X_test_ti_num, y_test_num, method='Tree Importance')"
   ]
  },
  {
   "cell_type": "code",
   "execution_count": 111,
   "id": "bfa57d79",
   "metadata": {},
   "outputs": [
    {
     "name": "stdout",
     "output_type": "stream",
     "text": [
      "Feature Selection Method:  Recursive Selection\n",
      "------------------------------------------------\n",
      "Train Set:  34880.01477915459\n",
      "Test Set: 41811.919735329895\n"
     ]
    }
   ],
   "source": [
    "# model evaluation using recursive feature selection\n",
    "get_random_forest_comparison(X_train_rs_num, y_train_num, X_test_rs_num, y_test_num, method='Recursive Selection')"
   ]
  },
  {
   "cell_type": "code",
   "execution_count": 112,
   "id": "0dc6d8dd",
   "metadata": {},
   "outputs": [
    {
     "name": "stdout",
     "output_type": "stream",
     "text": [
      "Feature Selection Method:  Lasso\n",
      "------------------------------------------------\n",
      "Train Set:  34757.0698113707\n",
      "Test Set: 41201.54379281519\n"
     ]
    }
   ],
   "source": [
    "# model evaluation using tree importance\n",
    "get_random_forest_comparison(X_train_lasso_num, y_train_num, X_test_lasso_num, y_test_num, method='Lasso')"
   ]
  },
  {
   "cell_type": "code",
   "execution_count": 113,
   "id": "49046c17",
   "metadata": {},
   "outputs": [
    {
     "name": "stdout",
     "output_type": "stream",
     "text": [
      "181922.06441119063\n",
      "183435.95303030303\n"
     ]
    }
   ],
   "source": [
    "print(y_train_num.mean())\n",
    "print(y_test_num.mean())"
   ]
  },
  {
   "cell_type": "code",
   "execution_count": 116,
   "id": "2f7ec966",
   "metadata": {},
   "outputs": [
    {
     "data": {
      "text/plain": [
       "array([[<AxesSubplot:title={'center':'ms_subclass'}>,\n",
       "        <AxesSubplot:title={'center':'lot_frontage'}>,\n",
       "        <AxesSubplot:title={'center':'lot_area'}>,\n",
       "        <AxesSubplot:title={'center':'overall_qual'}>,\n",
       "        <AxesSubplot:title={'center':'overall_cond'}>,\n",
       "        <AxesSubplot:title={'center':'year_built'}>],\n",
       "       [<AxesSubplot:title={'center':'year_remod/add'}>,\n",
       "        <AxesSubplot:title={'center':'mas_vnr_area'}>,\n",
       "        <AxesSubplot:title={'center':'bsmtfin_sf_1'}>,\n",
       "        <AxesSubplot:title={'center':'bsmtfin_sf_2'}>,\n",
       "        <AxesSubplot:title={'center':'bsmt_unf_sf'}>,\n",
       "        <AxesSubplot:title={'center':'total_bsmt_sf'}>],\n",
       "       [<AxesSubplot:title={'center':'2nd_flr_sf'}>,\n",
       "        <AxesSubplot:title={'center':'low_qual_fin_sf'}>,\n",
       "        <AxesSubplot:title={'center':'gr_liv_area'}>,\n",
       "        <AxesSubplot:title={'center':'bsmt_full_bath'}>,\n",
       "        <AxesSubplot:title={'center':'bsmt_half_bath'}>,\n",
       "        <AxesSubplot:title={'center':'full_bath'}>],\n",
       "       [<AxesSubplot:title={'center':'half_bath'}>,\n",
       "        <AxesSubplot:title={'center':'bedroom_abvgr'}>,\n",
       "        <AxesSubplot:title={'center':'kitchen_abvgr'}>,\n",
       "        <AxesSubplot:title={'center':'fireplaces'}>,\n",
       "        <AxesSubplot:title={'center':'garage_yr_blt'}>,\n",
       "        <AxesSubplot:title={'center':'garage_cars'}>],\n",
       "       [<AxesSubplot:title={'center':'wood_deck_sf'}>,\n",
       "        <AxesSubplot:title={'center':'open_porch_sf'}>,\n",
       "        <AxesSubplot:title={'center':'enclosed_porch'}>,\n",
       "        <AxesSubplot:title={'center':'3ssn_porch'}>,\n",
       "        <AxesSubplot:title={'center':'screen_porch'}>,\n",
       "        <AxesSubplot:title={'center':'misc_val'}>],\n",
       "       [<AxesSubplot:title={'center':'mo_sold'}>,\n",
       "        <AxesSubplot:title={'center':'yr_sold'}>, <AxesSubplot:>,\n",
       "        <AxesSubplot:>, <AxesSubplot:>, <AxesSubplot:>]], dtype=object)"
      ]
     },
     "execution_count": 116,
     "metadata": {},
     "output_type": "execute_result"
    },
    {
     "data": {
      "image/png": "[encoded data removed]",
      "text/plain": [
       "<Figure size 1440x1440 with 36 Axes>"
      ]
     },
     "metadata": {
      "needs_background": "light"
     },
     "output_type": "display_data"
    }
   ],
   "source": [
    "X_train_num.hist(figsize=(20, 20))"
   ]
  },
  {
   "cell_type": "code",
   "execution_count": 117,
   "id": "b0176910",
   "metadata": {},
   "outputs": [
    {
     "data": {
      "text/html": [
       "<div>\n",
       "<style scoped>\n",
       "    .dataframe tbody tr th:only-of-type {\n",
       "        vertical-align: middle;\n",
       "    }\n",
       "\n",
       "    .dataframe tbody tr th {\n",
       "        vertical-align: top;\n",
       "    }\n",
       "\n",
       "    .dataframe thead th {\n",
       "        text-align: right;\n",
       "    }\n",
       "</style>\n",
       "<table border=\"1\" class=\"dataframe\">\n",
       "  <thead>\n",
       "    <tr style=\"text-align: right;\">\n",
       "      <th></th>\n",
       "      <th>ms_zoning</th>\n",
       "      <th>street</th>\n",
       "      <th>lot_shape</th>\n",
       "      <th>land_contour</th>\n",
       "      <th>utilities</th>\n",
       "      <th>lot_config</th>\n",
       "      <th>land_slope</th>\n",
       "      <th>neighborhood</th>\n",
       "      <th>condition_1</th>\n",
       "      <th>condition_2</th>\n",
       "      <th>...</th>\n",
       "      <th>foundation</th>\n",
       "      <th>heating</th>\n",
       "      <th>heating_qc</th>\n",
       "      <th>central_air</th>\n",
       "      <th>kitchen_qual</th>\n",
       "      <th>functional</th>\n",
       "      <th>paved_drive</th>\n",
       "      <th>sale_type</th>\n",
       "      <th>sale_condition</th>\n",
       "      <th>saleprice</th>\n",
       "    </tr>\n",
       "  </thead>\n",
       "  <tbody>\n",
       "    <tr>\n",
       "      <th>0</th>\n",
       "      <td>RL</td>\n",
       "      <td>Pave</td>\n",
       "      <td>Reg</td>\n",
       "      <td>Lvl</td>\n",
       "      <td>AllPub</td>\n",
       "      <td>Corner</td>\n",
       "      <td>Gtl</td>\n",
       "      <td>SawyerW</td>\n",
       "      <td>Norm</td>\n",
       "      <td>Norm</td>\n",
       "      <td>...</td>\n",
       "      <td>PConc</td>\n",
       "      <td>GasA</td>\n",
       "      <td>Ex</td>\n",
       "      <td>Y</td>\n",
       "      <td>Gd</td>\n",
       "      <td>Typ</td>\n",
       "      <td>Y</td>\n",
       "      <td>WD</td>\n",
       "      <td>Normal</td>\n",
       "      <td>159000</td>\n",
       "    </tr>\n",
       "    <tr>\n",
       "      <th>1</th>\n",
       "      <td>RL</td>\n",
       "      <td>Pave</td>\n",
       "      <td>IR1</td>\n",
       "      <td>Lvl</td>\n",
       "      <td>AllPub</td>\n",
       "      <td>CulDSac</td>\n",
       "      <td>Gtl</td>\n",
       "      <td>SawyerW</td>\n",
       "      <td>Norm</td>\n",
       "      <td>Norm</td>\n",
       "      <td>...</td>\n",
       "      <td>CBlock</td>\n",
       "      <td>GasA</td>\n",
       "      <td>Gd</td>\n",
       "      <td>Y</td>\n",
       "      <td>Gd</td>\n",
       "      <td>Typ</td>\n",
       "      <td>Y</td>\n",
       "      <td>WD</td>\n",
       "      <td>Normal</td>\n",
       "      <td>271900</td>\n",
       "    </tr>\n",
       "    <tr>\n",
       "      <th>2</th>\n",
       "      <td>RL</td>\n",
       "      <td>Pave</td>\n",
       "      <td>IR1</td>\n",
       "      <td>Lvl</td>\n",
       "      <td>NoSeWa</td>\n",
       "      <td>CulDSac</td>\n",
       "      <td>Gtl</td>\n",
       "      <td>Timber</td>\n",
       "      <td>Norm</td>\n",
       "      <td>Norm</td>\n",
       "      <td>...</td>\n",
       "      <td>CBlock</td>\n",
       "      <td>GasA</td>\n",
       "      <td>Gd</td>\n",
       "      <td>Y</td>\n",
       "      <td>Gd</td>\n",
       "      <td>Typ</td>\n",
       "      <td>Y</td>\n",
       "      <td>COD</td>\n",
       "      <td>Abnorml</td>\n",
       "      <td>137500</td>\n",
       "    </tr>\n",
       "    <tr>\n",
       "      <th>3</th>\n",
       "      <td>RL</td>\n",
       "      <td>Pave</td>\n",
       "      <td>Reg</td>\n",
       "      <td>Lvl</td>\n",
       "      <td>AllPub</td>\n",
       "      <td>Inside</td>\n",
       "      <td>Gtl</td>\n",
       "      <td>NridgHt</td>\n",
       "      <td>Norm</td>\n",
       "      <td>Norm</td>\n",
       "      <td>...</td>\n",
       "      <td>PConc</td>\n",
       "      <td>GasA</td>\n",
       "      <td>Ex</td>\n",
       "      <td>Y</td>\n",
       "      <td>Ex</td>\n",
       "      <td>Typ</td>\n",
       "      <td>Y</td>\n",
       "      <td>WD</td>\n",
       "      <td>Normal</td>\n",
       "      <td>248500</td>\n",
       "    </tr>\n",
       "    <tr>\n",
       "      <th>4</th>\n",
       "      <td>RL</td>\n",
       "      <td>Pave</td>\n",
       "      <td>IR1</td>\n",
       "      <td>Lvl</td>\n",
       "      <td>AllPub</td>\n",
       "      <td>Inside</td>\n",
       "      <td>Gtl</td>\n",
       "      <td>Gilbert</td>\n",
       "      <td>RRAn</td>\n",
       "      <td>Norm</td>\n",
       "      <td>...</td>\n",
       "      <td>PConc</td>\n",
       "      <td>GasA</td>\n",
       "      <td>Ex</td>\n",
       "      <td>Y</td>\n",
       "      <td>Gd</td>\n",
       "      <td>Typ</td>\n",
       "      <td>Y</td>\n",
       "      <td>WD</td>\n",
       "      <td>Normal</td>\n",
       "      <td>167000</td>\n",
       "    </tr>\n",
       "    <tr>\n",
       "      <th>...</th>\n",
       "      <td>...</td>\n",
       "      <td>...</td>\n",
       "      <td>...</td>\n",
       "      <td>...</td>\n",
       "      <td>...</td>\n",
       "      <td>...</td>\n",
       "      <td>...</td>\n",
       "      <td>...</td>\n",
       "      <td>...</td>\n",
       "      <td>...</td>\n",
       "      <td>...</td>\n",
       "      <td>...</td>\n",
       "      <td>...</td>\n",
       "      <td>...</td>\n",
       "      <td>...</td>\n",
       "      <td>...</td>\n",
       "      <td>...</td>\n",
       "      <td>...</td>\n",
       "      <td>...</td>\n",
       "      <td>...</td>\n",
       "      <td>...</td>\n",
       "    </tr>\n",
       "    <tr>\n",
       "      <th>2192</th>\n",
       "      <td>RL</td>\n",
       "      <td>Pave</td>\n",
       "      <td>IR1</td>\n",
       "      <td>Lvl</td>\n",
       "      <td>AllPub</td>\n",
       "      <td>Inside</td>\n",
       "      <td>Gtl</td>\n",
       "      <td>SawyerW</td>\n",
       "      <td>Norm</td>\n",
       "      <td>Norm</td>\n",
       "      <td>...</td>\n",
       "      <td>PConc</td>\n",
       "      <td>GasA</td>\n",
       "      <td>Ex</td>\n",
       "      <td>Y</td>\n",
       "      <td>Gd</td>\n",
       "      <td>Typ</td>\n",
       "      <td>Y</td>\n",
       "      <td>WD</td>\n",
       "      <td>Abnorml</td>\n",
       "      <td>220000</td>\n",
       "    </tr>\n",
       "    <tr>\n",
       "      <th>2193</th>\n",
       "      <td>RH</td>\n",
       "      <td>Pave</td>\n",
       "      <td>Reg</td>\n",
       "      <td>Lvl</td>\n",
       "      <td>AllPub</td>\n",
       "      <td>Corner</td>\n",
       "      <td>Gtl</td>\n",
       "      <td>SWISU</td>\n",
       "      <td>Norm</td>\n",
       "      <td>Norm</td>\n",
       "      <td>...</td>\n",
       "      <td>PConc</td>\n",
       "      <td>GasA</td>\n",
       "      <td>TA</td>\n",
       "      <td>Y</td>\n",
       "      <td>TA</td>\n",
       "      <td>Typ</td>\n",
       "      <td>Y</td>\n",
       "      <td>WD</td>\n",
       "      <td>Abnorml</td>\n",
       "      <td>160000</td>\n",
       "    </tr>\n",
       "    <tr>\n",
       "      <th>2194</th>\n",
       "      <td>RL</td>\n",
       "      <td>Pave</td>\n",
       "      <td>IR1</td>\n",
       "      <td>Lvl</td>\n",
       "      <td>AllPub</td>\n",
       "      <td>FR2</td>\n",
       "      <td>Gtl</td>\n",
       "      <td>Gilbert</td>\n",
       "      <td>RRAn</td>\n",
       "      <td>Norm</td>\n",
       "      <td>...</td>\n",
       "      <td>PConc</td>\n",
       "      <td>GasA</td>\n",
       "      <td>Ex</td>\n",
       "      <td>Y</td>\n",
       "      <td>TA</td>\n",
       "      <td>Typ</td>\n",
       "      <td>Y</td>\n",
       "      <td>WD</td>\n",
       "      <td>Normal</td>\n",
       "      <td>225000</td>\n",
       "    </tr>\n",
       "    <tr>\n",
       "      <th>2195</th>\n",
       "      <td>RL</td>\n",
       "      <td>Pave</td>\n",
       "      <td>Reg</td>\n",
       "      <td>Lvl</td>\n",
       "      <td>AllPub</td>\n",
       "      <td>Corner</td>\n",
       "      <td>Gtl</td>\n",
       "      <td>Edwards</td>\n",
       "      <td>Norm</td>\n",
       "      <td>Norm</td>\n",
       "      <td>...</td>\n",
       "      <td>BrkTil</td>\n",
       "      <td>GasA</td>\n",
       "      <td>Fa</td>\n",
       "      <td>N</td>\n",
       "      <td>TA</td>\n",
       "      <td>Typ</td>\n",
       "      <td>Y</td>\n",
       "      <td>COD</td>\n",
       "      <td>Abnorml</td>\n",
       "      <td>83000</td>\n",
       "    </tr>\n",
       "    <tr>\n",
       "      <th>2196</th>\n",
       "      <td>RL</td>\n",
       "      <td>Pave</td>\n",
       "      <td>Reg</td>\n",
       "      <td>Lvl</td>\n",
       "      <td>AllPub</td>\n",
       "      <td>Inside</td>\n",
       "      <td>Gtl</td>\n",
       "      <td>NridgHt</td>\n",
       "      <td>Norm</td>\n",
       "      <td>Norm</td>\n",
       "      <td>...</td>\n",
       "      <td>PConc</td>\n",
       "      <td>GasA</td>\n",
       "      <td>Ex</td>\n",
       "      <td>Y</td>\n",
       "      <td>Gd</td>\n",
       "      <td>Typ</td>\n",
       "      <td>Y</td>\n",
       "      <td>WD</td>\n",
       "      <td>Normal</td>\n",
       "      <td>250000</td>\n",
       "    </tr>\n",
       "  </tbody>\n",
       "</table>\n",
       "<p>2197 rows × 27 columns</p>\n",
       "</div>"
      ],
      "text/plain": [
       "     ms_zoning street lot_shape land_contour utilities lot_config land_slope  \\\n",
       "0           RL   Pave       Reg          Lvl    AllPub     Corner        Gtl   \n",
       "1           RL   Pave       IR1          Lvl    AllPub    CulDSac        Gtl   \n",
       "2           RL   Pave       IR1          Lvl    NoSeWa    CulDSac        Gtl   \n",
       "3           RL   Pave       Reg          Lvl    AllPub     Inside        Gtl   \n",
       "4           RL   Pave       IR1          Lvl    AllPub     Inside        Gtl   \n",
       "...        ...    ...       ...          ...       ...        ...        ...   \n",
       "2192        RL   Pave       IR1          Lvl    AllPub     Inside        Gtl   \n",
       "2193        RH   Pave       Reg          Lvl    AllPub     Corner        Gtl   \n",
       "2194        RL   Pave       IR1          Lvl    AllPub        FR2        Gtl   \n",
       "2195        RL   Pave       Reg          Lvl    AllPub     Corner        Gtl   \n",
       "2196        RL   Pave       Reg          Lvl    AllPub     Inside        Gtl   \n",
       "\n",
       "     neighborhood condition_1 condition_2  ... foundation heating heating_qc  \\\n",
       "0         SawyerW        Norm        Norm  ...      PConc    GasA         Ex   \n",
       "1         SawyerW        Norm        Norm  ...     CBlock    GasA         Gd   \n",
       "2          Timber        Norm        Norm  ...     CBlock    GasA         Gd   \n",
       "3         NridgHt        Norm        Norm  ...      PConc    GasA         Ex   \n",
       "4         Gilbert        RRAn        Norm  ...      PConc    GasA         Ex   \n",
       "...           ...         ...         ...  ...        ...     ...        ...   \n",
       "2192      SawyerW        Norm        Norm  ...      PConc    GasA         Ex   \n",
       "2193        SWISU        Norm        Norm  ...      PConc    GasA         TA   \n",
       "2194      Gilbert        RRAn        Norm  ...      PConc    GasA         Ex   \n",
       "2195      Edwards        Norm        Norm  ...     BrkTil    GasA         Fa   \n",
       "2196      NridgHt        Norm        Norm  ...      PConc    GasA         Ex   \n",
       "\n",
       "     central_air kitchen_qual functional paved_drive sale_type sale_condition  \\\n",
       "0              Y           Gd        Typ           Y       WD          Normal   \n",
       "1              Y           Gd        Typ           Y       WD          Normal   \n",
       "2              Y           Gd        Typ           Y       COD        Abnorml   \n",
       "3              Y           Ex        Typ           Y       WD          Normal   \n",
       "4              Y           Gd        Typ           Y       WD          Normal   \n",
       "...          ...          ...        ...         ...       ...            ...   \n",
       "2192           Y           Gd        Typ           Y       WD         Abnorml   \n",
       "2193           Y           TA        Typ           Y       WD         Abnorml   \n",
       "2194           Y           TA        Typ           Y       WD          Normal   \n",
       "2195           N           TA        Typ           Y       COD        Abnorml   \n",
       "2196           Y           Gd        Typ           Y       WD          Normal   \n",
       "\n",
       "     saleprice  \n",
       "0       159000  \n",
       "1       271900  \n",
       "2       137500  \n",
       "3       248500  \n",
       "4       167000  \n",
       "...        ...  \n",
       "2192    220000  \n",
       "2193    160000  \n",
       "2194    225000  \n",
       "2195     83000  \n",
       "2196    250000  \n",
       "\n",
       "[2197 rows x 27 columns]"
      ]
     },
     "execution_count": 117,
     "metadata": {},
     "output_type": "execute_result"
    }
   ],
   "source": [
    "cat_df"
   ]
  },
  {
   "cell_type": "code",
   "execution_count": 118,
   "id": "7dc2997f",
   "metadata": {},
   "outputs": [
    {
     "data": {
      "text/html": [
       "<div>\n",
       "<style scoped>\n",
       "    .dataframe tbody tr th:only-of-type {\n",
       "        vertical-align: middle;\n",
       "    }\n",
       "\n",
       "    .dataframe tbody tr th {\n",
       "        vertical-align: top;\n",
       "    }\n",
       "\n",
       "    .dataframe thead th {\n",
       "        text-align: right;\n",
       "    }\n",
       "</style>\n",
       "<table border=\"1\" class=\"dataframe\">\n",
       "  <thead>\n",
       "    <tr style=\"text-align: right;\">\n",
       "      <th></th>\n",
       "      <th>street</th>\n",
       "      <th>saleprice</th>\n",
       "    </tr>\n",
       "  </thead>\n",
       "  <tbody>\n",
       "    <tr>\n",
       "      <th>0</th>\n",
       "      <td>Pave</td>\n",
       "      <td>159000</td>\n",
       "    </tr>\n",
       "    <tr>\n",
       "      <th>1</th>\n",
       "      <td>Pave</td>\n",
       "      <td>271900</td>\n",
       "    </tr>\n",
       "    <tr>\n",
       "      <th>2</th>\n",
       "      <td>Pave</td>\n",
       "      <td>137500</td>\n",
       "    </tr>\n",
       "    <tr>\n",
       "      <th>3</th>\n",
       "      <td>Pave</td>\n",
       "      <td>248500</td>\n",
       "    </tr>\n",
       "    <tr>\n",
       "      <th>4</th>\n",
       "      <td>Pave</td>\n",
       "      <td>167000</td>\n",
       "    </tr>\n",
       "    <tr>\n",
       "      <th>...</th>\n",
       "      <td>...</td>\n",
       "      <td>...</td>\n",
       "    </tr>\n",
       "    <tr>\n",
       "      <th>2192</th>\n",
       "      <td>Pave</td>\n",
       "      <td>220000</td>\n",
       "    </tr>\n",
       "    <tr>\n",
       "      <th>2193</th>\n",
       "      <td>Pave</td>\n",
       "      <td>160000</td>\n",
       "    </tr>\n",
       "    <tr>\n",
       "      <th>2194</th>\n",
       "      <td>Pave</td>\n",
       "      <td>225000</td>\n",
       "    </tr>\n",
       "    <tr>\n",
       "      <th>2195</th>\n",
       "      <td>Pave</td>\n",
       "      <td>83000</td>\n",
       "    </tr>\n",
       "    <tr>\n",
       "      <th>2196</th>\n",
       "      <td>Pave</td>\n",
       "      <td>250000</td>\n",
       "    </tr>\n",
       "  </tbody>\n",
       "</table>\n",
       "<p>2197 rows × 2 columns</p>\n",
       "</div>"
      ],
      "text/plain": [
       "     street  saleprice\n",
       "0      Pave     159000\n",
       "1      Pave     271900\n",
       "2      Pave     137500\n",
       "3      Pave     248500\n",
       "4      Pave     167000\n",
       "...     ...        ...\n",
       "2192   Pave     220000\n",
       "2193   Pave     160000\n",
       "2194   Pave     225000\n",
       "2195   Pave      83000\n",
       "2196   Pave     250000\n",
       "\n",
       "[2197 rows x 2 columns]"
      ]
     },
     "execution_count": 118,
     "metadata": {},
     "output_type": "execute_result"
    }
   ],
   "source": [
    "cat_df[['street', 'saleprice']]"
   ]
  },
  {
   "cell_type": "code",
   "execution_count": null,
   "id": "dd2cd3b3",
   "metadata": {},
   "outputs": [],
   "source": []
  }
 ],
 "metadata": {
  "kernelspec": {
   "display_name": "Python 3 (ipykernel)",
   "language": "python",
   "name": "python3"
  },
  "language_info": {
   "codemirror_mode": {
    "name": "ipython",
    "version": 3
   },
   "file_extension": ".py",
   "mimetype": "text/x-python",
   "name": "python",
   "nbconvert_exporter": "python",
   "pygments_lexer": "ipython3",
   "version": "3.9.12"
  },
  "toc": {
   "base_numbering": 1,
   "nav_menu": {},
   "number_sections": true,
   "sideBar": true,
   "skip_h1_title": false,
   "title_cell": "Table of Contents",
   "title_sidebar": "Contents",
   "toc_cell": false,
   "toc_position": {
    "height": "calc(100% - 180px)",
    "left": "10px",
    "top": "150px",
    "width": "255.013px"
   },
   "toc_section_display": true,
   "toc_window_display": true
  }
 },
 "nbformat": 4,
 "nbformat_minor": 5
}
