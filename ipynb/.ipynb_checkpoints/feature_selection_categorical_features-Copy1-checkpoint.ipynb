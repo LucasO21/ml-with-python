{
 "cells": [
  {
   "cell_type": "code",
   "execution_count": 272,
   "id": "d4df2669",
   "metadata": {},
   "outputs": [],
   "source": [
    "# imports\n",
    "import pandas as pd\n",
    "import numpy as np"
   ]
  },
  {
   "cell_type": "code",
   "execution_count": 273,
   "id": "20401ede",
   "metadata": {},
   "outputs": [
    {
     "data": {
      "text/plain": [
       "(2197, 82)"
      ]
     },
     "execution_count": 273,
     "metadata": {},
     "output_type": "execute_result"
    }
   ],
   "source": [
    "# load dataset\n",
    "df = pd.read_pickle('../data/aimes_train_data.pkl')\n",
    "df.shape"
   ]
  },
  {
   "cell_type": "code",
   "execution_count": 282,
   "id": "d0fce5a3",
   "metadata": {},
   "outputs": [],
   "source": [
    "# get categorical features and target\n",
    "feature_list = df.select_dtypes(include='object').columns.tolist()\n",
    "feature_list.append('saleprice')"
   ]
  },
  {
   "cell_type": "code",
   "execution_count": 284,
   "id": "219ef234",
   "metadata": {},
   "outputs": [
    {
     "data": {
      "text/plain": [
       "(2197, 44)"
      ]
     },
     "execution_count": 284,
     "metadata": {},
     "output_type": "execute_result"
    }
   ],
   "source": [
    "cat_df = df[feature_list]\n",
    "cat_df.shape"
   ]
  },
  {
   "cell_type": "code",
   "execution_count": 285,
   "id": "0d63980a",
   "metadata": {},
   "outputs": [
    {
     "data": {
      "text/plain": [
       "alley             0.934911\n",
       "mas_vnr_type      0.010014\n",
       "bsmt_qual         0.030496\n",
       "bsmt_cond         0.030496\n",
       "bsmt_exposure     0.031406\n",
       "bsmtfin_type_1    0.030496\n",
       "bsmtfin_type_2    0.030951\n",
       "electrical        0.000455\n",
       "fireplace_qu      0.485207\n",
       "garage_type       0.054620\n",
       "garage_finish     0.055530\n",
       "garage_qual       0.055530\n",
       "garage_cond       0.055530\n",
       "pool_qc           0.994538\n",
       "fence             0.809285\n",
       "misc_feature      0.963587\n",
       "dtype: float64"
      ]
     },
     "execution_count": 285,
     "metadata": {},
     "output_type": "execute_result"
    }
   ],
   "source": [
    "# check for nulls\n",
    "cat_nulls = []\n",
    "for feature in cat_df.columns:\n",
    "    if cat_df[feature].isnull().sum() > 0:\n",
    "        cat_nulls.append(feature)\n",
    "\n",
    "cat_features_with_nulls = cat_df[cat_nulls].isnull().sum() / len(cat_df)\n",
    "cat_features_with_nulls"
   ]
  },
  {
   "cell_type": "code",
   "execution_count": 286,
   "id": "3f771025",
   "metadata": {},
   "outputs": [
    {
     "data": {
      "text/plain": [
       "(2197, 28)"
      ]
     },
     "execution_count": 286,
     "metadata": {},
     "output_type": "execute_result"
    }
   ],
   "source": [
    "# drop categorical features with nulls\n",
    "cat_df = cat_df.drop(cat_nulls, axis=1)\n",
    "cat_df.shape"
   ]
  },
  {
   "cell_type": "code",
   "execution_count": 287,
   "id": "f5e30628",
   "metadata": {},
   "outputs": [
    {
     "data": {
      "text/plain": [
       "(2197, 27)"
      ]
     },
     "execution_count": 287,
     "metadata": {},
     "output_type": "execute_result"
    }
   ],
   "source": [
    "# drop one of exterior\n",
    "cat_df = cat_df.drop('exterior_2nd', axis=1)\n",
    "cat_df.shape"
   ]
  },
  {
   "cell_type": "code",
   "execution_count": 288,
   "id": "1dbe310e",
   "metadata": {
    "scrolled": false
   },
   "outputs": [
    {
     "name": "stdout",
     "output_type": "stream",
     "text": [
      "ms_zoning : 7\n",
      "street : 2\n",
      "lot_shape : 4\n",
      "land_contour : 4\n",
      "utilities : 3\n",
      "lot_config : 5\n",
      "land_slope : 3\n",
      "neighborhood : 28\n",
      "condition_1 : 9\n",
      "condition_2 : 8\n",
      "bldg_type : 5\n",
      "house_style : 8\n",
      "roof_style : 6\n",
      "roof_matl : 8\n",
      "exterior_1st : 16\n",
      "exter_qual : 4\n",
      "exter_cond : 5\n",
      "foundation : 6\n",
      "heating : 6\n",
      "heating_qc : 5\n",
      "central_air : 2\n",
      "kitchen_qual : 5\n",
      "functional : 8\n",
      "paved_drive : 3\n",
      "sale_type : 10\n",
      "sale_condition : 6\n",
      "saleprice : 874\n"
     ]
    }
   ],
   "source": [
    "# view leves of features\n",
    "for feature in cat_df.columns:\n",
    "    print(feature, ':', cat_df[feature].nunique())"
   ]
  },
  {
   "cell_type": "code",
   "execution_count": 113,
   "id": "206cd821",
   "metadata": {},
   "outputs": [],
   "source": [
    "# get lists of features by levels\n",
    "oe_features = []\n",
    "ohe_features = []\n",
    "rle_features = []\n",
    "\n",
    "for feature in cat_df.columns:\n",
    "    if cat_df[feature].nunique() == 2:\n",
    "        oe_features.append(feature)\n",
    "    \n",
    "    if cat_df[feature].nunique() > 2 and cat_df[feature].nunique() <= 5:\n",
    "        ohe_features.append(feature)\n",
    "        \n",
    "    if cat_df[feature].nunique() > 5:\n",
    "        rle_features.append(feature)"
   ]
  },
  {
   "cell_type": "markdown",
   "id": "5734e6db",
   "metadata": {},
   "source": [
    "### Train Test Split"
   ]
  },
  {
   "cell_type": "code",
   "execution_count": 290,
   "id": "1df9c161",
   "metadata": {},
   "outputs": [
    {
     "data": {
      "text/plain": [
       "((1537, 26), (660, 26))"
      ]
     },
     "execution_count": 290,
     "metadata": {},
     "output_type": "execute_result"
    }
   ],
   "source": [
    "# train test split\n",
    "from sklearn.model_selection import train_test_split\n",
    "\n",
    "X = cat_df.drop('saleprice', axis=1)\n",
    "y = cat_df['saleprice']\n",
    "\n",
    "X_train, X_test, y_train, y_test = train_test_split(X, y, test_size=0.3, random_state=42)\n",
    "\n",
    "X_train.shape, X_test.shape"
   ]
  },
  {
   "cell_type": "code",
   "execution_count": 88,
   "id": "16f7b0a9",
   "metadata": {},
   "outputs": [
    {
     "name": "stdout",
     "output_type": "stream",
     "text": [
      "ms_zoning : 6\n",
      "street : 2\n",
      "lot_shape : 4\n",
      "land_contour : 4\n",
      "utilities : 3\n",
      "lot_config : 5\n",
      "land_slope : 3\n",
      "neighborhood : 27\n",
      "condition_1 : 9\n",
      "condition_2 : 7\n",
      "bldg_type : 5\n",
      "house_style : 8\n",
      "roof_style : 6\n",
      "roof_matl : 8\n",
      "exterior_1st : 16\n",
      "exter_qual : 4\n",
      "exter_cond : 5\n",
      "foundation : 6\n",
      "heating : 6\n",
      "heating_qc : 5\n",
      "central_air : 2\n",
      "kitchen_qual : 4\n",
      "functional : 8\n",
      "paved_drive : 3\n",
      "sale_type : 10\n",
      "sale_condition : 6\n"
     ]
    }
   ],
   "source": [
    "# view leves of features\n",
    "for feature in X_train.columns:\n",
    "    print(feature, ':', X_train[feature].nunique())"
   ]
  },
  {
   "cell_type": "code",
   "execution_count": 153,
   "id": "e444c267",
   "metadata": {},
   "outputs": [],
   "source": [
    "# rare label encoding\n",
    "from feature_engine.encoding import RareLabelEncoder\n",
    "rle_enc = RareLabelEncoder(variables=rle_features, tol=0.05, n_categories=5)"
   ]
  },
  {
   "cell_type": "code",
   "execution_count": 154,
   "id": "f7ab17a4",
   "metadata": {},
   "outputs": [],
   "source": [
    "# ordinal encoding\n",
    "from feature_engine.encoding import OrdinalEncoder\n",
    "oe_enc = OrdinalEncoder(encoding_method='arbitrary', variables=oe_features)"
   ]
  },
  {
   "cell_type": "code",
   "execution_count": 155,
   "id": "73d10e2c",
   "metadata": {},
   "outputs": [],
   "source": [
    "# one hot encoding\n",
    "from feature_engine.encoding import OneHotEncoder\n",
    "ohe_enc = OneHotEncoder(variables=ohe_features, top_categories=None, drop_last=True)"
   ]
  },
  {
   "cell_type": "code",
   "execution_count": 156,
   "id": "677f33c7",
   "metadata": {},
   "outputs": [],
   "source": [
    "# rle pipeline\n",
    "from sklearn.pipeline import Pipeline, make_pipeline\n",
    "\n",
    "rle_pipe = Pipeline([\n",
    "    ('rle_enc', rle_enc),\n",
    "    ('ohe', OneHotEncoder(variables=rle_features, top_categories=None, drop_last=True))\n",
    "])"
   ]
  },
  {
   "cell_type": "code",
   "execution_count": 157,
   "id": "870fbe31",
   "metadata": {},
   "outputs": [],
   "source": [
    "# oe pipeline\n",
    "oe_pipe = Pipeline([\n",
    "    ('oe_enc', oe_enc)\n",
    "])"
   ]
  },
  {
   "cell_type": "code",
   "execution_count": 158,
   "id": "e38cf829",
   "metadata": {},
   "outputs": [],
   "source": [
    "ohe_pipe = Pipeline([\n",
    "    ('ohe_enc', ohe_enc)\n",
    "])"
   ]
  },
  {
   "cell_type": "code",
   "execution_count": 159,
   "id": "4c8a3494",
   "metadata": {
    "scrolled": true
   },
   "outputs": [
    {
     "data": {
      "text/plain": [
       "ColumnTransformer(transformers=[('rle',\n",
       "                                 Pipeline(steps=[('rle_enc',\n",
       "                                                  RareLabelEncoder(n_categories=5,\n",
       "                                                                   variables=['ms_zoning',\n",
       "                                                                              'neighborhood',\n",
       "                                                                              'condition_1',\n",
       "                                                                              'condition_2',\n",
       "                                                                              'house_style',\n",
       "                                                                              'roof_style',\n",
       "                                                                              'roof_matl',\n",
       "                                                                              'exterior_1st',\n",
       "                                                                              'foundation',\n",
       "                                                                              'heating',\n",
       "                                                                              'functional',\n",
       "                                                                              'sale_type',\n",
       "                                                                              'sale_condition'])),\n",
       "                                                 ('ohe',\n",
       "                                                  OneHotEncoder(drop_last=True,\n",
       "                                                                variables=['ms_zoning',\n",
       "                                                                           'neig...\n",
       "                                 Pipeline(steps=[('ohe_enc',\n",
       "                                                  OneHotEncoder(drop_last=True,\n",
       "                                                                variables=['lot_shape',\n",
       "                                                                           'land_contour',\n",
       "                                                                           'utilities',\n",
       "                                                                           'lot_config',\n",
       "                                                                           'land_slope',\n",
       "                                                                           'bldg_type',\n",
       "                                                                           'exter_qual',\n",
       "                                                                           'exter_cond',\n",
       "                                                                           'heating_qc',\n",
       "                                                                           'kitchen_qual',\n",
       "                                                                           'paved_drive']))]),\n",
       "                                 ['lot_shape', 'land_contour', 'utilities',\n",
       "                                  'lot_config', 'land_slope', 'bldg_type',\n",
       "                                  'exter_qual', 'exter_cond', 'heating_qc',\n",
       "                                  'kitchen_qual', 'paved_drive'])])"
      ]
     },
     "execution_count": 159,
     "metadata": {},
     "output_type": "execute_result"
    }
   ],
   "source": [
    "# full categorical pipeline\n",
    "from sklearn.compose import ColumnTransformer\n",
    "\n",
    "cat_pipe = ColumnTransformer([\n",
    "    ('rle', rle_pipe, rle_features),\n",
    "    ('oe', oe_pipe, oe_features),\n",
    "    ('ohe', ohe_pipe, ohe_features)\n",
    "])\n",
    "\n",
    "cat_pipe"
   ]
  },
  {
   "cell_type": "code",
   "execution_count": 160,
   "id": "b787e886",
   "metadata": {
    "scrolled": true
   },
   "outputs": [
    {
     "data": {
      "text/plain": [
       "Pipeline(steps=[('rle',\n",
       "                 Pipeline(steps=[('rle_enc',\n",
       "                                  RareLabelEncoder(n_categories=5,\n",
       "                                                   variables=['ms_zoning',\n",
       "                                                              'neighborhood',\n",
       "                                                              'condition_1',\n",
       "                                                              'condition_2',\n",
       "                                                              'house_style',\n",
       "                                                              'roof_style',\n",
       "                                                              'roof_matl',\n",
       "                                                              'exterior_1st',\n",
       "                                                              'foundation',\n",
       "                                                              'heating',\n",
       "                                                              'functional',\n",
       "                                                              'sale_type',\n",
       "                                                              'sale_condition'])),\n",
       "                                 ('ohe',\n",
       "                                  OneHotEncoder(drop_last=True,\n",
       "                                                variables=['ms_zoning',\n",
       "                                                           'neighborhood',\n",
       "                                                           'condi...\n",
       "                                                           'sale_condition']))])),\n",
       "                ('oe',\n",
       "                 Pipeline(steps=[('oe_enc',\n",
       "                                  OrdinalEncoder(encoding_method='arbitrary',\n",
       "                                                 variables=['street',\n",
       "                                                            'central_air']))])),\n",
       "                ('ohe',\n",
       "                 Pipeline(steps=[('ohe_enc',\n",
       "                                  OneHotEncoder(drop_last=True,\n",
       "                                                variables=['lot_shape',\n",
       "                                                           'land_contour',\n",
       "                                                           'utilities',\n",
       "                                                           'lot_config',\n",
       "                                                           'land_slope',\n",
       "                                                           'bldg_type',\n",
       "                                                           'exter_qual',\n",
       "                                                           'exter_cond',\n",
       "                                                           'heating_qc',\n",
       "                                                           'kitchen_qual',\n",
       "                                                           'paved_drive']))]))])"
      ]
     },
     "execution_count": 160,
     "metadata": {},
     "output_type": "execute_result"
    }
   ],
   "source": [
    "cat_pipe = Pipeline([\n",
    "    ('rle', rle_pipe),\n",
    "    ('oe', oe_pipe),\n",
    "    ('ohe', ohe_pipe)\n",
    "])\n",
    "\n",
    "cat_pipe"
   ]
  },
  {
   "cell_type": "code",
   "execution_count": 161,
   "id": "2842e671",
   "metadata": {},
   "outputs": [
    {
     "data": {
      "text/html": [
       "<div>\n",
       "<style scoped>\n",
       "    .dataframe tbody tr th:only-of-type {\n",
       "        vertical-align: middle;\n",
       "    }\n",
       "\n",
       "    .dataframe tbody tr th {\n",
       "        vertical-align: top;\n",
       "    }\n",
       "\n",
       "    .dataframe thead th {\n",
       "        text-align: right;\n",
       "    }\n",
       "</style>\n",
       "<table border=\"1\" class=\"dataframe\">\n",
       "  <thead>\n",
       "    <tr style=\"text-align: right;\">\n",
       "      <th></th>\n",
       "      <th>street</th>\n",
       "      <th>central_air</th>\n",
       "      <th>ms_zoning_RL</th>\n",
       "      <th>ms_zoning_Rare</th>\n",
       "      <th>neighborhood_Rare</th>\n",
       "      <th>neighborhood_NAmes</th>\n",
       "      <th>neighborhood_Gilbert</th>\n",
       "      <th>neighborhood_CollgCr</th>\n",
       "      <th>neighborhood_NridgHt</th>\n",
       "      <th>neighborhood_Somerst</th>\n",
       "      <th>...</th>\n",
       "      <th>exter_cond_Fa</th>\n",
       "      <th>heating_qc_TA</th>\n",
       "      <th>heating_qc_Ex</th>\n",
       "      <th>heating_qc_Gd</th>\n",
       "      <th>heating_qc_Fa</th>\n",
       "      <th>kitchen_qual_Gd</th>\n",
       "      <th>kitchen_qual_TA</th>\n",
       "      <th>kitchen_qual_Fa</th>\n",
       "      <th>paved_drive_Y</th>\n",
       "      <th>paved_drive_N</th>\n",
       "    </tr>\n",
       "  </thead>\n",
       "  <tbody>\n",
       "    <tr>\n",
       "      <th>1157</th>\n",
       "      <td>0</td>\n",
       "      <td>0</td>\n",
       "      <td>1</td>\n",
       "      <td>0</td>\n",
       "      <td>1</td>\n",
       "      <td>0</td>\n",
       "      <td>0</td>\n",
       "      <td>0</td>\n",
       "      <td>0</td>\n",
       "      <td>0</td>\n",
       "      <td>...</td>\n",
       "      <td>0</td>\n",
       "      <td>1</td>\n",
       "      <td>0</td>\n",
       "      <td>0</td>\n",
       "      <td>0</td>\n",
       "      <td>1</td>\n",
       "      <td>0</td>\n",
       "      <td>0</td>\n",
       "      <td>1</td>\n",
       "      <td>0</td>\n",
       "    </tr>\n",
       "    <tr>\n",
       "      <th>141</th>\n",
       "      <td>0</td>\n",
       "      <td>0</td>\n",
       "      <td>1</td>\n",
       "      <td>0</td>\n",
       "      <td>1</td>\n",
       "      <td>0</td>\n",
       "      <td>0</td>\n",
       "      <td>0</td>\n",
       "      <td>0</td>\n",
       "      <td>0</td>\n",
       "      <td>...</td>\n",
       "      <td>0</td>\n",
       "      <td>1</td>\n",
       "      <td>0</td>\n",
       "      <td>0</td>\n",
       "      <td>0</td>\n",
       "      <td>0</td>\n",
       "      <td>1</td>\n",
       "      <td>0</td>\n",
       "      <td>1</td>\n",
       "      <td>0</td>\n",
       "    </tr>\n",
       "    <tr>\n",
       "      <th>1001</th>\n",
       "      <td>0</td>\n",
       "      <td>0</td>\n",
       "      <td>1</td>\n",
       "      <td>0</td>\n",
       "      <td>1</td>\n",
       "      <td>0</td>\n",
       "      <td>0</td>\n",
       "      <td>0</td>\n",
       "      <td>0</td>\n",
       "      <td>0</td>\n",
       "      <td>...</td>\n",
       "      <td>0</td>\n",
       "      <td>0</td>\n",
       "      <td>1</td>\n",
       "      <td>0</td>\n",
       "      <td>0</td>\n",
       "      <td>1</td>\n",
       "      <td>0</td>\n",
       "      <td>0</td>\n",
       "      <td>1</td>\n",
       "      <td>0</td>\n",
       "    </tr>\n",
       "    <tr>\n",
       "      <th>2</th>\n",
       "      <td>0</td>\n",
       "      <td>0</td>\n",
       "      <td>1</td>\n",
       "      <td>0</td>\n",
       "      <td>1</td>\n",
       "      <td>0</td>\n",
       "      <td>0</td>\n",
       "      <td>0</td>\n",
       "      <td>0</td>\n",
       "      <td>0</td>\n",
       "      <td>...</td>\n",
       "      <td>0</td>\n",
       "      <td>0</td>\n",
       "      <td>0</td>\n",
       "      <td>1</td>\n",
       "      <td>0</td>\n",
       "      <td>1</td>\n",
       "      <td>0</td>\n",
       "      <td>0</td>\n",
       "      <td>1</td>\n",
       "      <td>0</td>\n",
       "    </tr>\n",
       "    <tr>\n",
       "      <th>576</th>\n",
       "      <td>0</td>\n",
       "      <td>0</td>\n",
       "      <td>1</td>\n",
       "      <td>0</td>\n",
       "      <td>0</td>\n",
       "      <td>1</td>\n",
       "      <td>0</td>\n",
       "      <td>0</td>\n",
       "      <td>0</td>\n",
       "      <td>0</td>\n",
       "      <td>...</td>\n",
       "      <td>0</td>\n",
       "      <td>0</td>\n",
       "      <td>0</td>\n",
       "      <td>1</td>\n",
       "      <td>0</td>\n",
       "      <td>0</td>\n",
       "      <td>1</td>\n",
       "      <td>0</td>\n",
       "      <td>1</td>\n",
       "      <td>0</td>\n",
       "    </tr>\n",
       "    <tr>\n",
       "      <th>...</th>\n",
       "      <td>...</td>\n",
       "      <td>...</td>\n",
       "      <td>...</td>\n",
       "      <td>...</td>\n",
       "      <td>...</td>\n",
       "      <td>...</td>\n",
       "      <td>...</td>\n",
       "      <td>...</td>\n",
       "      <td>...</td>\n",
       "      <td>...</td>\n",
       "      <td>...</td>\n",
       "      <td>...</td>\n",
       "      <td>...</td>\n",
       "      <td>...</td>\n",
       "      <td>...</td>\n",
       "      <td>...</td>\n",
       "      <td>...</td>\n",
       "      <td>...</td>\n",
       "      <td>...</td>\n",
       "      <td>...</td>\n",
       "      <td>...</td>\n",
       "    </tr>\n",
       "    <tr>\n",
       "      <th>1638</th>\n",
       "      <td>0</td>\n",
       "      <td>0</td>\n",
       "      <td>0</td>\n",
       "      <td>1</td>\n",
       "      <td>1</td>\n",
       "      <td>0</td>\n",
       "      <td>0</td>\n",
       "      <td>0</td>\n",
       "      <td>0</td>\n",
       "      <td>0</td>\n",
       "      <td>...</td>\n",
       "      <td>1</td>\n",
       "      <td>0</td>\n",
       "      <td>0</td>\n",
       "      <td>1</td>\n",
       "      <td>0</td>\n",
       "      <td>0</td>\n",
       "      <td>1</td>\n",
       "      <td>0</td>\n",
       "      <td>0</td>\n",
       "      <td>1</td>\n",
       "    </tr>\n",
       "    <tr>\n",
       "      <th>1095</th>\n",
       "      <td>0</td>\n",
       "      <td>1</td>\n",
       "      <td>0</td>\n",
       "      <td>0</td>\n",
       "      <td>1</td>\n",
       "      <td>0</td>\n",
       "      <td>0</td>\n",
       "      <td>0</td>\n",
       "      <td>0</td>\n",
       "      <td>0</td>\n",
       "      <td>...</td>\n",
       "      <td>0</td>\n",
       "      <td>1</td>\n",
       "      <td>0</td>\n",
       "      <td>0</td>\n",
       "      <td>0</td>\n",
       "      <td>0</td>\n",
       "      <td>1</td>\n",
       "      <td>0</td>\n",
       "      <td>0</td>\n",
       "      <td>1</td>\n",
       "    </tr>\n",
       "    <tr>\n",
       "      <th>1130</th>\n",
       "      <td>0</td>\n",
       "      <td>0</td>\n",
       "      <td>1</td>\n",
       "      <td>0</td>\n",
       "      <td>1</td>\n",
       "      <td>0</td>\n",
       "      <td>0</td>\n",
       "      <td>0</td>\n",
       "      <td>0</td>\n",
       "      <td>0</td>\n",
       "      <td>...</td>\n",
       "      <td>0</td>\n",
       "      <td>0</td>\n",
       "      <td>1</td>\n",
       "      <td>0</td>\n",
       "      <td>0</td>\n",
       "      <td>1</td>\n",
       "      <td>0</td>\n",
       "      <td>0</td>\n",
       "      <td>1</td>\n",
       "      <td>0</td>\n",
       "    </tr>\n",
       "    <tr>\n",
       "      <th>1294</th>\n",
       "      <td>0</td>\n",
       "      <td>0</td>\n",
       "      <td>1</td>\n",
       "      <td>0</td>\n",
       "      <td>0</td>\n",
       "      <td>0</td>\n",
       "      <td>0</td>\n",
       "      <td>0</td>\n",
       "      <td>0</td>\n",
       "      <td>0</td>\n",
       "      <td>...</td>\n",
       "      <td>0</td>\n",
       "      <td>1</td>\n",
       "      <td>0</td>\n",
       "      <td>0</td>\n",
       "      <td>0</td>\n",
       "      <td>0</td>\n",
       "      <td>1</td>\n",
       "      <td>0</td>\n",
       "      <td>1</td>\n",
       "      <td>0</td>\n",
       "    </tr>\n",
       "    <tr>\n",
       "      <th>860</th>\n",
       "      <td>0</td>\n",
       "      <td>0</td>\n",
       "      <td>1</td>\n",
       "      <td>0</td>\n",
       "      <td>0</td>\n",
       "      <td>0</td>\n",
       "      <td>0</td>\n",
       "      <td>0</td>\n",
       "      <td>0</td>\n",
       "      <td>0</td>\n",
       "      <td>...</td>\n",
       "      <td>0</td>\n",
       "      <td>0</td>\n",
       "      <td>1</td>\n",
       "      <td>0</td>\n",
       "      <td>0</td>\n",
       "      <td>0</td>\n",
       "      <td>1</td>\n",
       "      <td>0</td>\n",
       "      <td>1</td>\n",
       "      <td>0</td>\n",
       "    </tr>\n",
       "  </tbody>\n",
       "</table>\n",
       "<p>1537 rows × 69 columns</p>\n",
       "</div>"
      ],
      "text/plain": [
       "      street  central_air  ms_zoning_RL  ms_zoning_Rare  neighborhood_Rare  \\\n",
       "1157       0            0             1               0                  1   \n",
       "141        0            0             1               0                  1   \n",
       "1001       0            0             1               0                  1   \n",
       "2          0            0             1               0                  1   \n",
       "576        0            0             1               0                  0   \n",
       "...      ...          ...           ...             ...                ...   \n",
       "1638       0            0             0               1                  1   \n",
       "1095       0            1             0               0                  1   \n",
       "1130       0            0             1               0                  1   \n",
       "1294       0            0             1               0                  0   \n",
       "860        0            0             1               0                  0   \n",
       "\n",
       "      neighborhood_NAmes  neighborhood_Gilbert  neighborhood_CollgCr  \\\n",
       "1157                   0                     0                     0   \n",
       "141                    0                     0                     0   \n",
       "1001                   0                     0                     0   \n",
       "2                      0                     0                     0   \n",
       "576                    1                     0                     0   \n",
       "...                  ...                   ...                   ...   \n",
       "1638                   0                     0                     0   \n",
       "1095                   0                     0                     0   \n",
       "1130                   0                     0                     0   \n",
       "1294                   0                     0                     0   \n",
       "860                    0                     0                     0   \n",
       "\n",
       "      neighborhood_NridgHt  neighborhood_Somerst  ...  exter_cond_Fa  \\\n",
       "1157                     0                     0  ...              0   \n",
       "141                      0                     0  ...              0   \n",
       "1001                     0                     0  ...              0   \n",
       "2                        0                     0  ...              0   \n",
       "576                      0                     0  ...              0   \n",
       "...                    ...                   ...  ...            ...   \n",
       "1638                     0                     0  ...              1   \n",
       "1095                     0                     0  ...              0   \n",
       "1130                     0                     0  ...              0   \n",
       "1294                     0                     0  ...              0   \n",
       "860                      0                     0  ...              0   \n",
       "\n",
       "      heating_qc_TA  heating_qc_Ex  heating_qc_Gd  heating_qc_Fa  \\\n",
       "1157              1              0              0              0   \n",
       "141               1              0              0              0   \n",
       "1001              0              1              0              0   \n",
       "2                 0              0              1              0   \n",
       "576               0              0              1              0   \n",
       "...             ...            ...            ...            ...   \n",
       "1638              0              0              1              0   \n",
       "1095              1              0              0              0   \n",
       "1130              0              1              0              0   \n",
       "1294              1              0              0              0   \n",
       "860               0              1              0              0   \n",
       "\n",
       "      kitchen_qual_Gd  kitchen_qual_TA  kitchen_qual_Fa  paved_drive_Y  \\\n",
       "1157                1                0                0              1   \n",
       "141                 0                1                0              1   \n",
       "1001                1                0                0              1   \n",
       "2                   1                0                0              1   \n",
       "576                 0                1                0              1   \n",
       "...               ...              ...              ...            ...   \n",
       "1638                0                1                0              0   \n",
       "1095                0                1                0              0   \n",
       "1130                1                0                0              1   \n",
       "1294                0                1                0              1   \n",
       "860                 0                1                0              1   \n",
       "\n",
       "      paved_drive_N  \n",
       "1157              0  \n",
       "141               0  \n",
       "1001              0  \n",
       "2                 0  \n",
       "576               0  \n",
       "...             ...  \n",
       "1638              1  \n",
       "1095              1  \n",
       "1130              0  \n",
       "1294              0  \n",
       "860               0  \n",
       "\n",
       "[1537 rows x 69 columns]"
      ]
     },
     "execution_count": 161,
     "metadata": {},
     "output_type": "execute_result"
    }
   ],
   "source": [
    "# fit and transform\n",
    "cat_pipe.fit(X_train)\n",
    "cat_pipe.transform(X_train)"
   ]
  },
  {
   "cell_type": "code",
   "execution_count": 152,
   "id": "585a2602",
   "metadata": {},
   "outputs": [
    {
     "data": {
      "text/plain": [
       "Pipeline(steps=[('rle_enc',\n",
       "                 RareLabelEncoder(n_categories=5,\n",
       "                                  variables=['ms_zoning', 'neighborhood',\n",
       "                                             'condition_1', 'condition_2',\n",
       "                                             'house_style', 'roof_style',\n",
       "                                             'roof_matl', 'exterior_1st',\n",
       "                                             'foundation', 'heating',\n",
       "                                             'functional', 'sale_type',\n",
       "                                             'sale_condition'])),\n",
       "                ('ohe',\n",
       "                 OneHotEncoder(drop_last=True,\n",
       "                               variables=['ms_zoning', 'neighborhood',\n",
       "                                          'condition_1', 'condition_2',\n",
       "                                          'house_style', 'roof_style',\n",
       "                                          'roof_matl', 'exterior_1st',\n",
       "                                          'foundation', 'heating', 'functional',\n",
       "                                          'sale_type', 'sale_condition']))])"
      ]
     },
     "execution_count": 152,
     "metadata": {},
     "output_type": "execute_result"
    }
   ],
   "source": [
    "rle_pipe"
   ]
  },
  {
   "cell_type": "code",
   "execution_count": 126,
   "id": "5477a04d",
   "metadata": {},
   "outputs": [],
   "source": [
    "rle_pipe = Pipeline([\n",
    "    ('rle_enc', rle_enc),\n",
    "    ('ohe', OneHotEncoder(variables=None, top_categories=None, drop_last=True))\n",
    "])"
   ]
  },
  {
   "cell_type": "code",
   "execution_count": 127,
   "id": "7cdd32f3",
   "metadata": {},
   "outputs": [
    {
     "data": {
      "text/plain": [
       "Pipeline(steps=[('rle_enc',\n",
       "                 RareLabelEncoder(n_categories=5,\n",
       "                                  variables=['ms_zoning', 'neighborhood',\n",
       "                                             'condition_1', 'condition_2',\n",
       "                                             'house_style', 'roof_style',\n",
       "                                             'roof_matl', 'exterior_1st',\n",
       "                                             'foundation', 'heating',\n",
       "                                             'functional', 'sale_type',\n",
       "                                             'sale_condition'])),\n",
       "                ('ohe', OneHotEncoder(drop_last=True))])"
      ]
     },
     "execution_count": 127,
     "metadata": {},
     "output_type": "execute_result"
    }
   ],
   "source": [
    "rle_pipe"
   ]
  },
  {
   "cell_type": "code",
   "execution_count": 128,
   "id": "890eb359",
   "metadata": {},
   "outputs": [
    {
     "data": {
      "text/plain": [
       "Pipeline(steps=[('rle_enc',\n",
       "                 RareLabelEncoder(n_categories=5,\n",
       "                                  variables=['ms_zoning', 'neighborhood',\n",
       "                                             'condition_1', 'condition_2',\n",
       "                                             'house_style', 'roof_style',\n",
       "                                             'roof_matl', 'exterior_1st',\n",
       "                                             'foundation', 'heating',\n",
       "                                             'functional', 'sale_type',\n",
       "                                             'sale_condition'])),\n",
       "                ('ohe', OneHotEncoder(drop_last=True))])"
      ]
     },
     "execution_count": 128,
     "metadata": {},
     "output_type": "execute_result"
    }
   ],
   "source": [
    "rle_pipe.fit(X_train)"
   ]
  },
  {
   "cell_type": "code",
   "execution_count": 123,
   "id": "005c1304",
   "metadata": {},
   "outputs": [
    {
     "data": {
      "text/html": [
       "<div>\n",
       "<style scoped>\n",
       "    .dataframe tbody tr th:only-of-type {\n",
       "        vertical-align: middle;\n",
       "    }\n",
       "\n",
       "    .dataframe tbody tr th {\n",
       "        vertical-align: top;\n",
       "    }\n",
       "\n",
       "    .dataframe thead th {\n",
       "        text-align: right;\n",
       "    }\n",
       "</style>\n",
       "<table border=\"1\" class=\"dataframe\">\n",
       "  <thead>\n",
       "    <tr style=\"text-align: right;\">\n",
       "      <th></th>\n",
       "      <th>ms_zoning_RL</th>\n",
       "      <th>ms_zoning_Rare</th>\n",
       "      <th>street_Pave</th>\n",
       "      <th>lot_shape_Reg</th>\n",
       "      <th>lot_shape_IR1</th>\n",
       "      <th>lot_shape_IR2</th>\n",
       "      <th>land_contour_Lvl</th>\n",
       "      <th>land_contour_Low</th>\n",
       "      <th>land_contour_HLS</th>\n",
       "      <th>utilities_AllPub</th>\n",
       "      <th>...</th>\n",
       "      <th>kitchen_qual_TA</th>\n",
       "      <th>kitchen_qual_Fa</th>\n",
       "      <th>functional_Typ</th>\n",
       "      <th>paved_drive_Y</th>\n",
       "      <th>paved_drive_N</th>\n",
       "      <th>sale_type_WD</th>\n",
       "      <th>sale_type_Rare</th>\n",
       "      <th>sale_condition_Normal</th>\n",
       "      <th>sale_condition_Abnorml</th>\n",
       "      <th>sale_condition_Partial</th>\n",
       "    </tr>\n",
       "  </thead>\n",
       "  <tbody>\n",
       "    <tr>\n",
       "      <th>1157</th>\n",
       "      <td>1</td>\n",
       "      <td>0</td>\n",
       "      <td>1</td>\n",
       "      <td>1</td>\n",
       "      <td>0</td>\n",
       "      <td>0</td>\n",
       "      <td>1</td>\n",
       "      <td>0</td>\n",
       "      <td>0</td>\n",
       "      <td>1</td>\n",
       "      <td>...</td>\n",
       "      <td>0</td>\n",
       "      <td>0</td>\n",
       "      <td>1</td>\n",
       "      <td>1</td>\n",
       "      <td>0</td>\n",
       "      <td>1</td>\n",
       "      <td>0</td>\n",
       "      <td>1</td>\n",
       "      <td>0</td>\n",
       "      <td>0</td>\n",
       "    </tr>\n",
       "    <tr>\n",
       "      <th>141</th>\n",
       "      <td>1</td>\n",
       "      <td>0</td>\n",
       "      <td>1</td>\n",
       "      <td>1</td>\n",
       "      <td>0</td>\n",
       "      <td>0</td>\n",
       "      <td>1</td>\n",
       "      <td>0</td>\n",
       "      <td>0</td>\n",
       "      <td>1</td>\n",
       "      <td>...</td>\n",
       "      <td>1</td>\n",
       "      <td>0</td>\n",
       "      <td>1</td>\n",
       "      <td>1</td>\n",
       "      <td>0</td>\n",
       "      <td>1</td>\n",
       "      <td>0</td>\n",
       "      <td>1</td>\n",
       "      <td>0</td>\n",
       "      <td>0</td>\n",
       "    </tr>\n",
       "    <tr>\n",
       "      <th>1001</th>\n",
       "      <td>1</td>\n",
       "      <td>0</td>\n",
       "      <td>1</td>\n",
       "      <td>1</td>\n",
       "      <td>0</td>\n",
       "      <td>0</td>\n",
       "      <td>1</td>\n",
       "      <td>0</td>\n",
       "      <td>0</td>\n",
       "      <td>1</td>\n",
       "      <td>...</td>\n",
       "      <td>0</td>\n",
       "      <td>0</td>\n",
       "      <td>1</td>\n",
       "      <td>1</td>\n",
       "      <td>0</td>\n",
       "      <td>1</td>\n",
       "      <td>0</td>\n",
       "      <td>1</td>\n",
       "      <td>0</td>\n",
       "      <td>0</td>\n",
       "    </tr>\n",
       "    <tr>\n",
       "      <th>2</th>\n",
       "      <td>1</td>\n",
       "      <td>0</td>\n",
       "      <td>1</td>\n",
       "      <td>0</td>\n",
       "      <td>1</td>\n",
       "      <td>0</td>\n",
       "      <td>1</td>\n",
       "      <td>0</td>\n",
       "      <td>0</td>\n",
       "      <td>0</td>\n",
       "      <td>...</td>\n",
       "      <td>0</td>\n",
       "      <td>0</td>\n",
       "      <td>1</td>\n",
       "      <td>1</td>\n",
       "      <td>0</td>\n",
       "      <td>0</td>\n",
       "      <td>1</td>\n",
       "      <td>0</td>\n",
       "      <td>1</td>\n",
       "      <td>0</td>\n",
       "    </tr>\n",
       "    <tr>\n",
       "      <th>576</th>\n",
       "      <td>1</td>\n",
       "      <td>0</td>\n",
       "      <td>1</td>\n",
       "      <td>1</td>\n",
       "      <td>0</td>\n",
       "      <td>0</td>\n",
       "      <td>1</td>\n",
       "      <td>0</td>\n",
       "      <td>0</td>\n",
       "      <td>1</td>\n",
       "      <td>...</td>\n",
       "      <td>1</td>\n",
       "      <td>0</td>\n",
       "      <td>1</td>\n",
       "      <td>1</td>\n",
       "      <td>0</td>\n",
       "      <td>1</td>\n",
       "      <td>0</td>\n",
       "      <td>1</td>\n",
       "      <td>0</td>\n",
       "      <td>0</td>\n",
       "    </tr>\n",
       "    <tr>\n",
       "      <th>...</th>\n",
       "      <td>...</td>\n",
       "      <td>...</td>\n",
       "      <td>...</td>\n",
       "      <td>...</td>\n",
       "      <td>...</td>\n",
       "      <td>...</td>\n",
       "      <td>...</td>\n",
       "      <td>...</td>\n",
       "      <td>...</td>\n",
       "      <td>...</td>\n",
       "      <td>...</td>\n",
       "      <td>...</td>\n",
       "      <td>...</td>\n",
       "      <td>...</td>\n",
       "      <td>...</td>\n",
       "      <td>...</td>\n",
       "      <td>...</td>\n",
       "      <td>...</td>\n",
       "      <td>...</td>\n",
       "      <td>...</td>\n",
       "      <td>...</td>\n",
       "    </tr>\n",
       "    <tr>\n",
       "      <th>1638</th>\n",
       "      <td>0</td>\n",
       "      <td>1</td>\n",
       "      <td>1</td>\n",
       "      <td>1</td>\n",
       "      <td>0</td>\n",
       "      <td>0</td>\n",
       "      <td>1</td>\n",
       "      <td>0</td>\n",
       "      <td>0</td>\n",
       "      <td>1</td>\n",
       "      <td>...</td>\n",
       "      <td>1</td>\n",
       "      <td>0</td>\n",
       "      <td>1</td>\n",
       "      <td>0</td>\n",
       "      <td>1</td>\n",
       "      <td>1</td>\n",
       "      <td>0</td>\n",
       "      <td>1</td>\n",
       "      <td>0</td>\n",
       "      <td>0</td>\n",
       "    </tr>\n",
       "    <tr>\n",
       "      <th>1095</th>\n",
       "      <td>0</td>\n",
       "      <td>0</td>\n",
       "      <td>1</td>\n",
       "      <td>1</td>\n",
       "      <td>0</td>\n",
       "      <td>0</td>\n",
       "      <td>0</td>\n",
       "      <td>1</td>\n",
       "      <td>0</td>\n",
       "      <td>1</td>\n",
       "      <td>...</td>\n",
       "      <td>1</td>\n",
       "      <td>0</td>\n",
       "      <td>0</td>\n",
       "      <td>0</td>\n",
       "      <td>1</td>\n",
       "      <td>1</td>\n",
       "      <td>0</td>\n",
       "      <td>1</td>\n",
       "      <td>0</td>\n",
       "      <td>0</td>\n",
       "    </tr>\n",
       "    <tr>\n",
       "      <th>1130</th>\n",
       "      <td>1</td>\n",
       "      <td>0</td>\n",
       "      <td>1</td>\n",
       "      <td>0</td>\n",
       "      <td>1</td>\n",
       "      <td>0</td>\n",
       "      <td>0</td>\n",
       "      <td>0</td>\n",
       "      <td>1</td>\n",
       "      <td>1</td>\n",
       "      <td>...</td>\n",
       "      <td>0</td>\n",
       "      <td>0</td>\n",
       "      <td>1</td>\n",
       "      <td>1</td>\n",
       "      <td>0</td>\n",
       "      <td>1</td>\n",
       "      <td>0</td>\n",
       "      <td>1</td>\n",
       "      <td>0</td>\n",
       "      <td>0</td>\n",
       "    </tr>\n",
       "    <tr>\n",
       "      <th>1294</th>\n",
       "      <td>1</td>\n",
       "      <td>0</td>\n",
       "      <td>1</td>\n",
       "      <td>1</td>\n",
       "      <td>0</td>\n",
       "      <td>0</td>\n",
       "      <td>1</td>\n",
       "      <td>0</td>\n",
       "      <td>0</td>\n",
       "      <td>1</td>\n",
       "      <td>...</td>\n",
       "      <td>1</td>\n",
       "      <td>0</td>\n",
       "      <td>1</td>\n",
       "      <td>1</td>\n",
       "      <td>0</td>\n",
       "      <td>1</td>\n",
       "      <td>0</td>\n",
       "      <td>1</td>\n",
       "      <td>0</td>\n",
       "      <td>0</td>\n",
       "    </tr>\n",
       "    <tr>\n",
       "      <th>860</th>\n",
       "      <td>1</td>\n",
       "      <td>0</td>\n",
       "      <td>1</td>\n",
       "      <td>1</td>\n",
       "      <td>0</td>\n",
       "      <td>0</td>\n",
       "      <td>1</td>\n",
       "      <td>0</td>\n",
       "      <td>0</td>\n",
       "      <td>1</td>\n",
       "      <td>...</td>\n",
       "      <td>1</td>\n",
       "      <td>0</td>\n",
       "      <td>1</td>\n",
       "      <td>1</td>\n",
       "      <td>0</td>\n",
       "      <td>1</td>\n",
       "      <td>0</td>\n",
       "      <td>1</td>\n",
       "      <td>0</td>\n",
       "      <td>0</td>\n",
       "    </tr>\n",
       "  </tbody>\n",
       "</table>\n",
       "<p>1537 rows × 69 columns</p>\n",
       "</div>"
      ],
      "text/plain": [
       "      ms_zoning_RL  ms_zoning_Rare  street_Pave  lot_shape_Reg  lot_shape_IR1  \\\n",
       "1157             1               0            1              1              0   \n",
       "141              1               0            1              1              0   \n",
       "1001             1               0            1              1              0   \n",
       "2                1               0            1              0              1   \n",
       "576              1               0            1              1              0   \n",
       "...            ...             ...          ...            ...            ...   \n",
       "1638             0               1            1              1              0   \n",
       "1095             0               0            1              1              0   \n",
       "1130             1               0            1              0              1   \n",
       "1294             1               0            1              1              0   \n",
       "860              1               0            1              1              0   \n",
       "\n",
       "      lot_shape_IR2  land_contour_Lvl  land_contour_Low  land_contour_HLS  \\\n",
       "1157              0                 1                 0                 0   \n",
       "141               0                 1                 0                 0   \n",
       "1001              0                 1                 0                 0   \n",
       "2                 0                 1                 0                 0   \n",
       "576               0                 1                 0                 0   \n",
       "...             ...               ...               ...               ...   \n",
       "1638              0                 1                 0                 0   \n",
       "1095              0                 0                 1                 0   \n",
       "1130              0                 0                 0                 1   \n",
       "1294              0                 1                 0                 0   \n",
       "860               0                 1                 0                 0   \n",
       "\n",
       "      utilities_AllPub  ...  kitchen_qual_TA  kitchen_qual_Fa  functional_Typ  \\\n",
       "1157                 1  ...                0                0               1   \n",
       "141                  1  ...                1                0               1   \n",
       "1001                 1  ...                0                0               1   \n",
       "2                    0  ...                0                0               1   \n",
       "576                  1  ...                1                0               1   \n",
       "...                ...  ...              ...              ...             ...   \n",
       "1638                 1  ...                1                0               1   \n",
       "1095                 1  ...                1                0               0   \n",
       "1130                 1  ...                0                0               1   \n",
       "1294                 1  ...                1                0               1   \n",
       "860                  1  ...                1                0               1   \n",
       "\n",
       "      paved_drive_Y  paved_drive_N  sale_type_WD   sale_type_Rare  \\\n",
       "1157              1              0              1               0   \n",
       "141               1              0              1               0   \n",
       "1001              1              0              1               0   \n",
       "2                 1              0              0               1   \n",
       "576               1              0              1               0   \n",
       "...             ...            ...            ...             ...   \n",
       "1638              0              1              1               0   \n",
       "1095              0              1              1               0   \n",
       "1130              1              0              1               0   \n",
       "1294              1              0              1               0   \n",
       "860               1              0              1               0   \n",
       "\n",
       "      sale_condition_Normal  sale_condition_Abnorml  sale_condition_Partial  \n",
       "1157                      1                       0                       0  \n",
       "141                       1                       0                       0  \n",
       "1001                      1                       0                       0  \n",
       "2                         0                       1                       0  \n",
       "576                       1                       0                       0  \n",
       "...                     ...                     ...                     ...  \n",
       "1638                      1                       0                       0  \n",
       "1095                      1                       0                       0  \n",
       "1130                      1                       0                       0  \n",
       "1294                      1                       0                       0  \n",
       "860                       1                       0                       0  \n",
       "\n",
       "[1537 rows x 69 columns]"
      ]
     },
     "execution_count": 123,
     "metadata": {},
     "output_type": "execute_result"
    }
   ],
   "source": [
    "rle_pipe.transform(X_train)"
   ]
  },
  {
   "cell_type": "markdown",
   "id": "c803b229",
   "metadata": {},
   "source": [
    "### Tree Importance Feature Selection"
   ]
  },
  {
   "cell_type": "code",
   "execution_count": 291,
   "id": "51ab4057",
   "metadata": {},
   "outputs": [],
   "source": [
    "# encode categorical featues\n",
    "cat_ti_pipe = Pipeline([\n",
    "    ('rare_label_enc', RareLabelEncoder(tol=0.05, n_categories=0)),\n",
    "    ('ordinal_enc', OrdinalEncoder(encoding_method='arbitrary'))\n",
    "])"
   ]
  },
  {
   "cell_type": "code",
   "execution_count": 292,
   "id": "3b6b3fed",
   "metadata": {},
   "outputs": [
    {
     "ename": "NotFittedError",
     "evalue": "This RareLabelEncoder instance is not fitted yet. Call 'fit' with appropriate arguments before using this estimator.",
     "output_type": "error",
     "traceback": [
      "\u001b[1;31m---------------------------------------------------------------------------\u001b[0m",
      "\u001b[1;31mNotFittedError\u001b[0m                            Traceback (most recent call last)",
      "Input \u001b[1;32mIn [292]\u001b[0m, in \u001b[0;36m<cell line: 2>\u001b[1;34m()\u001b[0m\n\u001b[0;32m      1\u001b[0m \u001b[38;5;66;03m# fit and transform train and test data\u001b[39;00m\n\u001b[1;32m----> 2\u001b[0m X_train_oe_enc \u001b[38;5;241m=\u001b[39m \u001b[43mcat_ti_pipe\u001b[49m\u001b[38;5;241;43m.\u001b[39;49m\u001b[43mtransform\u001b[49m\u001b[43m(\u001b[49m\u001b[43mX_train\u001b[49m\u001b[43m)\u001b[49m\n\u001b[0;32m      3\u001b[0m X_test_oe_enc \u001b[38;5;241m=\u001b[39m cat_ti_pipe\u001b[38;5;241m.\u001b[39mtransform(X_test)\n\u001b[0;32m      5\u001b[0m X_train_oe_enc\u001b[38;5;241m.\u001b[39mshape, X_test_oe_enc\u001b[38;5;241m.\u001b[39mshape\n",
      "File \u001b[1;32m~\\Anaconda3\\envs\\hubspot\\lib\\site-packages\\sklearn\\utils\\metaestimators.py:113\u001b[0m, in \u001b[0;36m_AvailableIfDescriptor.__get__.<locals>.<lambda>\u001b[1;34m(*args, **kwargs)\u001b[0m\n\u001b[0;32m    110\u001b[0m         \u001b[38;5;28;01mraise\u001b[39;00m attr_err\n\u001b[0;32m    112\u001b[0m     \u001b[38;5;66;03m# lambda, but not partial, allows help() to work with update_wrapper\u001b[39;00m\n\u001b[1;32m--> 113\u001b[0m     out \u001b[38;5;241m=\u001b[39m \u001b[38;5;28;01mlambda\u001b[39;00m \u001b[38;5;241m*\u001b[39margs, \u001b[38;5;241m*\u001b[39m\u001b[38;5;241m*\u001b[39mkwargs: \u001b[38;5;28mself\u001b[39m\u001b[38;5;241m.\u001b[39mfn(obj, \u001b[38;5;241m*\u001b[39margs, \u001b[38;5;241m*\u001b[39m\u001b[38;5;241m*\u001b[39mkwargs)  \u001b[38;5;66;03m# noqa\u001b[39;00m\n\u001b[0;32m    114\u001b[0m \u001b[38;5;28;01melse\u001b[39;00m:\n\u001b[0;32m    116\u001b[0m     \u001b[38;5;28;01mdef\u001b[39;00m \u001b[38;5;21mfn\u001b[39m(\u001b[38;5;241m*\u001b[39margs, \u001b[38;5;241m*\u001b[39m\u001b[38;5;241m*\u001b[39mkwargs):\n",
      "File \u001b[1;32m~\\Anaconda3\\envs\\hubspot\\lib\\site-packages\\sklearn\\pipeline.py:647\u001b[0m, in \u001b[0;36mPipeline.transform\u001b[1;34m(self, X)\u001b[0m\n\u001b[0;32m    645\u001b[0m Xt \u001b[38;5;241m=\u001b[39m X\n\u001b[0;32m    646\u001b[0m \u001b[38;5;28;01mfor\u001b[39;00m _, _, transform \u001b[38;5;129;01min\u001b[39;00m \u001b[38;5;28mself\u001b[39m\u001b[38;5;241m.\u001b[39m_iter():\n\u001b[1;32m--> 647\u001b[0m     Xt \u001b[38;5;241m=\u001b[39m \u001b[43mtransform\u001b[49m\u001b[38;5;241;43m.\u001b[39;49m\u001b[43mtransform\u001b[49m\u001b[43m(\u001b[49m\u001b[43mXt\u001b[49m\u001b[43m)\u001b[49m\n\u001b[0;32m    648\u001b[0m \u001b[38;5;28;01mreturn\u001b[39;00m Xt\n",
      "File \u001b[1;32m~\\Anaconda3\\envs\\hubspot\\lib\\site-packages\\feature_engine\\encoding\\rare_label.py:190\u001b[0m, in \u001b[0;36mRareLabelEncoder.transform\u001b[1;34m(self, X)\u001b[0m\n\u001b[0;32m    174\u001b[0m \u001b[38;5;28;01mdef\u001b[39;00m \u001b[38;5;21mtransform\u001b[39m(\u001b[38;5;28mself\u001b[39m, X: pd\u001b[38;5;241m.\u001b[39mDataFrame) \u001b[38;5;241m-\u001b[39m\u001b[38;5;241m>\u001b[39m pd\u001b[38;5;241m.\u001b[39mDataFrame:\n\u001b[0;32m    175\u001b[0m     \u001b[38;5;124;03m\"\"\"\u001b[39;00m\n\u001b[0;32m    176\u001b[0m \u001b[38;5;124;03m    Group infrequent categories. Replace infrequent categories by the string 'Rare'\u001b[39;00m\n\u001b[0;32m    177\u001b[0m \u001b[38;5;124;03m    or any other name provided by the user.\u001b[39;00m\n\u001b[1;32m   (...)\u001b[0m\n\u001b[0;32m    187\u001b[0m \u001b[38;5;124;03m        The dataframe where rare categories have been grouped.\u001b[39;00m\n\u001b[0;32m    188\u001b[0m \u001b[38;5;124;03m    \"\"\"\u001b[39;00m\n\u001b[1;32m--> 190\u001b[0m     X \u001b[38;5;241m=\u001b[39m \u001b[38;5;28;43mself\u001b[39;49m\u001b[38;5;241;43m.\u001b[39;49m\u001b[43m_check_transform_input_and_state\u001b[49m\u001b[43m(\u001b[49m\u001b[43mX\u001b[49m\u001b[43m)\u001b[49m\n\u001b[0;32m    192\u001b[0m     \u001b[38;5;28;01mfor\u001b[39;00m feature \u001b[38;5;129;01min\u001b[39;00m \u001b[38;5;28mself\u001b[39m\u001b[38;5;241m.\u001b[39mvariables_:\n\u001b[0;32m    193\u001b[0m         X[feature] \u001b[38;5;241m=\u001b[39m np\u001b[38;5;241m.\u001b[39mwhere(\n\u001b[0;32m    194\u001b[0m             X[feature]\u001b[38;5;241m.\u001b[39misin(\u001b[38;5;28mself\u001b[39m\u001b[38;5;241m.\u001b[39mencoder_dict_[feature]),\n\u001b[0;32m    195\u001b[0m             X[feature],\n\u001b[0;32m    196\u001b[0m             \u001b[38;5;28mself\u001b[39m\u001b[38;5;241m.\u001b[39mreplace_with,\n\u001b[0;32m    197\u001b[0m         )\n",
      "File \u001b[1;32m~\\Anaconda3\\envs\\hubspot\\lib\\site-packages\\feature_engine\\encoding\\base_encoder.py:123\u001b[0m, in \u001b[0;36mBaseCategoricalTransformer._check_transform_input_and_state\u001b[1;34m(self, X)\u001b[0m\n\u001b[0;32m    100\u001b[0m \u001b[38;5;124;03m\"\"\"\u001b[39;00m\n\u001b[0;32m    101\u001b[0m \u001b[38;5;124;03mChecks that the input is a dataframe and of the same size than the one used\u001b[39;00m\n\u001b[0;32m    102\u001b[0m \u001b[38;5;124;03min the fit method. Checks absence of NA.\u001b[39;00m\n\u001b[1;32m   (...)\u001b[0m\n\u001b[0;32m    119\u001b[0m \u001b[38;5;124;03m    The same dataframe entered by the user.\u001b[39;00m\n\u001b[0;32m    120\u001b[0m \u001b[38;5;124;03m\"\"\"\u001b[39;00m\n\u001b[0;32m    122\u001b[0m \u001b[38;5;66;03m# Check method fit has been called\u001b[39;00m\n\u001b[1;32m--> 123\u001b[0m \u001b[43mcheck_is_fitted\u001b[49m\u001b[43m(\u001b[49m\u001b[38;5;28;43mself\u001b[39;49m\u001b[43m)\u001b[49m\n\u001b[0;32m    125\u001b[0m \u001b[38;5;66;03m# check that input is a dataframe\u001b[39;00m\n\u001b[0;32m    126\u001b[0m X \u001b[38;5;241m=\u001b[39m _is_dataframe(X)\n",
      "File \u001b[1;32m~\\Anaconda3\\envs\\hubspot\\lib\\site-packages\\sklearn\\utils\\validation.py:1222\u001b[0m, in \u001b[0;36mcheck_is_fitted\u001b[1;34m(estimator, attributes, msg, all_or_any)\u001b[0m\n\u001b[0;32m   1217\u001b[0m     fitted \u001b[38;5;241m=\u001b[39m [\n\u001b[0;32m   1218\u001b[0m         v \u001b[38;5;28;01mfor\u001b[39;00m v \u001b[38;5;129;01min\u001b[39;00m \u001b[38;5;28mvars\u001b[39m(estimator) \u001b[38;5;28;01mif\u001b[39;00m v\u001b[38;5;241m.\u001b[39mendswith(\u001b[38;5;124m\"\u001b[39m\u001b[38;5;124m_\u001b[39m\u001b[38;5;124m\"\u001b[39m) \u001b[38;5;129;01mand\u001b[39;00m \u001b[38;5;129;01mnot\u001b[39;00m v\u001b[38;5;241m.\u001b[39mstartswith(\u001b[38;5;124m\"\u001b[39m\u001b[38;5;124m__\u001b[39m\u001b[38;5;124m\"\u001b[39m)\n\u001b[0;32m   1219\u001b[0m     ]\n\u001b[0;32m   1221\u001b[0m \u001b[38;5;28;01mif\u001b[39;00m \u001b[38;5;129;01mnot\u001b[39;00m fitted:\n\u001b[1;32m-> 1222\u001b[0m     \u001b[38;5;28;01mraise\u001b[39;00m NotFittedError(msg \u001b[38;5;241m%\u001b[39m {\u001b[38;5;124m\"\u001b[39m\u001b[38;5;124mname\u001b[39m\u001b[38;5;124m\"\u001b[39m: \u001b[38;5;28mtype\u001b[39m(estimator)\u001b[38;5;241m.\u001b[39m\u001b[38;5;18m__name__\u001b[39m})\n",
      "\u001b[1;31mNotFittedError\u001b[0m: This RareLabelEncoder instance is not fitted yet. Call 'fit' with appropriate arguments before using this estimator."
     ]
    }
   ],
   "source": [
    "# fit and transform train and test data\n",
    "X_train_oe_enc = cat_ti_pipe.transform(X_train)\n",
    "X_test_oe_enc = cat_ti_pipe.transform(X_test)\n",
    "\n",
    "X_train_oe_enc.shape, X_test_oe_enc.shape"
   ]
  },
  {
   "cell_type": "code",
   "execution_count": 210,
   "id": "c0f55a4f",
   "metadata": {},
   "outputs": [
    {
     "data": {
      "text/plain": [
       "SelectFromModel(estimator=RandomForestRegressor(n_estimators=10,\n",
       "                                                random_state=42),\n",
       "                threshold='0.5*mean')"
      ]
     },
     "execution_count": 210,
     "metadata": {},
     "output_type": "execute_result"
    }
   ],
   "source": [
    "# rf regressor\n",
    "from sklearn.ensemble import RandomForestRegressor\n",
    "from sklearn.feature_selection import SelectFromModel, SelectKBest\n",
    "\n",
    "ti_selector = SelectFromModel(RandomForestRegressor(n_estimators=10, random_state=42), threshold='0.5*mean')\n",
    "ti_selector.fit(X_train_oe_enc, y_train)"
   ]
  },
  {
   "cell_type": "code",
   "execution_count": 218,
   "id": "b7226399",
   "metadata": {},
   "outputs": [
    {
     "data": {
      "text/plain": [
       "11"
      ]
     },
     "execution_count": 218,
     "metadata": {},
     "output_type": "execute_result"
    }
   ],
   "source": [
    "# count of selected features\n",
    "ti_selected_features = X_train_oe_enc.columns[(ti_selector.get_support())]\n",
    "len(selected_features)"
   ]
  },
  {
   "cell_type": "code",
   "execution_count": 219,
   "id": "3df88ad2",
   "metadata": {},
   "outputs": [
    {
     "data": {
      "text/plain": [
       "Index(['ms_zoning', 'lot_shape', 'lot_config', 'neighborhood', 'bldg_type',\n",
       "       'house_style', 'roof_style', 'exterior_1st', 'exter_qual',\n",
       "       'central_air', 'kitchen_qual'],\n",
       "      dtype='object')"
      ]
     },
     "execution_count": 219,
     "metadata": {},
     "output_type": "execute_result"
    }
   ],
   "source": [
    "# view selected features\n",
    "ti_selected_features"
   ]
  },
  {
   "cell_type": "code",
   "execution_count": 220,
   "id": "99d0b661",
   "metadata": {
    "scrolled": true
   },
   "outputs": [
    {
     "data": {
      "image/png": "[encoded data removed]",
      "text/plain": [
       "<Figure size 432x288 with 1 Axes>"
      ]
     },
     "metadata": {
      "needs_background": "light"
     },
     "output_type": "display_data"
    }
   ],
   "source": [
    "# plot importances\n",
    "ax = pd.Series(ti_selector.estimator_.feature_importances_.ravel()).hist(bins=25)\n",
    "ax.set_xlabel('feature importance');\n",
    "ax.set_ylabel('No. of features');\n",
    "ax.set_title('Histogram of Feature Importance');"
   ]
  },
  {
   "cell_type": "code",
   "execution_count": 232,
   "id": "735cb50a",
   "metadata": {
    "scrolled": true
   },
   "outputs": [
    {
     "data": {
      "text/plain": [
       "((1537, 11), (660, 11))"
      ]
     },
     "execution_count": 232,
     "metadata": {},
     "output_type": "execute_result"
    }
   ],
   "source": [
    "# get train and test set for selected features\n",
    "X_train_ti = X_train_oe_enc[ti_selected_features.tolist()]\n",
    "X_test_ti = X_test_oe_enc[ti_selected_features.tolist()]\n",
    "\n",
    "X_train_ti.shape, X_test_ti.shape"
   ]
  },
  {
   "cell_type": "markdown",
   "id": "b3dc2dc5",
   "metadata": {},
   "source": [
    "### Recursive Feature Selection"
   ]
  },
  {
   "cell_type": "code",
   "execution_count": 221,
   "id": "cb97e6e5",
   "metadata": {},
   "outputs": [],
   "source": [
    "# imports \n",
    "from sklearn.feature_selection import RFE\n",
    "from sklearn.metrics import mean_absolute_error, mean_squared_error"
   ]
  },
  {
   "cell_type": "code",
   "execution_count": 226,
   "id": "796cfc03",
   "metadata": {},
   "outputs": [
    {
     "data": {
      "text/plain": [
       "RFE(estimator=RandomForestRegressor(n_estimators=10, random_state=42),\n",
       "    n_features_to_select=11)"
      ]
     },
     "execution_count": 226,
     "metadata": {},
     "output_type": "execute_result"
    }
   ],
   "source": [
    "# create and fit recursive feature selector\n",
    "rs_selector = RFE(RandomForestRegressor(n_estimators=10, random_state=42), n_features_to_select=11)\n",
    "rs_selector.fit(X_train_oe_enc, y_train)"
   ]
  },
  {
   "cell_type": "code",
   "execution_count": 227,
   "id": "39c4bb1c",
   "metadata": {},
   "outputs": [
    {
     "data": {
      "text/plain": [
       "11"
      ]
     },
     "execution_count": 227,
     "metadata": {},
     "output_type": "execute_result"
    }
   ],
   "source": [
    "# count of selected features\n",
    "rs_selected_features = X_train_oe_enc.columns[(rs_selector.get_support())]\n",
    "len(rs_selected_features)"
   ]
  },
  {
   "cell_type": "code",
   "execution_count": 228,
   "id": "8839b796",
   "metadata": {
    "scrolled": true
   },
   "outputs": [
    {
     "data": {
      "text/plain": [
       "Index(['ms_zoning', 'lot_shape', 'lot_config', 'neighborhood', 'bldg_type',\n",
       "       'house_style', 'roof_style', 'exterior_1st', 'exter_qual', 'heating_qc',\n",
       "       'kitchen_qual'],\n",
       "      dtype='object')"
      ]
     },
     "execution_count": 228,
     "metadata": {},
     "output_type": "execute_result"
    }
   ],
   "source": [
    "rs_selected_features"
   ]
  },
  {
   "cell_type": "code",
   "execution_count": 234,
   "id": "2c5b8621",
   "metadata": {},
   "outputs": [
    {
     "data": {
      "text/plain": [
       "((1537, 11), (660, 11))"
      ]
     },
     "execution_count": 234,
     "metadata": {},
     "output_type": "execute_result"
    }
   ],
   "source": [
    "# get train and test set for selected features\n",
    "X_train_rs = X_train_oe_enc[rs_selected_features.tolist()]\n",
    "X_test_rs = X_test_oe_enc[rs_selected_features.tolist()]\n",
    "\n",
    "X_train_rs.shape, X_test_rs.shape"
   ]
  },
  {
   "cell_type": "markdown",
   "id": "396263c2",
   "metadata": {},
   "source": [
    "### Comparing Model Performance"
   ]
  },
  {
   "cell_type": "code",
   "execution_count": 237,
   "id": "7a766098",
   "metadata": {},
   "outputs": [],
   "source": [
    "# import\n",
    "from sklearn.model_selection import cross_val_score"
   ]
  },
  {
   "cell_type": "code",
   "execution_count": 255,
   "id": "289c8b69",
   "metadata": {},
   "outputs": [],
   "source": [
    "# function to build random forest model and compare performance in train and test data\n",
    "def get_random_forest_comparison(x_train, y_train, x_test, y_test):\n",
    "    rf = RandomForestRegressor(n_estimators=200, random_state=42, max_depth=4)\n",
    "    train_score = cross_val_score(rf, x_train, y_train, cv=5,  scoring='neg_mean_squared_error')\n",
    "    train_score = abs(train_score.mean())\n",
    "    print('Train Set: ', train_score)\n",
    "    \n",
    "    test_score = cross_val_score(rf, x_test, y_test, cv=5, scoring='neg_mean_squared_error')\n",
    "    test_score = abs(test_score.mean())\n",
    "    print('Test Set:', test_score) "
   ]
  },
  {
   "cell_type": "code",
   "execution_count": 256,
   "id": "91e07e67",
   "metadata": {},
   "outputs": [
    {
     "name": "stdout",
     "output_type": "stream",
     "text": [
      "Train Set:  2367730300.639199\n",
      "Test Set: 2728284362.978178\n"
     ]
    }
   ],
   "source": [
    "x = get_random_forest_comparison(X_train_ti, y_train, X_test_ti, y_test)"
   ]
  },
  {
   "cell_type": "code",
   "execution_count": 257,
   "id": "bf613ab0",
   "metadata": {},
   "outputs": [],
   "source": [
    "rf = RandomForestRegressor(n_estimators=200, random_state=42, max_depth=4)"
   ]
  },
  {
   "cell_type": "code",
   "execution_count": 259,
   "id": "4b3d8ad9",
   "metadata": {},
   "outputs": [
    {
     "data": {
      "text/plain": [
       "RandomForestRegressor(max_depth=4, n_estimators=200, random_state=42)"
      ]
     },
     "execution_count": 259,
     "metadata": {},
     "output_type": "execute_result"
    }
   ],
   "source": [
    "rf.fit(X_train_oe_enc, y_train)"
   ]
  },
  {
   "cell_type": "code",
   "execution_count": 269,
   "id": "4c5e44cc",
   "metadata": {},
   "outputs": [],
   "source": [
    "pred = rf.predict(X_train_oe_enc)"
   ]
  },
  {
   "cell_type": "code",
   "execution_count": 270,
   "id": "de8a0f52",
   "metadata": {},
   "outputs": [
    {
     "data": {
      "text/plain": [
       "array([166895.29257517, 162422.74870162, 219714.51449579, ...,\n",
       "       155033.4987732 , 143871.16222891, 143871.16222891])"
      ]
     },
     "execution_count": 270,
     "metadata": {},
     "output_type": "execute_result"
    }
   ],
   "source": [
    "pred"
   ]
  },
  {
   "cell_type": "code",
   "execution_count": 271,
   "id": "0699c67d",
   "metadata": {},
   "outputs": [
    {
     "data": {
      "text/plain": [
       "32069.47619604507"
      ]
     },
     "execution_count": 271,
     "metadata": {},
     "output_type": "execute_result"
    }
   ],
   "source": [
    "mae = mean_absolute_error(y_train, pred)\n",
    "mae"
   ]
  },
  {
   "cell_type": "code",
   "execution_count": 263,
   "id": "12a72c28",
   "metadata": {},
   "outputs": [
    {
     "data": {
      "text/plain": [
       "2740889515.698959"
      ]
     },
     "execution_count": 263,
     "metadata": {},
     "output_type": "execute_result"
    }
   ],
   "source": [
    "mse = mean_squared_error(y_train, pred)\n",
    "mse"
   ]
  },
  {
   "cell_type": "code",
   "execution_count": 264,
   "id": "3c305587",
   "metadata": {},
   "outputs": [
    {
     "data": {
      "text/plain": [
       "52353.5052856918"
      ]
     },
     "execution_count": 264,
     "metadata": {},
     "output_type": "execute_result"
    }
   ],
   "source": [
    "np.sqrt(mse)"
   ]
  },
  {
   "cell_type": "code",
   "execution_count": 265,
   "id": "5340d3e4",
   "metadata": {},
   "outputs": [
    {
     "data": {
      "text/plain": [
       "183435.95303030303"
      ]
     },
     "execution_count": 265,
     "metadata": {},
     "output_type": "execute_result"
    }
   ],
   "source": [
    "y_test.mean()"
   ]
  },
  {
   "cell_type": "code",
   "execution_count": null,
   "id": "9bc85f63",
   "metadata": {},
   "outputs": [],
   "source": []
  }
 ],
 "metadata": {
  "kernelspec": {
   "display_name": "Python 3 (ipykernel)",
   "language": "python",
   "name": "python3"
  },
  "language_info": {
   "codemirror_mode": {
    "name": "ipython",
    "version": 3
   },
   "file_extension": ".py",
   "mimetype": "text/x-python",
   "name": "python",
   "nbconvert_exporter": "python",
   "pygments_lexer": "ipython3",
   "version": "3.9.12"
  },
  "toc": {
   "base_numbering": 1,
   "nav_menu": {},
   "number_sections": true,
   "sideBar": true,
   "skip_h1_title": false,
   "title_cell": "Table of Contents",
   "title_sidebar": "Contents",
   "toc_cell": false,
   "toc_position": {},
   "toc_section_display": true,
   "toc_window_display": true
  }
 },
 "nbformat": 4,
 "nbformat_minor": 5
}
