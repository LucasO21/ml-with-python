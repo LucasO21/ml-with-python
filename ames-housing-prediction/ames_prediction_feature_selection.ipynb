{
  "nbformat": 4,
  "nbformat_minor": 0,
  "metadata": {
    "colab": {
      "name": "ames-prediction-feature-selection.ipynb",
      "provenance": [],
      "toc_visible": true,
      "authorship_tag": "ABX9TyMZ0TrWIZJQtZVBB8/yl8dF",
      "include_colab_link": true
    },
    "kernelspec": {
      "name": "python3",
      "display_name": "Python 3"
    },
    "language_info": {
      "name": "python"
    }
  },
  "cells": [
    {
      "cell_type": "markdown",
      "metadata": {
        "id": "view-in-github",
        "colab_type": "text"
      },
      "source": [
        "<a href=\"https://colab.research.google.com/github/LucasO21/ml-with-python/blob/main/ames-housing-prediction/ames_prediction_feature_selection.ipynb\" target=\"_parent\"><img src=\"https://colab.research.google.com/assets/colab-badge.svg\" alt=\"Open In Colab\"/></a>"
      ]
    },
    {
      "cell_type": "markdown",
      "source": [
        "## Introduction"
      ],
      "metadata": {
        "id": "BQ-6RKyV5lYe"
      }
    },
    {
      "cell_type": "markdown",
      "source": [
        "In this notebook, I explore feature selection techniques to determaine the best features to use in predicting *saleprice* for the ames housing dataset. \n",
        "\n",
        "This is part a larger project to predict *saleprice* for the ames dataset. This project is focused on exploring machine learning techniques as well as implementation in python. Since this is part of a learning project, my goal was to reduce the number of features I work with so I can focus on implementation and not be overwhelmed by the high number of features."
      ],
      "metadata": {
        "id": "EzcLN7xMA7I1"
      }
    },
    {
      "cell_type": "markdown",
      "source": [
        "## Notebook Settings"
      ],
      "metadata": {
        "id": "UXOAJeqP48lO"
      }
    },
    {
      "cell_type": "code",
      "source": [
        "# mount drive\n",
        "from google.colab import drive\n",
        "drive.mount('/content/gdrive', force_remount=True)"
      ],
      "metadata": {
        "colab": {
          "base_uri": "https://localhost:8080/"
        },
        "id": "qXh9gXkX5uMa",
        "outputId": "8af33e60-b227-41a2-ba6d-368c9dd3f3a4"
      },
      "execution_count": 1,
      "outputs": [
        {
          "output_type": "stream",
          "name": "stdout",
          "text": [
            "Mounted at /content/gdrive\n"
          ]
        }
      ]
    },
    {
      "cell_type": "code",
      "source": [
        "# set working directory\n",
        "import os\n",
        "\n",
        "cwd = '/content/gdrive/MyDrive/ml-with-python/aimes_analysis'\n",
        "os.chdir(cwd)"
      ],
      "metadata": {
        "id": "1qpW_yFD5ykS"
      },
      "execution_count": 2,
      "outputs": []
    },
    {
      "cell_type": "markdown",
      "source": [
        "## Package Imports"
      ],
      "metadata": {
        "id": "dtsxLU0556uK"
      }
    },
    {
      "cell_type": "code",
      "source": [
        "# installs\n",
        "! pip install feature_engine &> /dev/null"
      ],
      "metadata": {
        "id": "342NhkX25-Zc"
      },
      "execution_count": 3,
      "outputs": []
    },
    {
      "cell_type": "code",
      "source": [
        "# imports\n",
        "import pandas as pd\n",
        "import numpy as np\n",
        "import seaborn as sns\n",
        "import matplotlib.pyplot as plt"
      ],
      "metadata": {
        "id": "vlmORSBi6MYt"
      },
      "execution_count": 4,
      "outputs": []
    },
    {
      "cell_type": "markdown",
      "source": [
        "## Load Data"
      ],
      "metadata": {
        "id": "nqSmkHrg6AIb"
      }
    },
    {
      "cell_type": "code",
      "source": [
        "# load data\n",
        "df = pd.read_csv('data/ames_training_data.csv')\n",
        "df.shape"
      ],
      "metadata": {
        "colab": {
          "base_uri": "https://localhost:8080/"
        },
        "id": "OiWgSuIF6IlK",
        "outputId": "f7d2252f-9887-4941-8a00-f0f25ad62817"
      },
      "execution_count": 7,
      "outputs": [
        {
          "output_type": "execute_result",
          "data": {
            "text/plain": [
              "(2197, 82)"
            ]
          },
          "metadata": {},
          "execution_count": 7
        }
      ]
    },
    {
      "cell_type": "code",
      "source": [
        "# view head\n",
        "df.head()"
      ],
      "metadata": {
        "colab": {
          "base_uri": "https://localhost:8080/",
          "height": 300
        },
        "id": "ufrt8VrH6U9b",
        "outputId": "191b4a87-3151-456f-dbca-6b4665ce3eed"
      },
      "execution_count": 8,
      "outputs": [
        {
          "output_type": "execute_result",
          "data": {
            "text/plain": [
              "   order        pid  ms_subclass ms_zoning  lot_frontage  lot_area street  \\\n",
              "0    534  531363010           20        RL          80.0      9605   Pave   \n",
              "1    803  906203120           20        RL          90.0     14684   Pave   \n",
              "2    956  916176030           20        RL           NaN     14375   Pave   \n",
              "3    460  528180130          120        RL          48.0      6472   Pave   \n",
              "4    487  528290030           80        RL          61.0      9734   Pave   \n",
              "\n",
              "  alley lot_shape land_contour  ... pool_area pool_qc fence misc_feature  \\\n",
              "0   NaN       Reg          Lvl  ...         0     NaN   NaN          NaN   \n",
              "1   NaN       IR1          Lvl  ...         0     NaN   NaN          NaN   \n",
              "2   NaN       IR1          Lvl  ...         0     NaN   NaN          NaN   \n",
              "3   NaN       Reg          Lvl  ...         0     NaN   NaN          NaN   \n",
              "4   NaN       IR1          Lvl  ...         0     NaN   NaN          NaN   \n",
              "\n",
              "  misc_val mo_sold yr_sold sale_type  sale_condition  saleprice  \n",
              "0        0       4    2009       WD           Normal     159000  \n",
              "1        0       6    2009       WD           Normal     271900  \n",
              "2        0       1    2009       COD         Abnorml     137500  \n",
              "3        0       4    2009       WD           Normal     248500  \n",
              "4        0       5    2009       WD           Normal     167000  \n",
              "\n",
              "[5 rows x 82 columns]"
            ],
            "text/html": [
              "\n",
              "  <div id=\"df-7b9f3e2a-71bc-4e6f-a837-e14d0101d9e8\">\n",
              "    <div class=\"colab-df-container\">\n",
              "      <div>\n",
              "<style scoped>\n",
              "    .dataframe tbody tr th:only-of-type {\n",
              "        vertical-align: middle;\n",
              "    }\n",
              "\n",
              "    .dataframe tbody tr th {\n",
              "        vertical-align: top;\n",
              "    }\n",
              "\n",
              "    .dataframe thead th {\n",
              "        text-align: right;\n",
              "    }\n",
              "</style>\n",
              "<table border=\"1\" class=\"dataframe\">\n",
              "  <thead>\n",
              "    <tr style=\"text-align: right;\">\n",
              "      <th></th>\n",
              "      <th>order</th>\n",
              "      <th>pid</th>\n",
              "      <th>ms_subclass</th>\n",
              "      <th>ms_zoning</th>\n",
              "      <th>lot_frontage</th>\n",
              "      <th>lot_area</th>\n",
              "      <th>street</th>\n",
              "      <th>alley</th>\n",
              "      <th>lot_shape</th>\n",
              "      <th>land_contour</th>\n",
              "      <th>...</th>\n",
              "      <th>pool_area</th>\n",
              "      <th>pool_qc</th>\n",
              "      <th>fence</th>\n",
              "      <th>misc_feature</th>\n",
              "      <th>misc_val</th>\n",
              "      <th>mo_sold</th>\n",
              "      <th>yr_sold</th>\n",
              "      <th>sale_type</th>\n",
              "      <th>sale_condition</th>\n",
              "      <th>saleprice</th>\n",
              "    </tr>\n",
              "  </thead>\n",
              "  <tbody>\n",
              "    <tr>\n",
              "      <th>0</th>\n",
              "      <td>534</td>\n",
              "      <td>531363010</td>\n",
              "      <td>20</td>\n",
              "      <td>RL</td>\n",
              "      <td>80.0</td>\n",
              "      <td>9605</td>\n",
              "      <td>Pave</td>\n",
              "      <td>NaN</td>\n",
              "      <td>Reg</td>\n",
              "      <td>Lvl</td>\n",
              "      <td>...</td>\n",
              "      <td>0</td>\n",
              "      <td>NaN</td>\n",
              "      <td>NaN</td>\n",
              "      <td>NaN</td>\n",
              "      <td>0</td>\n",
              "      <td>4</td>\n",
              "      <td>2009</td>\n",
              "      <td>WD</td>\n",
              "      <td>Normal</td>\n",
              "      <td>159000</td>\n",
              "    </tr>\n",
              "    <tr>\n",
              "      <th>1</th>\n",
              "      <td>803</td>\n",
              "      <td>906203120</td>\n",
              "      <td>20</td>\n",
              "      <td>RL</td>\n",
              "      <td>90.0</td>\n",
              "      <td>14684</td>\n",
              "      <td>Pave</td>\n",
              "      <td>NaN</td>\n",
              "      <td>IR1</td>\n",
              "      <td>Lvl</td>\n",
              "      <td>...</td>\n",
              "      <td>0</td>\n",
              "      <td>NaN</td>\n",
              "      <td>NaN</td>\n",
              "      <td>NaN</td>\n",
              "      <td>0</td>\n",
              "      <td>6</td>\n",
              "      <td>2009</td>\n",
              "      <td>WD</td>\n",
              "      <td>Normal</td>\n",
              "      <td>271900</td>\n",
              "    </tr>\n",
              "    <tr>\n",
              "      <th>2</th>\n",
              "      <td>956</td>\n",
              "      <td>916176030</td>\n",
              "      <td>20</td>\n",
              "      <td>RL</td>\n",
              "      <td>NaN</td>\n",
              "      <td>14375</td>\n",
              "      <td>Pave</td>\n",
              "      <td>NaN</td>\n",
              "      <td>IR1</td>\n",
              "      <td>Lvl</td>\n",
              "      <td>...</td>\n",
              "      <td>0</td>\n",
              "      <td>NaN</td>\n",
              "      <td>NaN</td>\n",
              "      <td>NaN</td>\n",
              "      <td>0</td>\n",
              "      <td>1</td>\n",
              "      <td>2009</td>\n",
              "      <td>COD</td>\n",
              "      <td>Abnorml</td>\n",
              "      <td>137500</td>\n",
              "    </tr>\n",
              "    <tr>\n",
              "      <th>3</th>\n",
              "      <td>460</td>\n",
              "      <td>528180130</td>\n",
              "      <td>120</td>\n",
              "      <td>RL</td>\n",
              "      <td>48.0</td>\n",
              "      <td>6472</td>\n",
              "      <td>Pave</td>\n",
              "      <td>NaN</td>\n",
              "      <td>Reg</td>\n",
              "      <td>Lvl</td>\n",
              "      <td>...</td>\n",
              "      <td>0</td>\n",
              "      <td>NaN</td>\n",
              "      <td>NaN</td>\n",
              "      <td>NaN</td>\n",
              "      <td>0</td>\n",
              "      <td>4</td>\n",
              "      <td>2009</td>\n",
              "      <td>WD</td>\n",
              "      <td>Normal</td>\n",
              "      <td>248500</td>\n",
              "    </tr>\n",
              "    <tr>\n",
              "      <th>4</th>\n",
              "      <td>487</td>\n",
              "      <td>528290030</td>\n",
              "      <td>80</td>\n",
              "      <td>RL</td>\n",
              "      <td>61.0</td>\n",
              "      <td>9734</td>\n",
              "      <td>Pave</td>\n",
              "      <td>NaN</td>\n",
              "      <td>IR1</td>\n",
              "      <td>Lvl</td>\n",
              "      <td>...</td>\n",
              "      <td>0</td>\n",
              "      <td>NaN</td>\n",
              "      <td>NaN</td>\n",
              "      <td>NaN</td>\n",
              "      <td>0</td>\n",
              "      <td>5</td>\n",
              "      <td>2009</td>\n",
              "      <td>WD</td>\n",
              "      <td>Normal</td>\n",
              "      <td>167000</td>\n",
              "    </tr>\n",
              "  </tbody>\n",
              "</table>\n",
              "<p>5 rows × 82 columns</p>\n",
              "</div>\n",
              "      <button class=\"colab-df-convert\" onclick=\"convertToInteractive('df-7b9f3e2a-71bc-4e6f-a837-e14d0101d9e8')\"\n",
              "              title=\"Convert this dataframe to an interactive table.\"\n",
              "              style=\"display:none;\">\n",
              "        \n",
              "  <svg xmlns=\"http://www.w3.org/2000/svg\" height=\"24px\"viewBox=\"0 0 24 24\"\n",
              "       width=\"24px\">\n",
              "    <path d=\"M0 0h24v24H0V0z\" fill=\"none\"/>\n",
              "    <path d=\"M18.56 5.44l.94 2.06.94-2.06 2.06-.94-2.06-.94-.94-2.06-.94 2.06-2.06.94zm-11 1L8.5 8.5l.94-2.06 2.06-.94-2.06-.94L8.5 2.5l-.94 2.06-2.06.94zm10 10l.94 2.06.94-2.06 2.06-.94-2.06-.94-.94-2.06-.94 2.06-2.06.94z\"/><path d=\"M17.41 7.96l-1.37-1.37c-.4-.4-.92-.59-1.43-.59-.52 0-1.04.2-1.43.59L10.3 9.45l-7.72 7.72c-.78.78-.78 2.05 0 2.83L4 21.41c.39.39.9.59 1.41.59.51 0 1.02-.2 1.41-.59l7.78-7.78 2.81-2.81c.8-.78.8-2.07 0-2.86zM5.41 20L4 18.59l7.72-7.72 1.47 1.35L5.41 20z\"/>\n",
              "  </svg>\n",
              "      </button>\n",
              "      \n",
              "  <style>\n",
              "    .colab-df-container {\n",
              "      display:flex;\n",
              "      flex-wrap:wrap;\n",
              "      gap: 12px;\n",
              "    }\n",
              "\n",
              "    .colab-df-convert {\n",
              "      background-color: #E8F0FE;\n",
              "      border: none;\n",
              "      border-radius: 50%;\n",
              "      cursor: pointer;\n",
              "      display: none;\n",
              "      fill: #1967D2;\n",
              "      height: 32px;\n",
              "      padding: 0 0 0 0;\n",
              "      width: 32px;\n",
              "    }\n",
              "\n",
              "    .colab-df-convert:hover {\n",
              "      background-color: #E2EBFA;\n",
              "      box-shadow: 0px 1px 2px rgba(60, 64, 67, 0.3), 0px 1px 3px 1px rgba(60, 64, 67, 0.15);\n",
              "      fill: #174EA6;\n",
              "    }\n",
              "\n",
              "    [theme=dark] .colab-df-convert {\n",
              "      background-color: #3B4455;\n",
              "      fill: #D2E3FC;\n",
              "    }\n",
              "\n",
              "    [theme=dark] .colab-df-convert:hover {\n",
              "      background-color: #434B5C;\n",
              "      box-shadow: 0px 1px 3px 1px rgba(0, 0, 0, 0.15);\n",
              "      filter: drop-shadow(0px 1px 2px rgba(0, 0, 0, 0.3));\n",
              "      fill: #FFFFFF;\n",
              "    }\n",
              "  </style>\n",
              "\n",
              "      <script>\n",
              "        const buttonEl =\n",
              "          document.querySelector('#df-7b9f3e2a-71bc-4e6f-a837-e14d0101d9e8 button.colab-df-convert');\n",
              "        buttonEl.style.display =\n",
              "          google.colab.kernel.accessAllowed ? 'block' : 'none';\n",
              "\n",
              "        async function convertToInteractive(key) {\n",
              "          const element = document.querySelector('#df-7b9f3e2a-71bc-4e6f-a837-e14d0101d9e8');\n",
              "          const dataTable =\n",
              "            await google.colab.kernel.invokeFunction('convertToInteractive',\n",
              "                                                     [key], {});\n",
              "          if (!dataTable) return;\n",
              "\n",
              "          const docLinkHtml = 'Like what you see? Visit the ' +\n",
              "            '<a target=\"_blank\" href=https://colab.research.google.com/notebooks/data_table.ipynb>data table notebook</a>'\n",
              "            + ' to learn more about interactive tables.';\n",
              "          element.innerHTML = '';\n",
              "          dataTable['output_type'] = 'display_data';\n",
              "          await google.colab.output.renderOutput(dataTable, element);\n",
              "          const docLink = document.createElement('div');\n",
              "          docLink.innerHTML = docLinkHtml;\n",
              "          element.appendChild(docLink);\n",
              "        }\n",
              "      </script>\n",
              "    </div>\n",
              "  </div>\n",
              "  "
            ]
          },
          "metadata": {},
          "execution_count": 8
        }
      ]
    },
    {
      "cell_type": "markdown",
      "source": [
        "__Observation:__ At first glance, we can see that *order* and *pid* are not really useful for predicting house prices. Therefore I make a note to drop these features later."
      ],
      "metadata": {
        "id": "9LaNlybp6cuF"
      }
    },
    {
      "cell_type": "markdown",
      "source": [
        "## Data Inspection"
      ],
      "metadata": {
        "id": "s6xNfH8e6tuJ"
      }
    },
    {
      "cell_type": "code",
      "source": [
        "# check for nulls\n",
        "nulls = []\n",
        "for feature in df.columns:\n",
        "    if df[feature].isnull().sum() > 0:\n",
        "        nulls.append(feature)\n",
        "\n",
        "features_with_nulls_df = df[nulls].isnull().sum() / len(df)\n",
        "features_with_nulls_df"
      ],
      "metadata": {
        "colab": {
          "base_uri": "https://localhost:8080/"
        },
        "id": "f00TqXU56bBK",
        "outputId": "0971e3fe-b54b-4d2d-d836-624237495e33"
      },
      "execution_count": 9,
      "outputs": [
        {
          "output_type": "execute_result",
          "data": {
            "text/plain": [
              "lot_frontage      0.164770\n",
              "alley             0.934911\n",
              "mas_vnr_type      0.010014\n",
              "mas_vnr_area      0.010014\n",
              "bsmt_qual         0.030496\n",
              "bsmt_cond         0.030496\n",
              "bsmt_exposure     0.031406\n",
              "bsmtfin_type_1    0.030496\n",
              "bsmtfin_sf_1      0.000455\n",
              "bsmtfin_type_2    0.030951\n",
              "bsmtfin_sf_2      0.000455\n",
              "bsmt_unf_sf       0.000455\n",
              "total_bsmt_sf     0.000455\n",
              "electrical        0.000455\n",
              "bsmt_full_bath    0.000455\n",
              "bsmt_half_bath    0.000455\n",
              "fireplace_qu      0.485207\n",
              "garage_type       0.054620\n",
              "garage_yr_blt     0.055530\n",
              "garage_finish     0.055530\n",
              "garage_cars       0.000455\n",
              "garage_area       0.000455\n",
              "garage_qual       0.055530\n",
              "garage_cond       0.055530\n",
              "pool_qc           0.994538\n",
              "fence             0.809285\n",
              "misc_feature      0.963587\n",
              "dtype: float64"
            ]
          },
          "metadata": {},
          "execution_count": 9
        }
      ]
    },
    {
      "cell_type": "code",
      "source": [
        "# get list of features to drop\n",
        "\n",
        "# 1: features with null proportion of null values >= 0.2\n",
        "# 2: order and pid can also be dropped\n",
        "\n",
        "features_to_drop_names = features_with_nulls_df[features_with_nulls_df >= 0.2].index.tolist()\n",
        "features_to_drop_names.extend(['order', 'pid'])\n",
        "features_to_drop_names"
      ],
      "metadata": {
        "colab": {
          "base_uri": "https://localhost:8080/"
        },
        "id": "pv323mZR68uM",
        "outputId": "7b09fd50-795b-40fb-8eaf-d501d38348bc"
      },
      "execution_count": 10,
      "outputs": [
        {
          "output_type": "execute_result",
          "data": {
            "text/plain": [
              "['alley', 'fireplace_qu', 'pool_qc', 'fence', 'misc_feature', 'order', 'pid']"
            ]
          },
          "metadata": {},
          "execution_count": 10
        }
      ]
    },
    {
      "cell_type": "code",
      "source": [
        "# drop unwanted features\n",
        "df.drop(features_to_drop_names, axis=1, inplace=True)\n",
        "df.shape"
      ],
      "metadata": {
        "colab": {
          "base_uri": "https://localhost:8080/"
        },
        "id": "YR2Sxp7874wP",
        "outputId": "2041565e-b5b6-4954-8a6d-7af73e4ef0c6"
      },
      "execution_count": 11,
      "outputs": [
        {
          "output_type": "execute_result",
          "data": {
            "text/plain": [
              "(2197, 75)"
            ]
          },
          "metadata": {},
          "execution_count": 11
        }
      ]
    },
    {
      "cell_type": "markdown",
      "source": [
        "## Train Test Split"
      ],
      "metadata": {
        "id": "minVOJFN782e"
      }
    },
    {
      "cell_type": "code",
      "source": [
        "# imports\n",
        "from sklearn.model_selection import train_test_split"
      ],
      "metadata": {
        "id": "Op6XRztO8BcW"
      },
      "execution_count": 12,
      "outputs": []
    },
    {
      "cell_type": "code",
      "source": [
        "# get x and y features\n",
        "X = df.drop('saleprice', axis=1)\n",
        "y = df['saleprice']\n",
        "\n",
        "# train test split\n",
        "X_train, X_test, y_train, y_test = train_test_split(X, y, test_size=0.3, random_state=100)\n",
        "X_train.shape, X_test.shape"
      ],
      "metadata": {
        "colab": {
          "base_uri": "https://localhost:8080/"
        },
        "id": "BayuWAva8E9H",
        "outputId": "5b890ac6-9e39-42bf-f66b-077c20b9d887"
      },
      "execution_count": 13,
      "outputs": [
        {
          "output_type": "execute_result",
          "data": {
            "text/plain": [
              "((1537, 74), (660, 74))"
            ]
          },
          "metadata": {},
          "execution_count": 13
        }
      ]
    },
    {
      "cell_type": "code",
      "source": [
        "# make copy of X_train and X_test\n",
        "X_train_copy = X_train.copy()\n",
        "X_test_copy = X_test.copy()"
      ],
      "metadata": {
        "id": "H98zZhcx8Mj5"
      },
      "execution_count": 14,
      "outputs": []
    },
    {
      "cell_type": "markdown",
      "source": [
        "## Data Cleaning"
      ],
      "metadata": {
        "id": "Gjjo4m7E8PSh"
      }
    },
    {
      "cell_type": "markdown",
      "source": [
        "### Missing Value Imputation"
      ],
      "metadata": {
        "id": "wof0k7vW8Uhh"
      }
    },
    {
      "cell_type": "code",
      "source": [
        "# imports\n",
        "from feature_engine.imputation import MeanMedianImputer, CategoricalImputer\n",
        "from sklearn.pipeline import Pipeline"
      ],
      "metadata": {
        "id": "yXpV54Lc8XlR"
      },
      "execution_count": 15,
      "outputs": []
    },
    {
      "cell_type": "code",
      "source": [
        "# separate feature names\n",
        "num_feature_names = X_train.select_dtypes(exclude='object').columns.tolist()\n",
        "cat_feature_names = X_train.select_dtypes(include='object').columns.tolist()"
      ],
      "metadata": {
        "id": "tK1d_Nku8dg6"
      },
      "execution_count": 16,
      "outputs": []
    },
    {
      "cell_type": "code",
      "source": [
        "# create imputers\n",
        "num_imputer = MeanMedianImputer(imputation_method='median', variables=num_feature_names)\n",
        "cat_imputer = CategoricalImputer(imputation_method='frequent', variables=cat_feature_names)"
      ],
      "metadata": {
        "id": "TfvItqts8gCj"
      },
      "execution_count": 17,
      "outputs": []
    },
    {
      "cell_type": "code",
      "source": [
        "# imputer pipeline\n",
        "imputer_pipe = Pipeline([\n",
        "    ('num_imputer', num_imputer),\n",
        "    ('cat_imputer', cat_imputer)\n",
        "])"
      ],
      "metadata": {
        "id": "-8oKAVRj8l8j"
      },
      "execution_count": 18,
      "outputs": []
    },
    {
      "cell_type": "code",
      "source": [
        "# fit imputer pipeline to train data\n",
        "imputer_pipe.fit(X_train)\n",
        "\n",
        "# transform test data\n",
        "X_train = imputer_pipe.transform(X_train)\n",
        "X_test = imputer_pipe.transform(X_test)\n",
        "\n",
        "X_train.shape, X_test.shape"
      ],
      "metadata": {
        "colab": {
          "base_uri": "https://localhost:8080/"
        },
        "id": "agqoge0N8pzr",
        "outputId": "50214492-54fc-47b2-cd63-39dbfcf7eb73"
      },
      "execution_count": 19,
      "outputs": [
        {
          "output_type": "execute_result",
          "data": {
            "text/plain": [
              "((1537, 74), (660, 74))"
            ]
          },
          "metadata": {},
          "execution_count": 19
        }
      ]
    },
    {
      "cell_type": "markdown",
      "source": [
        "### Categorical Feature Encoding"
      ],
      "metadata": {
        "id": "CO1W9Jwh8uQT"
      }
    },
    {
      "cell_type": "code",
      "source": [
        "# imports\n",
        "from feature_engine.encoding import OrdinalEncoder, RareLabelEncoder"
      ],
      "metadata": {
        "id": "kW5vJNA983i1"
      },
      "execution_count": 20,
      "outputs": []
    },
    {
      "cell_type": "code",
      "source": [
        "# encode categorical featues\n",
        "cat_encode_pipe = Pipeline([\n",
        "    ('rare_label_enc', RareLabelEncoder(tol=0.05, n_categories=4, variables=cat_feature_names)),\n",
        "    ('ordinal_enc', OrdinalEncoder(encoding_method='arbitrary'))\n",
        "])"
      ],
      "metadata": {
        "id": "UsJpQuN_89LI"
      },
      "execution_count": 21,
      "outputs": []
    },
    {
      "cell_type": "code",
      "source": [
        "# fit categorical encoder to train data\n",
        "cat_encode_pipe.fit(X_train)\n",
        "\n",
        "# transform train and test data\n",
        "X_train_enc = cat_encode_pipe.transform(X_train)\n",
        "X_test_enc = cat_encode_pipe.transform(X_test)\n",
        "\n",
        "X_train_enc.shape, X_test_enc.shape"
      ],
      "metadata": {
        "colab": {
          "base_uri": "https://localhost:8080/"
        },
        "id": "qvHIl4rs9GdX",
        "outputId": "b0d16b9a-7b7e-4db1-cb13-351a0bd26e17"
      },
      "execution_count": 22,
      "outputs": [
        {
          "output_type": "stream",
          "name": "stderr",
          "text": [
            "/usr/local/lib/python3.7/dist-packages/feature_engine/encoding/rare_label.py:177: UserWarning: The number of unique categories for variable street is less than that indicated in n_categories. Thus, all categories will be considered frequent\n",
            "  \"considered frequent\".format(var)\n",
            "/usr/local/lib/python3.7/dist-packages/feature_engine/encoding/rare_label.py:177: UserWarning: The number of unique categories for variable lot_shape is less than that indicated in n_categories. Thus, all categories will be considered frequent\n",
            "  \"considered frequent\".format(var)\n",
            "/usr/local/lib/python3.7/dist-packages/feature_engine/encoding/rare_label.py:177: UserWarning: The number of unique categories for variable land_contour is less than that indicated in n_categories. Thus, all categories will be considered frequent\n",
            "  \"considered frequent\".format(var)\n",
            "/usr/local/lib/python3.7/dist-packages/feature_engine/encoding/rare_label.py:177: UserWarning: The number of unique categories for variable utilities is less than that indicated in n_categories. Thus, all categories will be considered frequent\n",
            "  \"considered frequent\".format(var)\n",
            "/usr/local/lib/python3.7/dist-packages/feature_engine/encoding/rare_label.py:177: UserWarning: The number of unique categories for variable land_slope is less than that indicated in n_categories. Thus, all categories will be considered frequent\n",
            "  \"considered frequent\".format(var)\n",
            "/usr/local/lib/python3.7/dist-packages/feature_engine/encoding/rare_label.py:177: UserWarning: The number of unique categories for variable exter_qual is less than that indicated in n_categories. Thus, all categories will be considered frequent\n",
            "  \"considered frequent\".format(var)\n",
            "/usr/local/lib/python3.7/dist-packages/feature_engine/encoding/rare_label.py:177: UserWarning: The number of unique categories for variable bsmt_exposure is less than that indicated in n_categories. Thus, all categories will be considered frequent\n",
            "  \"considered frequent\".format(var)\n",
            "/usr/local/lib/python3.7/dist-packages/feature_engine/encoding/rare_label.py:177: UserWarning: The number of unique categories for variable central_air is less than that indicated in n_categories. Thus, all categories will be considered frequent\n",
            "  \"considered frequent\".format(var)\n",
            "/usr/local/lib/python3.7/dist-packages/feature_engine/encoding/rare_label.py:177: UserWarning: The number of unique categories for variable garage_finish is less than that indicated in n_categories. Thus, all categories will be considered frequent\n",
            "  \"considered frequent\".format(var)\n",
            "/usr/local/lib/python3.7/dist-packages/feature_engine/encoding/rare_label.py:177: UserWarning: The number of unique categories for variable paved_drive is less than that indicated in n_categories. Thus, all categories will be considered frequent\n",
            "  \"considered frequent\".format(var)\n"
          ]
        },
        {
          "output_type": "execute_result",
          "data": {
            "text/plain": [
              "((1537, 74), (660, 74))"
            ]
          },
          "metadata": {},
          "execution_count": 22
        }
      ]
    },
    {
      "cell_type": "markdown",
      "source": [
        "## Feature Selection - Data Prep"
      ],
      "metadata": {
        "id": "VE0rdKW49JoI"
      }
    },
    {
      "cell_type": "markdown",
      "source": [
        "### Remove Constants & Quasi-Constants"
      ],
      "metadata": {
        "id": "BJgYBZae9PdY"
      }
    },
    {
      "cell_type": "code",
      "source": [
        "# imports\n",
        "from feature_engine.selection import DropConstantFeatures"
      ],
      "metadata": {
        "id": "xxCxRpPr9UVZ"
      },
      "execution_count": 23,
      "outputs": []
    },
    {
      "cell_type": "code",
      "source": [
        "# create selector\n",
        "constants_selector = DropConstantFeatures(tol=0.99, variables=None, missing_values='raise')\n",
        "\n",
        "# fit selector\n",
        "constants_selector.fit(X_train_enc)\n",
        "\n",
        "# view constant features to drop\n",
        "constants_selector.features_to_drop_"
      ],
      "metadata": {
        "colab": {
          "base_uri": "https://localhost:8080/"
        },
        "id": "U7tQpqDf9WOp",
        "outputId": "cbfcd344-c426-41ce-fbc1-eba1277ebd90"
      },
      "execution_count": 25,
      "outputs": [
        {
          "output_type": "execute_result",
          "data": {
            "text/plain": [
              "['street', 'utilities', 'condition_2', 'pool_area']"
            ]
          },
          "metadata": {},
          "execution_count": 25
        }
      ]
    },
    {
      "cell_type": "markdown",
      "source": [
        "__Observation:__ *street, utilities, condition_2 and pool* will be dropped."
      ],
      "metadata": {
        "id": "sJ7PcdFO9apS"
      }
    },
    {
      "cell_type": "code",
      "source": [
        "# transform train and test data\n",
        "X_train_qc = constants_selector.transform(X_train_enc)\n",
        "X_test_qc = constants_selector.transform(X_test_enc)\n",
        "\n",
        "X_train_qc.shape, X_test_qc.shape"
      ],
      "metadata": {
        "colab": {
          "base_uri": "https://localhost:8080/"
        },
        "id": "No_IFSAo9rnc",
        "outputId": "5d2ace64-8cca-4d1e-c877-55160182a4b0"
      },
      "execution_count": 26,
      "outputs": [
        {
          "output_type": "execute_result",
          "data": {
            "text/plain": [
              "((1537, 70), (660, 70))"
            ]
          },
          "metadata": {},
          "execution_count": 26
        }
      ]
    },
    {
      "cell_type": "markdown",
      "source": [
        "### Remove Duplicated Features"
      ],
      "metadata": {
        "id": "4YoWxq9R9yXd"
      }
    },
    {
      "cell_type": "code",
      "source": [
        "# imports\n",
        "from feature_engine.selection import DropDuplicateFeatures"
      ],
      "metadata": {
        "id": "69a_0CZk91at"
      },
      "execution_count": 27,
      "outputs": []
    },
    {
      "cell_type": "code",
      "source": [
        "# create duplicate features selector\n",
        "dup_features = DropConstantFeatures(variables=None, missing_values='raise')\n",
        "\n",
        "# fit duplicate features selector to train data\n",
        "dup_features.fit(X_train_qc)\n",
        "\n",
        "# view duplicated features\n",
        "dup_features.features_to_drop_"
      ],
      "metadata": {
        "colab": {
          "base_uri": "https://localhost:8080/"
        },
        "id": "543L8SUR93j0",
        "outputId": "dd0e4448-4a4d-4c32-98a5-ddfc5c1ea607"
      },
      "execution_count": 28,
      "outputs": [
        {
          "output_type": "execute_result",
          "data": {
            "text/plain": [
              "[]"
            ]
          },
          "metadata": {},
          "execution_count": 28
        }
      ]
    },
    {
      "cell_type": "markdown",
      "source": [
        "__Observation:__ There are no duplicated features to drop."
      ],
      "metadata": {
        "id": "Cud5DNQB97Fu"
      }
    },
    {
      "cell_type": "markdown",
      "source": [
        "### Remove Correlated Numeric Features"
      ],
      "metadata": {
        "id": "LjMxn8bI9-V-"
      }
    },
    {
      "cell_type": "code",
      "source": [
        "# import\n",
        "from feature_engine.selection import SmartCorrelatedSelection\n",
        "from sklearn.ensemble import RandomForestRegressor"
      ],
      "metadata": {
        "id": "K1DK7J6w-EG3"
      },
      "execution_count": 29,
      "outputs": []
    },
    {
      "cell_type": "code",
      "source": [
        "# random forest model\n",
        "rf = RandomForestRegressor(n_estimators=200, random_state=42, max_depth=4)\n",
        "\n",
        "# correlation selector\n",
        "corr_selector = SmartCorrelatedSelection(\n",
        "    variables=X_train_qc.select_dtypes(exclude='object').columns.tolist(),\n",
        "    method='pearson',\n",
        "    threshold=0.8,\n",
        "    missing_values='raise',\n",
        "    selection_method='model_performance',\n",
        "    estimator=rf,\n",
        "    scoring='neg_mean_absolute_error',\n",
        "    cv=5\n",
        "\n",
        ")\n",
        "\n",
        "# fit\n",
        "corr_selector.fit(X_train_qc, y_train)"
      ],
      "metadata": {
        "colab": {
          "base_uri": "https://localhost:8080/"
        },
        "id": "KcT6S9jU-G3-",
        "outputId": "cba08bfc-be69-4a1f-e5df-cbb13e4694a1"
      },
      "execution_count": 30,
      "outputs": [
        {
          "output_type": "execute_result",
          "data": {
            "text/plain": [
              "SmartCorrelatedSelection(cv=5,\n",
              "                         estimator=RandomForestRegressor(max_depth=4,\n",
              "                                                         n_estimators=200,\n",
              "                                                         random_state=42),\n",
              "                         missing_values='raise',\n",
              "                         scoring='neg_mean_absolute_error',\n",
              "                         selection_method='model_performance',\n",
              "                         variables=['ms_subclass', 'ms_zoning', 'lot_frontage',\n",
              "                                    'lot_area', 'lot_shape', 'land_contour',\n",
              "                                    'lot_config', 'land_slope', 'neighborhood',\n",
              "                                    'condition_1', 'bldg_type', 'house_style',\n",
              "                                    'overall_qual', 'overall_cond',\n",
              "                                    'year_built', 'year_remod/add',\n",
              "                                    'roof_style', 'roof_matl', 'exterior_1st',\n",
              "                                    'exterior_2nd', 'mas_vnr_type',\n",
              "                                    'mas_vnr_area', 'exter_qual', 'exter_cond',\n",
              "                                    'foundation', 'bsmt_qual', 'bsmt_cond',\n",
              "                                    'bsmt_exposure', 'bsmtfin_type_1',\n",
              "                                    'bsmtfin_sf_1', ...])"
            ]
          },
          "metadata": {},
          "execution_count": 30
        }
      ]
    },
    {
      "cell_type": "code",
      "source": [
        "# view correlated feature sets\n",
        "corr_selector.correlated_feature_sets_"
      ],
      "metadata": {
        "colab": {
          "base_uri": "https://localhost:8080/"
        },
        "id": "1vnoIkVE-MnQ",
        "outputId": "5d338b3e-cad5-4fba-e0e4-e142d79db569"
      },
      "execution_count": 31,
      "outputs": [
        {
          "output_type": "execute_result",
          "data": {
            "text/plain": [
              "[{'2nd_flr_sf', 'house_style'},\n",
              " {'exterior_1st', 'exterior_2nd'},\n",
              " {'1st_flr_sf', 'total_bsmt_sf'},\n",
              " {'gr_liv_area', 'totrms_abvgrd'},\n",
              " {'garage_area', 'garage_cars'}]"
            ]
          },
          "metadata": {},
          "execution_count": 31
        }
      ]
    },
    {
      "cell_type": "code",
      "source": [
        "# view dropped correlated features\n",
        "corr_selector.features_to_drop_"
      ],
      "metadata": {
        "colab": {
          "base_uri": "https://localhost:8080/"
        },
        "id": "1tYE4Vuv-R4Z",
        "outputId": "6170cb0f-08b7-4bd9-ebc8-d1ecc2cbb8a8"
      },
      "execution_count": 32,
      "outputs": [
        {
          "output_type": "execute_result",
          "data": {
            "text/plain": [
              "['house_style', 'exterior_2nd', '1st_flr_sf', 'totrms_abvgrd', 'garage_area']"
            ]
          },
          "metadata": {},
          "execution_count": 32
        }
      ]
    },
    {
      "cell_type": "code",
      "source": [
        "# fit correlation selector to train and test sets\n",
        "X_train_corr = corr_selector.transform(X_train_qc)\n",
        "X_test_corr = corr_selector.transform(X_test_qc)\n",
        "\n",
        "X_train_corr.shape, X_test_corr.shape"
      ],
      "metadata": {
        "colab": {
          "base_uri": "https://localhost:8080/"
        },
        "id": "OLieQsve-ULZ",
        "outputId": "2d46aca3-3fa0-4193-b864-0144668c4099"
      },
      "execution_count": 33,
      "outputs": [
        {
          "output_type": "execute_result",
          "data": {
            "text/plain": [
              "((1537, 65), (660, 65))"
            ]
          },
          "metadata": {},
          "execution_count": 33
        }
      ]
    },
    {
      "cell_type": "markdown",
      "source": [
        "## Feature Importance - Embedded Methods"
      ],
      "metadata": {
        "id": "2OIKYsM--Xwx"
      }
    },
    {
      "cell_type": "markdown",
      "source": [
        "### Tree Importance"
      ],
      "metadata": {
        "id": "3VZvZi7N-jYq"
      }
    },
    {
      "cell_type": "code",
      "source": [
        "# import\n",
        "from sklearn.feature_selection import SelectFromModel, SelectKBest"
      ],
      "metadata": {
        "id": "P3DffLiJ-mkr"
      },
      "execution_count": 34,
      "outputs": []
    },
    {
      "cell_type": "code",
      "source": [
        "# create selector\n",
        "ti_selector = SelectFromModel(RandomForestRegressor(n_estimators=100, max_depth=4, random_state=42))\n",
        "\n",
        "# fit selector\n",
        "ti_selector.fit(X_train_corr, y_train)\n",
        "\n",
        "# view selected features\n",
        "ti_selected_features = X_train_corr.columns[(ti_selector.get_support())]\n",
        "ti_selected_features"
      ],
      "metadata": {
        "colab": {
          "base_uri": "https://localhost:8080/"
        },
        "id": "xSL5XZuy-oMk",
        "outputId": "73f9bb4e-7eda-4dfd-fbc0-d73d150953dc"
      },
      "execution_count": 35,
      "outputs": [
        {
          "output_type": "execute_result",
          "data": {
            "text/plain": [
              "Index(['overall_qual', 'year_built', 'total_bsmt_sf', 'gr_liv_area',\n",
              "       'screen_porch'],\n",
              "      dtype='object')"
            ]
          },
          "metadata": {},
          "execution_count": 35
        }
      ]
    },
    {
      "cell_type": "code",
      "source": [
        "# transform train and test data\n",
        "X_train_ti = X_train_corr[ti_selected_features.tolist()]\n",
        "X_test_ti = X_test_corr[ti_selected_features.tolist()]\n",
        "\n",
        "X_train_ti.shape, X_test_ti.shape"
      ],
      "metadata": {
        "colab": {
          "base_uri": "https://localhost:8080/"
        },
        "id": "pRcg3QAD-u6U",
        "outputId": "66d01ab0-f7e5-43cf-9e06-b38d7beb9047"
      },
      "execution_count": 36,
      "outputs": [
        {
          "output_type": "execute_result",
          "data": {
            "text/plain": [
              "((1537, 5), (660, 5))"
            ]
          },
          "metadata": {},
          "execution_count": 36
        }
      ]
    },
    {
      "cell_type": "markdown",
      "source": [
        "### Recursive Feature Selection"
      ],
      "metadata": {
        "id": "iG41NLei-1mE"
      }
    },
    {
      "cell_type": "code",
      "source": [
        "# imports\n",
        "from sklearn.feature_selection import RFE"
      ],
      "metadata": {
        "id": "lsDGEtGa-6mu"
      },
      "execution_count": 37,
      "outputs": []
    },
    {
      "cell_type": "code",
      "source": [
        "# create selector\n",
        "rs_selector = RFE(RandomForestRegressor(n_estimators=100, max_depth=4, random_state=42))\n",
        "\n",
        "# fit selector\n",
        "rs_selector.fit(X_train_corr, y_train)\n",
        "\n",
        "# view selected features\n",
        "rs_selected_features = X_train_corr.columns[(rs_selector.get_support())]\n",
        "rs_selected_features"
      ],
      "metadata": {
        "colab": {
          "base_uri": "https://localhost:8080/"
        },
        "id": "bo6ZNYVA-8id",
        "outputId": "9f9ee022-3745-4365-dfdd-4c11c5c2057f"
      },
      "execution_count": 38,
      "outputs": [
        {
          "output_type": "execute_result",
          "data": {
            "text/plain": [
              "Index(['ms_zoning', 'lot_frontage', 'lot_area', 'land_slope', 'neighborhood',\n",
              "       'overall_qual', 'year_built', 'year_remod/add', 'roof_matl',\n",
              "       'exterior_1st', 'mas_vnr_area', 'exter_qual', 'bsmt_qual',\n",
              "       'bsmt_exposure', 'bsmtfin_sf_1', 'bsmt_unf_sf', 'total_bsmt_sf',\n",
              "       'central_air', '2nd_flr_sf', 'gr_liv_area', 'bsmt_full_bath',\n",
              "       'full_bath', 'bedroom_abvgr', 'kitchen_qual', 'fireplaces',\n",
              "       'garage_type', 'garage_finish', 'garage_cars', 'wood_deck_sf',\n",
              "       'open_porch_sf', 'screen_porch', 'mo_sold'],\n",
              "      dtype='object')"
            ]
          },
          "metadata": {},
          "execution_count": 38
        }
      ]
    },
    {
      "cell_type": "code",
      "source": [
        "# get train and test sets\n",
        "X_train_rfe = X_train_corr[rs_selected_features.tolist()]\n",
        "X_test_rfe = X_test_corr[rs_selected_features.tolist()]\n",
        "\n",
        "X_train_rfe.shape, X_test_rfe.shape"
      ],
      "metadata": {
        "colab": {
          "base_uri": "https://localhost:8080/"
        },
        "id": "y1viZxkL--QX",
        "outputId": "3597554f-8e55-4b40-ffab-97dab2940368"
      },
      "execution_count": 39,
      "outputs": [
        {
          "output_type": "execute_result",
          "data": {
            "text/plain": [
              "((1537, 32), (660, 32))"
            ]
          },
          "metadata": {},
          "execution_count": 39
        }
      ]
    },
    {
      "cell_type": "markdown",
      "source": [
        "### Lasso Feature Selection"
      ],
      "metadata": {
        "id": "NbY0lxDG_xYU"
      }
    },
    {
      "cell_type": "code",
      "source": [
        "# imports\n",
        "from sklearn.linear_model import Lasso, LinearRegression\n",
        "from sklearn.preprocessing import StandardScaler"
      ],
      "metadata": {
        "id": "y50ZpLQa_15P"
      },
      "execution_count": 40,
      "outputs": []
    },
    {
      "cell_type": "code",
      "source": [
        "# standard scaler\n",
        "sc = StandardScaler()\n",
        "sc.fit(X_train_corr)"
      ],
      "metadata": {
        "colab": {
          "base_uri": "https://localhost:8080/"
        },
        "id": "2zg7LgvL_3xx",
        "outputId": "9895ad9a-4dbc-450b-e153-420ea35fd77a"
      },
      "execution_count": 41,
      "outputs": [
        {
          "output_type": "execute_result",
          "data": {
            "text/plain": [
              "StandardScaler()"
            ]
          },
          "metadata": {},
          "execution_count": 41
        }
      ]
    },
    {
      "cell_type": "code",
      "source": [
        "# get selector\n",
        "lasso_selector = SelectFromModel(Lasso(alpha=100))\n",
        "\n",
        "# fit selector\n",
        "lasso_selector.fit(sc.transform(X_train_corr), y_train)\n",
        "\n",
        "# view selected features\n",
        "lasso_selected_features = X_train_corr.columns[(lasso_selector.get_support())]\n",
        "lasso_selected_features"
      ],
      "metadata": {
        "colab": {
          "base_uri": "https://localhost:8080/"
        },
        "id": "TSPGZdCE_7dR",
        "outputId": "3213b0ca-0d93-4245-90f9-f46000294b18"
      },
      "execution_count": 42,
      "outputs": [
        {
          "output_type": "execute_result",
          "data": {
            "text/plain": [
              "Index(['ms_subclass', 'ms_zoning', 'lot_frontage', 'lot_area', 'lot_shape',\n",
              "       'land_contour', 'lot_config', 'land_slope', 'neighborhood',\n",
              "       'condition_1', 'bldg_type', 'overall_qual', 'overall_cond',\n",
              "       'year_built', 'year_remod/add', 'roof_style', 'roof_matl',\n",
              "       'exterior_1st', 'mas_vnr_type', 'mas_vnr_area', 'exter_qual',\n",
              "       'exter_cond', 'foundation', 'bsmt_qual', 'bsmt_exposure',\n",
              "       'bsmtfin_type_1', 'bsmtfin_sf_1', 'bsmtfin_type_2', 'bsmtfin_sf_2',\n",
              "       'total_bsmt_sf', 'heating_qc', 'central_air', '2nd_flr_sf',\n",
              "       'low_qual_fin_sf', 'gr_liv_area', 'bsmt_full_bath', 'bsmt_half_bath',\n",
              "       'full_bath', 'half_bath', 'bedroom_abvgr', 'kitchen_abvgr',\n",
              "       'kitchen_qual', 'functional', 'fireplaces', 'garage_type',\n",
              "       'garage_yr_blt', 'garage_finish', 'garage_cars', 'garage_qual',\n",
              "       'garage_cond', 'paved_drive', 'wood_deck_sf', 'open_porch_sf',\n",
              "       'enclosed_porch', '3ssn_porch', 'screen_porch', 'misc_val', 'mo_sold',\n",
              "       'yr_sold', 'sale_type', 'sale_condition'],\n",
              "      dtype='object')"
            ]
          },
          "metadata": {},
          "execution_count": 42
        }
      ]
    },
    {
      "cell_type": "code",
      "source": [
        "# get train and test sets\n",
        "X_train_lasso = X_train_corr[lasso_selected_features.tolist()]\n",
        "X_test_lasso = X_test_corr[lasso_selected_features.tolist()]\n",
        "\n",
        "X_train_lasso.shape, X_test_lasso.shape"
      ],
      "metadata": {
        "colab": {
          "base_uri": "https://localhost:8080/"
        },
        "id": "mAzCHZftABZC",
        "outputId": "07db13cc-6a96-4336-a4cb-921fa65b1e60"
      },
      "execution_count": 43,
      "outputs": [
        {
          "output_type": "execute_result",
          "data": {
            "text/plain": [
              "((1537, 61), (660, 61))"
            ]
          },
          "metadata": {},
          "execution_count": 43
        }
      ]
    },
    {
      "cell_type": "markdown",
      "source": [
        "## Comparing Model Performance"
      ],
      "metadata": {
        "id": "2CM31n56AGZS"
      }
    },
    {
      "cell_type": "code",
      "source": [
        "# import\n",
        "from sklearn.model_selection import cross_val_score"
      ],
      "metadata": {
        "id": "vag_4ESVAJ4T"
      },
      "execution_count": 44,
      "outputs": []
    },
    {
      "cell_type": "code",
      "source": [
        "# function to build random forest model and compare performance in train and test data\n",
        "def get_random_forest_comparison(x_train, y_train, x_test, y_test, method):\n",
        "    rf = RandomForestRegressor(n_estimators=200, random_state=42, max_depth=4)\n",
        "    train_score = cross_val_score(rf, x_train, y_train, cv=5,  scoring='neg_mean_squared_error')\n",
        "    train_score = np.sqrt(abs(train_score.mean()))\n",
        "        \n",
        "    test_score = cross_val_score(rf, x_test, y_test, cv=5, scoring='neg_mean_squared_error')\n",
        "    test_score = np.sqrt(abs(test_score.mean()))\n",
        "    \n",
        "    print('Feature Selection Method: ', method)\n",
        "    print('------------------------------------------------')\n",
        "    print('Train Set RMSE: ', train_score)\n",
        "    print('Test Set: RMSE', test_score) "
      ],
      "metadata": {
        "id": "fixCcgJYAVM0"
      },
      "execution_count": 45,
      "outputs": []
    },
    {
      "cell_type": "code",
      "source": [
        "# correlated features selection\n",
        "get_random_forest_comparison(X_train_corr, y_train, X_test_corr, y_test, method='Correlated Feature Selection')"
      ],
      "metadata": {
        "colab": {
          "base_uri": "https://localhost:8080/"
        },
        "id": "av8rJVYJAZWl",
        "outputId": "3898356a-760f-4f5a-b4fb-8fb69e382b78"
      },
      "execution_count": 46,
      "outputs": [
        {
          "output_type": "stream",
          "name": "stdout",
          "text": [
            "Feature Selection Method:  Correlated Feature Selection\n",
            "------------------------------------------------\n",
            "Train Set RMSE:  31877.45755874098\n",
            "Test Set: RMSE 33385.724257097805\n"
          ]
        }
      ]
    },
    {
      "cell_type": "code",
      "source": [
        "# tree importance\n",
        "get_random_forest_comparison(X_train_ti, y_train, X_test_ti.fillna(0), y_test, method='Tree Importance')"
      ],
      "metadata": {
        "colab": {
          "base_uri": "https://localhost:8080/"
        },
        "id": "GwlfZRrSAbOd",
        "outputId": "044c8c4d-f2b8-48d3-be65-dcb5f0abfa2f"
      },
      "execution_count": 47,
      "outputs": [
        {
          "output_type": "stream",
          "name": "stdout",
          "text": [
            "Feature Selection Method:  Tree Importance\n",
            "------------------------------------------------\n",
            "Train Set RMSE:  31832.601335170697\n",
            "Test Set: RMSE 33387.93711807962\n"
          ]
        }
      ]
    },
    {
      "cell_type": "code",
      "source": [
        "# recursive feature selection\n",
        "get_random_forest_comparison(X_train_rfe, y_train, X_test_rfe.fillna(0), y_test, method='Recursive Feature Selection')"
      ],
      "metadata": {
        "colab": {
          "base_uri": "https://localhost:8080/"
        },
        "id": "dYKKqNHiAhP2",
        "outputId": "561c68dd-0aff-472f-a7a8-d5e745c9c2a5"
      },
      "execution_count": 48,
      "outputs": [
        {
          "output_type": "stream",
          "name": "stdout",
          "text": [
            "Feature Selection Method:  Recursive Feature Selection\n",
            "------------------------------------------------\n",
            "Train Set RMSE:  31795.67586603215\n",
            "Test Set: RMSE 33313.12216390058\n"
          ]
        }
      ]
    },
    {
      "cell_type": "code",
      "source": [
        "# lasso\n",
        "get_random_forest_comparison(X_train_lasso, y_train, X_test_lasso.fillna(0), y_test, method='Lasso Feature Selection')"
      ],
      "metadata": {
        "colab": {
          "base_uri": "https://localhost:8080/"
        },
        "id": "W4c1Ote_AmHu",
        "outputId": "8a370e43-76f7-45d9-b7d6-4e079fc50817"
      },
      "execution_count": 49,
      "outputs": [
        {
          "output_type": "stream",
          "name": "stdout",
          "text": [
            "Feature Selection Method:  Lasso Feature Selection\n",
            "------------------------------------------------\n",
            "Train Set RMSE:  31858.423447196503\n",
            "Test Set: RMSE 33221.59665143214\n"
          ]
        }
      ]
    },
    {
      "cell_type": "markdown",
      "source": [
        "__Observation:__ The RFE and Lasso method of feature selection are showing the best performance. We should be fine with using any of those methods to select features. For the purpose of this project, we'll use the features derived from the RFE method. "
      ],
      "metadata": {
        "id": "W3rfH7rJApQZ"
      }
    },
    {
      "cell_type": "markdown",
      "source": [
        "## Save Training & Test Feature Lists"
      ],
      "metadata": {
        "id": "QutFeN_gAxbw"
      }
    },
    {
      "cell_type": "code",
      "source": [
        "# save recursive feature elimination dataset\n",
        "X_train_rfe.columns"
      ],
      "metadata": {
        "colab": {
          "base_uri": "https://localhost:8080/"
        },
        "id": "zfxFiT5-A2Xg",
        "outputId": "f66c382b-e6c1-4c68-8196-24d2bdd3570e"
      },
      "execution_count": 50,
      "outputs": [
        {
          "output_type": "execute_result",
          "data": {
            "text/plain": [
              "Index(['ms_zoning', 'lot_frontage', 'lot_area', 'land_slope', 'neighborhood',\n",
              "       'overall_qual', 'year_built', 'year_remod/add', 'roof_matl',\n",
              "       'exterior_1st', 'mas_vnr_area', 'exter_qual', 'bsmt_qual',\n",
              "       'bsmt_exposure', 'bsmtfin_sf_1', 'bsmt_unf_sf', 'total_bsmt_sf',\n",
              "       'central_air', '2nd_flr_sf', 'gr_liv_area', 'bsmt_full_bath',\n",
              "       'full_bath', 'bedroom_abvgr', 'kitchen_qual', 'fireplaces',\n",
              "       'garage_type', 'garage_finish', 'garage_cars', 'wood_deck_sf',\n",
              "       'open_porch_sf', 'screen_porch', 'mo_sold'],\n",
              "      dtype='object')"
            ]
          },
          "metadata": {},
          "execution_count": 50
        }
      ]
    },
    {
      "cell_type": "code",
      "source": [
        ""
      ],
      "metadata": {
        "id": "cltjJo1iA4FA"
      },
      "execution_count": null,
      "outputs": []
    }
  ]
}